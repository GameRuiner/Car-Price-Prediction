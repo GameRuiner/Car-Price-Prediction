{
 "cells": [
  {
   "cell_type": "code",
   "id": "d9804bf753f24201",
   "metadata": {
    "ExecuteTime": {
     "end_time": "2025-03-22T10:01:14.686150500Z",
     "start_time": "2025-03-22T09:36:09.837492Z"
    }
   },
   "source": [
    "import pandas as pd\n",
    "import numpy as np\n",
    "from datetime import datetime\n",
    "import matplotlib.pyplot as plt\n",
    "import seaborn as sns\n",
    "from sklearn.model_selection import KFold\n",
    "from sklearn.metrics import mean_squared_error\n",
    "import catboost as cb\n",
    "import optuna\n",
    "from optuna.integration import CatBoostPruningCallback\n",
    "import warnings\n",
    "warnings.filterwarnings('ignore')"
   ],
   "outputs": [],
   "execution_count": 180
  },
  {
   "metadata": {
    "ExecuteTime": {
     "end_time": "2025-03-22T10:01:14.686150500Z",
     "start_time": "2025-03-22T09:36:09.872085Z"
    }
   },
   "cell_type": "code",
   "source": [
    "train_data = pd.read_csv('../data/raw/sales_ads_train.csv')\n",
    "test_data = pd.read_csv('../data/raw/sales_ads_test.csv')"
   ],
   "id": "5124edc0f26e517f",
   "outputs": [],
   "execution_count": 181
  },
  {
   "metadata": {
    "ExecuteTime": {
     "end_time": "2025-03-22T10:01:14.686150500Z",
     "start_time": "2025-03-22T09:36:11.822496Z"
    }
   },
   "cell_type": "code",
   "source": "train_data.shape",
   "id": "600e8ec72a290d44",
   "outputs": [
    {
     "data": {
      "text/plain": [
       "(135397, 25)"
      ]
     },
     "execution_count": 182,
     "metadata": {},
     "output_type": "execute_result"
    }
   ],
   "execution_count": 182
  },
  {
   "metadata": {
    "ExecuteTime": {
     "end_time": "2025-03-22T10:01:14.686150500Z",
     "start_time": "2025-03-22T09:36:11.850427Z"
    }
   },
   "cell_type": "code",
   "source": "test_data.shape",
   "id": "fa699989bb64a8e8",
   "outputs": [
    {
     "data": {
      "text/plain": [
       "(72907, 24)"
      ]
     },
     "execution_count": 183,
     "metadata": {},
     "output_type": "execute_result"
    }
   ],
   "execution_count": 183
  },
  {
   "metadata": {
    "ExecuteTime": {
     "end_time": "2025-03-22T10:01:14.686150500Z",
     "start_time": "2025-03-22T09:36:12.304036Z"
    }
   },
   "cell_type": "code",
   "source": [
    "test_ids = test_data['ID'].values\n",
    "train_data['is_train'] = 1\n",
    "test_data['is_train'] = 0\n",
    "all_data = pd.concat([train_data, test_data], axis=0, ignore_index=True)\n",
    "all_data['log_Cena'] = np.log1p(all_data['Cena'])"
   ],
   "id": "722a40fcdcb7f4db",
   "outputs": [],
   "execution_count": 184
  },
  {
   "metadata": {
    "ExecuteTime": {
     "end_time": "2025-03-22T10:01:14.686150500Z",
     "start_time": "2025-03-22T09:36:12.344623Z"
    }
   },
   "cell_type": "code",
   "source": [
    "current_year = datetime.now().year\n",
    "all_data['Wiek_pojazdu'] = current_year - all_data['Rok_produkcji']\n",
    "all_data"
   ],
   "id": "f264eaec0bc766e4",
   "outputs": [
    {
     "data": {
      "text/plain": [
       "           ID     Cena Waluta  Stan   Marka_pojazdu   Model_pojazdu  \\\n",
       "0           1  13900.0    PLN  Used         Renault    Grand Espace   \n",
       "1           2  25900.0    PLN  Used         Renault          Megane   \n",
       "2           3  35900.0    PLN  Used            Opel          Zafira   \n",
       "3           4   5999.0    PLN  Used            Ford           Focus   \n",
       "4           5  44800.0    PLN  Used          Toyota         Avensis   \n",
       "...       ...      ...    ...   ...             ...             ...   \n",
       "208299  72903      NaN    PLN  Used      Volkswagen          Tiguan   \n",
       "208300  72904      NaN    PLN  Used            Ford            Kuga   \n",
       "208301  72905      NaN    PLN  Used          Toyota         Avensis   \n",
       "208302  72906      NaN    PLN  Used         Renault          Trafic   \n",
       "208303  72907      NaN    PLN  Used  DS Automobiles  DS 7 Crossback   \n",
       "\n",
       "                            Wersja_pojazdu Generacja_pojazdu  Rok_produkcji  \\\n",
       "0                   Gr 2.0T 16V Expression               NaN         2005.0   \n",
       "1                              1.6 16V 110   III (2008-2016)         2010.0   \n",
       "2       Tourer 1.6 CDTI ecoFLEX Start/Stop     C (2011-2019)         2015.0   \n",
       "3            1.6 TDCi FX Silver / Silver X   Mk2 (2004-2011)         2007.0   \n",
       "4                                      1.8       III (2009-)         2013.0   \n",
       "...                                    ...               ...            ...   \n",
       "208299       2.0 TSI BMT 4Mot Highline DSG        II (2016-)         2016.0   \n",
       "208300                      2.0 TDCi Trend     I (2008-2012)         2009.0   \n",
       "208301                                 NaN       III (2009-)         2016.0   \n",
       "208302              2.0 dCi 115 Combi L1H1    II (2001-2014)         2009.0   \n",
       "208303              2.0 BlueHDi Grand Chic               NaN         2020.0   \n",
       "\n",
       "        Przebieg_km  ...   Kolor  Kraj_pochodzenia Pierwszy_wlasciciel  \\\n",
       "0          213000.0  ...    blue               NaN                 NaN   \n",
       "1          117089.0  ...  silver               NaN                 NaN   \n",
       "2          115600.0  ...   white           Denmark                 NaN   \n",
       "3          218000.0  ...    blue               NaN                 NaN   \n",
       "4               NaN  ...   other            Poland                 Yes   \n",
       "...             ...  ...     ...               ...                 ...   \n",
       "208299      53000.0  ...   black            Poland                 Yes   \n",
       "208300     188132.0  ...   black           Germany                 NaN   \n",
       "208301      76786.0  ...    blue            Poland                 Yes   \n",
       "208302     204300.0  ...    blue               NaN                 NaN   \n",
       "208303       1000.0  ...    gray               NaN                 Yes   \n",
       "\n",
       "        Data_pierwszej_rejestracji Data_publikacji_oferty  \\\n",
       "0                              NaN             28/04/2021   \n",
       "1                       16/06/2010             04/05/2021   \n",
       "2                              NaN             03/05/2021   \n",
       "3                       27/11/2007             02/05/2021   \n",
       "4                       20/05/2013             02/05/2021   \n",
       "...                            ...                    ...   \n",
       "208299                  20/12/2020             29/04/2021   \n",
       "208300                         NaN             30/04/2021   \n",
       "208301                         NaN             29/04/2021   \n",
       "208302                         NaN             01/05/2021   \n",
       "208303                  17/03/2021             29/04/2021   \n",
       "\n",
       "                                       Lokalizacja_oferty  \\\n",
       "0       SŁONECZNA 1 - 99-300 Kutno, kutnowski, Łódzkie...   \n",
       "1       ul. Wiosenna 8 - 41-407 Imielin, Centrum (Polska)   \n",
       "2                 Sianów, koszaliński, Zachodniopomorskie   \n",
       "3                    Gdańsk, Pomorskie, Przymorze Wielkie   \n",
       "4                           Świdnik, świdnicki, Lubelskie   \n",
       "...                                                   ...   \n",
       "208299  Sąsiedzka 4 - 03-168 Warszawa, Białołęka (Polska)   \n",
       "208300  ul. Małkińska 184 (między CPN a stacją kontrol...   \n",
       "208301  ALEJA WOJSKA POLSKIEGO 68/76 - 42-200 Częstoch...   \n",
       "208302  Gaj ( 3km Od Krakowa Przy Zakopiance)Myślenick...   \n",
       "208303  Szczecińska 7 - 54-517 Wrocław, Fabryczna (Pol...   \n",
       "\n",
       "                                              Wyposazenie  is_train  \\\n",
       "0       ['ABS', 'Electric front windows', 'Drivers air...         1   \n",
       "1       ['ABS', 'Electric front windows', 'Drivers air...         1   \n",
       "2       ['ABS', 'Electric front windows', 'Passengers ...         1   \n",
       "3       ['ABS', 'Electric front windows', 'Drivers air...         1   \n",
       "4       ['ABS', 'Electric front windows', 'Drivers air...         1   \n",
       "...                                                   ...       ...   \n",
       "208299  ['ABS', 'Electric front windows', 'Drivers air...         0   \n",
       "208300  ['ABS', 'Rain sensor', 'Electric front windows...         0   \n",
       "208301  ['ABS', 'Lane assistant', 'Central locking', '...         0   \n",
       "208302  ['ABS', 'Electric front windows', 'Drivers air...         0   \n",
       "208303                                                 []         0   \n",
       "\n",
       "         log_Cena Wiek_pojazdu  \n",
       "0        9.539716         20.0  \n",
       "1       10.162037         15.0  \n",
       "2       10.488520         10.0  \n",
       "3        8.699515         18.0  \n",
       "4       10.709986         12.0  \n",
       "...           ...          ...  \n",
       "208299        NaN          9.0  \n",
       "208300        NaN         16.0  \n",
       "208301        NaN          9.0  \n",
       "208302        NaN         16.0  \n",
       "208303        NaN          5.0  \n",
       "\n",
       "[208304 rows x 28 columns]"
      ],
      "text/html": [
       "<div>\n",
       "<style scoped>\n",
       "    .dataframe tbody tr th:only-of-type {\n",
       "        vertical-align: middle;\n",
       "    }\n",
       "\n",
       "    .dataframe tbody tr th {\n",
       "        vertical-align: top;\n",
       "    }\n",
       "\n",
       "    .dataframe thead th {\n",
       "        text-align: right;\n",
       "    }\n",
       "</style>\n",
       "<table border=\"1\" class=\"dataframe\">\n",
       "  <thead>\n",
       "    <tr style=\"text-align: right;\">\n",
       "      <th></th>\n",
       "      <th>ID</th>\n",
       "      <th>Cena</th>\n",
       "      <th>Waluta</th>\n",
       "      <th>Stan</th>\n",
       "      <th>Marka_pojazdu</th>\n",
       "      <th>Model_pojazdu</th>\n",
       "      <th>Wersja_pojazdu</th>\n",
       "      <th>Generacja_pojazdu</th>\n",
       "      <th>Rok_produkcji</th>\n",
       "      <th>Przebieg_km</th>\n",
       "      <th>...</th>\n",
       "      <th>Kolor</th>\n",
       "      <th>Kraj_pochodzenia</th>\n",
       "      <th>Pierwszy_wlasciciel</th>\n",
       "      <th>Data_pierwszej_rejestracji</th>\n",
       "      <th>Data_publikacji_oferty</th>\n",
       "      <th>Lokalizacja_oferty</th>\n",
       "      <th>Wyposazenie</th>\n",
       "      <th>is_train</th>\n",
       "      <th>log_Cena</th>\n",
       "      <th>Wiek_pojazdu</th>\n",
       "    </tr>\n",
       "  </thead>\n",
       "  <tbody>\n",
       "    <tr>\n",
       "      <th>0</th>\n",
       "      <td>1</td>\n",
       "      <td>13900.0</td>\n",
       "      <td>PLN</td>\n",
       "      <td>Used</td>\n",
       "      <td>Renault</td>\n",
       "      <td>Grand Espace</td>\n",
       "      <td>Gr 2.0T 16V Expression</td>\n",
       "      <td>NaN</td>\n",
       "      <td>2005.0</td>\n",
       "      <td>213000.0</td>\n",
       "      <td>...</td>\n",
       "      <td>blue</td>\n",
       "      <td>NaN</td>\n",
       "      <td>NaN</td>\n",
       "      <td>NaN</td>\n",
       "      <td>28/04/2021</td>\n",
       "      <td>SŁONECZNA 1 - 99-300 Kutno, kutnowski, Łódzkie...</td>\n",
       "      <td>['ABS', 'Electric front windows', 'Drivers air...</td>\n",
       "      <td>1</td>\n",
       "      <td>9.539716</td>\n",
       "      <td>20.0</td>\n",
       "    </tr>\n",
       "    <tr>\n",
       "      <th>1</th>\n",
       "      <td>2</td>\n",
       "      <td>25900.0</td>\n",
       "      <td>PLN</td>\n",
       "      <td>Used</td>\n",
       "      <td>Renault</td>\n",
       "      <td>Megane</td>\n",
       "      <td>1.6 16V 110</td>\n",
       "      <td>III (2008-2016)</td>\n",
       "      <td>2010.0</td>\n",
       "      <td>117089.0</td>\n",
       "      <td>...</td>\n",
       "      <td>silver</td>\n",
       "      <td>NaN</td>\n",
       "      <td>NaN</td>\n",
       "      <td>16/06/2010</td>\n",
       "      <td>04/05/2021</td>\n",
       "      <td>ul. Wiosenna 8 - 41-407 Imielin, Centrum (Polska)</td>\n",
       "      <td>['ABS', 'Electric front windows', 'Drivers air...</td>\n",
       "      <td>1</td>\n",
       "      <td>10.162037</td>\n",
       "      <td>15.0</td>\n",
       "    </tr>\n",
       "    <tr>\n",
       "      <th>2</th>\n",
       "      <td>3</td>\n",
       "      <td>35900.0</td>\n",
       "      <td>PLN</td>\n",
       "      <td>Used</td>\n",
       "      <td>Opel</td>\n",
       "      <td>Zafira</td>\n",
       "      <td>Tourer 1.6 CDTI ecoFLEX Start/Stop</td>\n",
       "      <td>C (2011-2019)</td>\n",
       "      <td>2015.0</td>\n",
       "      <td>115600.0</td>\n",
       "      <td>...</td>\n",
       "      <td>white</td>\n",
       "      <td>Denmark</td>\n",
       "      <td>NaN</td>\n",
       "      <td>NaN</td>\n",
       "      <td>03/05/2021</td>\n",
       "      <td>Sianów, koszaliński, Zachodniopomorskie</td>\n",
       "      <td>['ABS', 'Electric front windows', 'Passengers ...</td>\n",
       "      <td>1</td>\n",
       "      <td>10.488520</td>\n",
       "      <td>10.0</td>\n",
       "    </tr>\n",
       "    <tr>\n",
       "      <th>3</th>\n",
       "      <td>4</td>\n",
       "      <td>5999.0</td>\n",
       "      <td>PLN</td>\n",
       "      <td>Used</td>\n",
       "      <td>Ford</td>\n",
       "      <td>Focus</td>\n",
       "      <td>1.6 TDCi FX Silver / Silver X</td>\n",
       "      <td>Mk2 (2004-2011)</td>\n",
       "      <td>2007.0</td>\n",
       "      <td>218000.0</td>\n",
       "      <td>...</td>\n",
       "      <td>blue</td>\n",
       "      <td>NaN</td>\n",
       "      <td>NaN</td>\n",
       "      <td>27/11/2007</td>\n",
       "      <td>02/05/2021</td>\n",
       "      <td>Gdańsk, Pomorskie, Przymorze Wielkie</td>\n",
       "      <td>['ABS', 'Electric front windows', 'Drivers air...</td>\n",
       "      <td>1</td>\n",
       "      <td>8.699515</td>\n",
       "      <td>18.0</td>\n",
       "    </tr>\n",
       "    <tr>\n",
       "      <th>4</th>\n",
       "      <td>5</td>\n",
       "      <td>44800.0</td>\n",
       "      <td>PLN</td>\n",
       "      <td>Used</td>\n",
       "      <td>Toyota</td>\n",
       "      <td>Avensis</td>\n",
       "      <td>1.8</td>\n",
       "      <td>III (2009-)</td>\n",
       "      <td>2013.0</td>\n",
       "      <td>NaN</td>\n",
       "      <td>...</td>\n",
       "      <td>other</td>\n",
       "      <td>Poland</td>\n",
       "      <td>Yes</td>\n",
       "      <td>20/05/2013</td>\n",
       "      <td>02/05/2021</td>\n",
       "      <td>Świdnik, świdnicki, Lubelskie</td>\n",
       "      <td>['ABS', 'Electric front windows', 'Drivers air...</td>\n",
       "      <td>1</td>\n",
       "      <td>10.709986</td>\n",
       "      <td>12.0</td>\n",
       "    </tr>\n",
       "    <tr>\n",
       "      <th>...</th>\n",
       "      <td>...</td>\n",
       "      <td>...</td>\n",
       "      <td>...</td>\n",
       "      <td>...</td>\n",
       "      <td>...</td>\n",
       "      <td>...</td>\n",
       "      <td>...</td>\n",
       "      <td>...</td>\n",
       "      <td>...</td>\n",
       "      <td>...</td>\n",
       "      <td>...</td>\n",
       "      <td>...</td>\n",
       "      <td>...</td>\n",
       "      <td>...</td>\n",
       "      <td>...</td>\n",
       "      <td>...</td>\n",
       "      <td>...</td>\n",
       "      <td>...</td>\n",
       "      <td>...</td>\n",
       "      <td>...</td>\n",
       "      <td>...</td>\n",
       "    </tr>\n",
       "    <tr>\n",
       "      <th>208299</th>\n",
       "      <td>72903</td>\n",
       "      <td>NaN</td>\n",
       "      <td>PLN</td>\n",
       "      <td>Used</td>\n",
       "      <td>Volkswagen</td>\n",
       "      <td>Tiguan</td>\n",
       "      <td>2.0 TSI BMT 4Mot Highline DSG</td>\n",
       "      <td>II (2016-)</td>\n",
       "      <td>2016.0</td>\n",
       "      <td>53000.0</td>\n",
       "      <td>...</td>\n",
       "      <td>black</td>\n",
       "      <td>Poland</td>\n",
       "      <td>Yes</td>\n",
       "      <td>20/12/2020</td>\n",
       "      <td>29/04/2021</td>\n",
       "      <td>Sąsiedzka 4 - 03-168 Warszawa, Białołęka (Polska)</td>\n",
       "      <td>['ABS', 'Electric front windows', 'Drivers air...</td>\n",
       "      <td>0</td>\n",
       "      <td>NaN</td>\n",
       "      <td>9.0</td>\n",
       "    </tr>\n",
       "    <tr>\n",
       "      <th>208300</th>\n",
       "      <td>72904</td>\n",
       "      <td>NaN</td>\n",
       "      <td>PLN</td>\n",
       "      <td>Used</td>\n",
       "      <td>Ford</td>\n",
       "      <td>Kuga</td>\n",
       "      <td>2.0 TDCi Trend</td>\n",
       "      <td>I (2008-2012)</td>\n",
       "      <td>2009.0</td>\n",
       "      <td>188132.0</td>\n",
       "      <td>...</td>\n",
       "      <td>black</td>\n",
       "      <td>Germany</td>\n",
       "      <td>NaN</td>\n",
       "      <td>NaN</td>\n",
       "      <td>30/04/2021</td>\n",
       "      <td>ul. Małkińska 184 (między CPN a stacją kontrol...</td>\n",
       "      <td>['ABS', 'Rain sensor', 'Electric front windows...</td>\n",
       "      <td>0</td>\n",
       "      <td>NaN</td>\n",
       "      <td>16.0</td>\n",
       "    </tr>\n",
       "    <tr>\n",
       "      <th>208301</th>\n",
       "      <td>72905</td>\n",
       "      <td>NaN</td>\n",
       "      <td>PLN</td>\n",
       "      <td>Used</td>\n",
       "      <td>Toyota</td>\n",
       "      <td>Avensis</td>\n",
       "      <td>NaN</td>\n",
       "      <td>III (2009-)</td>\n",
       "      <td>2016.0</td>\n",
       "      <td>76786.0</td>\n",
       "      <td>...</td>\n",
       "      <td>blue</td>\n",
       "      <td>Poland</td>\n",
       "      <td>Yes</td>\n",
       "      <td>NaN</td>\n",
       "      <td>29/04/2021</td>\n",
       "      <td>ALEJA WOJSKA POLSKIEGO 68/76 - 42-200 Częstoch...</td>\n",
       "      <td>['ABS', 'Lane assistant', 'Central locking', '...</td>\n",
       "      <td>0</td>\n",
       "      <td>NaN</td>\n",
       "      <td>9.0</td>\n",
       "    </tr>\n",
       "    <tr>\n",
       "      <th>208302</th>\n",
       "      <td>72906</td>\n",
       "      <td>NaN</td>\n",
       "      <td>PLN</td>\n",
       "      <td>Used</td>\n",
       "      <td>Renault</td>\n",
       "      <td>Trafic</td>\n",
       "      <td>2.0 dCi 115 Combi L1H1</td>\n",
       "      <td>II (2001-2014)</td>\n",
       "      <td>2009.0</td>\n",
       "      <td>204300.0</td>\n",
       "      <td>...</td>\n",
       "      <td>blue</td>\n",
       "      <td>NaN</td>\n",
       "      <td>NaN</td>\n",
       "      <td>NaN</td>\n",
       "      <td>01/05/2021</td>\n",
       "      <td>Gaj ( 3km Od Krakowa Przy Zakopiance)Myślenick...</td>\n",
       "      <td>['ABS', 'Electric front windows', 'Drivers air...</td>\n",
       "      <td>0</td>\n",
       "      <td>NaN</td>\n",
       "      <td>16.0</td>\n",
       "    </tr>\n",
       "    <tr>\n",
       "      <th>208303</th>\n",
       "      <td>72907</td>\n",
       "      <td>NaN</td>\n",
       "      <td>PLN</td>\n",
       "      <td>Used</td>\n",
       "      <td>DS Automobiles</td>\n",
       "      <td>DS 7 Crossback</td>\n",
       "      <td>2.0 BlueHDi Grand Chic</td>\n",
       "      <td>NaN</td>\n",
       "      <td>2020.0</td>\n",
       "      <td>1000.0</td>\n",
       "      <td>...</td>\n",
       "      <td>gray</td>\n",
       "      <td>NaN</td>\n",
       "      <td>Yes</td>\n",
       "      <td>17/03/2021</td>\n",
       "      <td>29/04/2021</td>\n",
       "      <td>Szczecińska 7 - 54-517 Wrocław, Fabryczna (Pol...</td>\n",
       "      <td>[]</td>\n",
       "      <td>0</td>\n",
       "      <td>NaN</td>\n",
       "      <td>5.0</td>\n",
       "    </tr>\n",
       "  </tbody>\n",
       "</table>\n",
       "<p>208304 rows × 28 columns</p>\n",
       "</div>"
      ]
     },
     "execution_count": 185,
     "metadata": {},
     "output_type": "execute_result"
    }
   ],
   "execution_count": 185
  },
  {
   "metadata": {
    "ExecuteTime": {
     "end_time": "2025-03-22T10:01:14.686150500Z",
     "start_time": "2025-03-22T09:36:12.723352Z"
    }
   },
   "cell_type": "code",
   "source": "all_data['log_Przebieg_km'] = np.log1p(all_data['Przebieg_km'])",
   "id": "31107978926dff47",
   "outputs": [],
   "execution_count": 186
  },
  {
   "metadata": {
    "ExecuteTime": {
     "end_time": "2025-03-22T10:01:14.686150500Z",
     "start_time": "2025-03-22T09:36:12.776950Z"
    }
   },
   "cell_type": "code",
   "source": [
    "all_data['Efektywnosc_silnika'] = all_data['Moc_KM'] / (all_data['Pojemnosc_cm3'] / 1000)  # moc na litr\n",
    "all_data['Efektywnosc_silnika'].replace([np.inf, -np.inf], np.nan, inplace=True)\n",
    "all_data['Efektywnosc_silnika'] = all_data['Efektywnosc_silnika'].fillna(all_data['Efektywnosc_silnika'].median())"
   ],
   "id": "ce1256f43ede834b",
   "outputs": [],
   "execution_count": 187
  },
  {
   "metadata": {
    "ExecuteTime": {
     "end_time": "2025-03-22T10:01:14.686150500Z",
     "start_time": "2025-03-22T09:36:12.820028Z"
    }
   },
   "cell_type": "code",
   "source": [
    "all_data['Sredni_roczny_przebieg'] = all_data['Przebieg_km'] / all_data['Wiek_pojazdu'].replace(0, 0.5)\n",
    "all_data['Sredni_roczny_przebieg'].replace([np.inf, -np.inf], np.nan, inplace=True)\n",
    "all_data['Sredni_roczny_przebieg'] = all_data['Sredni_roczny_przebieg'].fillna(all_data['Sredni_roczny_przebieg'].median())"
   ],
   "id": "10399c196674aca",
   "outputs": [],
   "execution_count": 188
  },
  {
   "metadata": {
    "ExecuteTime": {
     "end_time": "2025-03-22T10:01:14.687150300Z",
     "start_time": "2025-03-22T09:36:13.056658Z"
    }
   },
   "cell_type": "code",
   "source": [
    "if 'Wyposazenie' in all_data.columns:\n",
    "    if isinstance(all_data['Wyposazenie'].iloc[0], str):\n",
    "        all_data['Wyposazenie'] = all_data['Wyposazenie'].apply(lambda x: eval(x) if isinstance(x, str) and x.startswith('[') else [])\n",
    "    all_data['Liczba_elementow_wyposazenia'] = all_data['Wyposazenie'].apply(len)\n",
    "\n",
    "    premium_features = ['Leather upholstery', 'GPS navigation', 'Heated front seats', \n",
    "                         'Xenon lights', 'LED lights', 'Automatic air conditioning']\n",
    "    for feature in premium_features:\n",
    "        all_data[f'ma_{feature.replace(\" \", \"_\")}'] = all_data['Wyposazenie'].apply(\n",
    "            lambda x: 1 if isinstance(x, list) and any(feature in item for item in x) else 0\n",
    "        )"
   ],
   "id": "ed0848d1b92bb150",
   "outputs": [],
   "execution_count": 189
  },
  {
   "metadata": {
    "ExecuteTime": {
     "end_time": "2025-03-22T10:01:14.687150300Z",
     "start_time": "2025-03-22T09:36:23.736046Z"
    }
   },
   "cell_type": "code",
   "source": [
    "numeric_cols = ['Rok_produkcji', 'Przebieg_km', 'Moc_KM', 'Pojemnosc_cm3', \n",
    "                'Liczba_drzwi', 'Liczba_elementow_wyposazenia', 'Efektywnosc_silnika']\n",
    "for col in numeric_cols:\n",
    "    if col in all_data.columns and all_data[col].isnull().sum() > 0:\n",
    "        all_data[col] = all_data[col].fillna(all_data.loc[all_data['is_train'] == 1, col].median())\n"
   ],
   "id": "d376f926e0e51e27",
   "outputs": [],
   "execution_count": 190
  },
  {
   "metadata": {
    "ExecuteTime": {
     "end_time": "2025-03-22T10:01:14.687150300Z",
     "start_time": "2025-03-22T09:36:23.980180Z"
    }
   },
   "cell_type": "code",
   "source": [
    "categorical_cols = ['Stan', 'Marka_pojazdu', 'Model_pojazdu', 'Rodzaj_paliwa', \n",
    "                   'Naped', 'Skrzynia_biegow', 'Typ_nadwozia', 'Kolor', 'Kraj_pochodzenia']\n",
    "for col in categorical_cols:\n",
    "    if col in all_data.columns and all_data[col].isnull().sum() > 0:\n",
    "        all_data[col] = all_data[col].fillna('nieznany')"
   ],
   "id": "810e984680fc6b32",
   "outputs": [],
   "execution_count": 191
  },
  {
   "metadata": {
    "ExecuteTime": {
     "end_time": "2025-03-22T10:01:14.687150300Z",
     "start_time": "2025-03-22T09:36:24.297452Z"
    }
   },
   "cell_type": "code",
   "source": [
    "train_marka_mean_price = all_data.loc[all_data['is_train'] == 1].groupby('Marka_pojazdu')['log_Cena'].mean()\n",
    "all_data['Marka_avg_price'] = all_data['Marka_pojazdu'].map(train_marka_mean_price)"
   ],
   "id": "a6df7904153e58f8",
   "outputs": [],
   "execution_count": 192
  },
  {
   "metadata": {
    "ExecuteTime": {
     "end_time": "2025-03-22T10:01:14.687150300Z",
     "start_time": "2025-03-22T09:36:24.581721Z"
    }
   },
   "cell_type": "code",
   "source": "all_data['Marka_avg_price'] = all_data['Marka_avg_price'].fillna(train_marka_mean_price.mean())",
   "id": "4bede949952c8527",
   "outputs": [],
   "execution_count": 193
  },
  {
   "metadata": {
    "ExecuteTime": {
     "end_time": "2025-03-22T10:01:14.687150300Z",
     "start_time": "2025-03-22T09:36:24.816284Z"
    }
   },
   "cell_type": "code",
   "source": [
    "train_model_mean_price = all_data.loc[all_data['is_train'] == 1].groupby(['Marka_pojazdu', 'Model_pojazdu'])['log_Cena'].mean()\n",
    "all_data['Model_avg_price'] = all_data.apply(lambda x: train_model_mean_price.get((x['Marka_pojazdu'], x['Model_pojazdu']), np.nan), axis=1)"
   ],
   "id": "1726fe83ef12ab78",
   "outputs": [],
   "execution_count": 194
  },
  {
   "metadata": {
    "ExecuteTime": {
     "end_time": "2025-03-22T10:01:14.687150300Z",
     "start_time": "2025-03-22T09:36:27.467726Z"
    }
   },
   "cell_type": "code",
   "source": "all_data['Model_avg_price'] = all_data['Model_avg_price'].fillna(all_data['Marka_avg_price'])",
   "id": "cc9f42ae0de68e0b",
   "outputs": [],
   "execution_count": 195
  },
  {
   "metadata": {
    "ExecuteTime": {
     "end_time": "2025-03-22T10:01:14.687150300Z",
     "start_time": "2025-03-22T09:36:27.669377Z"
    }
   },
   "cell_type": "code",
   "source": [
    "color_counts = all_data['Kolor'].value_counts(normalize=True)\n",
    "all_data['Kolor_freq'] = all_data['Kolor'].map(color_counts)"
   ],
   "id": "b3cc964ee74983b7",
   "outputs": [],
   "execution_count": 196
  },
  {
   "metadata": {
    "ExecuteTime": {
     "end_time": "2025-03-22T10:01:14.687150300Z",
     "start_time": "2025-03-22T09:36:27.876058Z"
    }
   },
   "cell_type": "code",
   "source": [
    "all_data_encoded = pd.get_dummies(all_data, columns=['Stan', 'Rodzaj_paliwa', 'Naped', \n",
    "                                         'Skrzynia_biegow', 'Typ_nadwozia'])"
   ],
   "id": "2077994c2a6efe96",
   "outputs": [],
   "execution_count": 197
  },
  {
   "metadata": {
    "ExecuteTime": {
     "end_time": "2025-03-22T10:01:14.687150300Z",
     "start_time": "2025-03-22T09:36:28.484979Z"
    }
   },
   "cell_type": "code",
   "source": [
    "features = [\n",
    "    'Wiek_pojazdu', 'log_Przebieg_km', 'Moc_KM', 'Pojemnosc_cm3', \n",
    "    'Liczba_elementow_wyposazenia', 'Efektywnosc_silnika', 'Sredni_roczny_przebieg',\n",
    "    \n",
    "    'Marka_avg_price', 'Model_avg_price', 'Kolor_freq',\n",
    "    \n",
    "    'ma_Leather_upholstery', 'ma_GPS_navigation', 'ma_Heated_front_seats',\n",
    "    'ma_Xenon_lights', 'ma_LED_lights', 'ma_Automatic_air_conditioning'\n",
    "]\n",
    "\n",
    "features += [col for col in all_data_encoded.columns if col.startswith(('Stan_', 'Rodzaj_paliwa_', \n",
    "                                                               'Naped_', 'Skrzynia_biegow_', 'Typ_nadwozia_'))]\n",
    "X_all = all_data_encoded[features].copy()\n",
    "X_all"
   ],
   "id": "fb5d67d30833910e",
   "outputs": [
    {
     "data": {
      "text/plain": [
       "        Wiek_pojazdu  log_Przebieg_km  Moc_KM  Pojemnosc_cm3  \\\n",
       "0               20.0        12.269052   170.0         1998.0   \n",
       "1               15.0        11.670698   110.0         1598.0   \n",
       "2               10.0        11.657900   136.0         1598.0   \n",
       "3               18.0        12.292255    90.0         1560.0   \n",
       "4               12.0              NaN   136.0         1798.0   \n",
       "...              ...              ...     ...            ...   \n",
       "208299           9.0        10.878066   220.0         1984.0   \n",
       "208300          16.0        12.144904   136.0         1997.0   \n",
       "208301           9.0        11.248791   143.0         1995.0   \n",
       "208302          16.0        12.227350   114.0         1995.0   \n",
       "208303           5.0         6.908755   177.0         1997.0   \n",
       "\n",
       "        Liczba_elementow_wyposazenia  Efektywnosc_silnika  \\\n",
       "0                                 18            85.085085   \n",
       "1                                 27            68.836045   \n",
       "2                                 24            85.106383   \n",
       "3                                 17            57.692308   \n",
       "4                                 25            75.093867   \n",
       "...                              ...                  ...   \n",
       "208299                            52           110.887097   \n",
       "208300                            35            68.102153   \n",
       "208301                            37            71.679198   \n",
       "208302                            11            57.142857   \n",
       "208303                             0            88.632949   \n",
       "\n",
       "        Sredni_roczny_przebieg  Marka_avg_price  Model_avg_price  Kolor_freq  \\\n",
       "0                 10650.000000        10.053987         9.695962    0.102494   \n",
       "1                  7805.933333        10.053987        10.122849    0.145921   \n",
       "2                 11560.000000        10.045032         9.841850    0.143641   \n",
       "3                 12111.111111        10.352441        10.049870    0.102494   \n",
       "4                 10066.666667        10.460586        10.205401    0.065280   \n",
       "...                        ...              ...              ...         ...   \n",
       "208299             5888.888889        10.385014        11.188347    0.237523   \n",
       "208300            11758.250000        10.352441        11.019403    0.237523   \n",
       "208301             8531.777778        10.460586        10.205401    0.102494   \n",
       "208302            12768.750000        10.053987        10.662298    0.102494   \n",
       "208303              200.000000        11.746123        12.093885    0.150175   \n",
       "\n",
       "        ...  Typ_nadwozia_SUV  Typ_nadwozia_city_cars  Typ_nadwozia_compact  \\\n",
       "0       ...             False                   False                 False   \n",
       "1       ...             False                   False                 False   \n",
       "2       ...             False                   False                 False   \n",
       "3       ...             False                   False                  True   \n",
       "4       ...             False                   False                 False   \n",
       "...     ...               ...                     ...                   ...   \n",
       "208299  ...              True                   False                 False   \n",
       "208300  ...              True                   False                 False   \n",
       "208301  ...             False                   False                 False   \n",
       "208302  ...             False                   False                 False   \n",
       "208303  ...              True                   False                 False   \n",
       "\n",
       "        Typ_nadwozia_convertible  Typ_nadwozia_coupe  Typ_nadwozia_minivan  \\\n",
       "0                          False               False                  True   \n",
       "1                          False               False                 False   \n",
       "2                          False               False                  True   \n",
       "3                          False               False                 False   \n",
       "4                          False               False                 False   \n",
       "...                          ...                 ...                   ...   \n",
       "208299                     False               False                 False   \n",
       "208300                     False               False                 False   \n",
       "208301                     False               False                 False   \n",
       "208302                     False               False                  True   \n",
       "208303                     False               False                 False   \n",
       "\n",
       "        Typ_nadwozia_nieznany  Typ_nadwozia_sedan  Typ_nadwozia_small_cars  \\\n",
       "0                       False               False                    False   \n",
       "1                       False               False                    False   \n",
       "2                       False               False                    False   \n",
       "3                       False               False                    False   \n",
       "4                        True               False                    False   \n",
       "...                       ...                 ...                      ...   \n",
       "208299                  False               False                    False   \n",
       "208300                  False               False                    False   \n",
       "208301                  False               False                    False   \n",
       "208302                  False               False                    False   \n",
       "208303                  False               False                    False   \n",
       "\n",
       "        Typ_nadwozia_station_wagon  \n",
       "0                            False  \n",
       "1                             True  \n",
       "2                            False  \n",
       "3                            False  \n",
       "4                            False  \n",
       "...                            ...  \n",
       "208299                       False  \n",
       "208300                       False  \n",
       "208301                        True  \n",
       "208302                       False  \n",
       "208303                       False  \n",
       "\n",
       "[208304 rows x 47 columns]"
      ],
      "text/html": [
       "<div>\n",
       "<style scoped>\n",
       "    .dataframe tbody tr th:only-of-type {\n",
       "        vertical-align: middle;\n",
       "    }\n",
       "\n",
       "    .dataframe tbody tr th {\n",
       "        vertical-align: top;\n",
       "    }\n",
       "\n",
       "    .dataframe thead th {\n",
       "        text-align: right;\n",
       "    }\n",
       "</style>\n",
       "<table border=\"1\" class=\"dataframe\">\n",
       "  <thead>\n",
       "    <tr style=\"text-align: right;\">\n",
       "      <th></th>\n",
       "      <th>Wiek_pojazdu</th>\n",
       "      <th>log_Przebieg_km</th>\n",
       "      <th>Moc_KM</th>\n",
       "      <th>Pojemnosc_cm3</th>\n",
       "      <th>Liczba_elementow_wyposazenia</th>\n",
       "      <th>Efektywnosc_silnika</th>\n",
       "      <th>Sredni_roczny_przebieg</th>\n",
       "      <th>Marka_avg_price</th>\n",
       "      <th>Model_avg_price</th>\n",
       "      <th>Kolor_freq</th>\n",
       "      <th>...</th>\n",
       "      <th>Typ_nadwozia_SUV</th>\n",
       "      <th>Typ_nadwozia_city_cars</th>\n",
       "      <th>Typ_nadwozia_compact</th>\n",
       "      <th>Typ_nadwozia_convertible</th>\n",
       "      <th>Typ_nadwozia_coupe</th>\n",
       "      <th>Typ_nadwozia_minivan</th>\n",
       "      <th>Typ_nadwozia_nieznany</th>\n",
       "      <th>Typ_nadwozia_sedan</th>\n",
       "      <th>Typ_nadwozia_small_cars</th>\n",
       "      <th>Typ_nadwozia_station_wagon</th>\n",
       "    </tr>\n",
       "  </thead>\n",
       "  <tbody>\n",
       "    <tr>\n",
       "      <th>0</th>\n",
       "      <td>20.0</td>\n",
       "      <td>12.269052</td>\n",
       "      <td>170.0</td>\n",
       "      <td>1998.0</td>\n",
       "      <td>18</td>\n",
       "      <td>85.085085</td>\n",
       "      <td>10650.000000</td>\n",
       "      <td>10.053987</td>\n",
       "      <td>9.695962</td>\n",
       "      <td>0.102494</td>\n",
       "      <td>...</td>\n",
       "      <td>False</td>\n",
       "      <td>False</td>\n",
       "      <td>False</td>\n",
       "      <td>False</td>\n",
       "      <td>False</td>\n",
       "      <td>True</td>\n",
       "      <td>False</td>\n",
       "      <td>False</td>\n",
       "      <td>False</td>\n",
       "      <td>False</td>\n",
       "    </tr>\n",
       "    <tr>\n",
       "      <th>1</th>\n",
       "      <td>15.0</td>\n",
       "      <td>11.670698</td>\n",
       "      <td>110.0</td>\n",
       "      <td>1598.0</td>\n",
       "      <td>27</td>\n",
       "      <td>68.836045</td>\n",
       "      <td>7805.933333</td>\n",
       "      <td>10.053987</td>\n",
       "      <td>10.122849</td>\n",
       "      <td>0.145921</td>\n",
       "      <td>...</td>\n",
       "      <td>False</td>\n",
       "      <td>False</td>\n",
       "      <td>False</td>\n",
       "      <td>False</td>\n",
       "      <td>False</td>\n",
       "      <td>False</td>\n",
       "      <td>False</td>\n",
       "      <td>False</td>\n",
       "      <td>False</td>\n",
       "      <td>True</td>\n",
       "    </tr>\n",
       "    <tr>\n",
       "      <th>2</th>\n",
       "      <td>10.0</td>\n",
       "      <td>11.657900</td>\n",
       "      <td>136.0</td>\n",
       "      <td>1598.0</td>\n",
       "      <td>24</td>\n",
       "      <td>85.106383</td>\n",
       "      <td>11560.000000</td>\n",
       "      <td>10.045032</td>\n",
       "      <td>9.841850</td>\n",
       "      <td>0.143641</td>\n",
       "      <td>...</td>\n",
       "      <td>False</td>\n",
       "      <td>False</td>\n",
       "      <td>False</td>\n",
       "      <td>False</td>\n",
       "      <td>False</td>\n",
       "      <td>True</td>\n",
       "      <td>False</td>\n",
       "      <td>False</td>\n",
       "      <td>False</td>\n",
       "      <td>False</td>\n",
       "    </tr>\n",
       "    <tr>\n",
       "      <th>3</th>\n",
       "      <td>18.0</td>\n",
       "      <td>12.292255</td>\n",
       "      <td>90.0</td>\n",
       "      <td>1560.0</td>\n",
       "      <td>17</td>\n",
       "      <td>57.692308</td>\n",
       "      <td>12111.111111</td>\n",
       "      <td>10.352441</td>\n",
       "      <td>10.049870</td>\n",
       "      <td>0.102494</td>\n",
       "      <td>...</td>\n",
       "      <td>False</td>\n",
       "      <td>False</td>\n",
       "      <td>True</td>\n",
       "      <td>False</td>\n",
       "      <td>False</td>\n",
       "      <td>False</td>\n",
       "      <td>False</td>\n",
       "      <td>False</td>\n",
       "      <td>False</td>\n",
       "      <td>False</td>\n",
       "    </tr>\n",
       "    <tr>\n",
       "      <th>4</th>\n",
       "      <td>12.0</td>\n",
       "      <td>NaN</td>\n",
       "      <td>136.0</td>\n",
       "      <td>1798.0</td>\n",
       "      <td>25</td>\n",
       "      <td>75.093867</td>\n",
       "      <td>10066.666667</td>\n",
       "      <td>10.460586</td>\n",
       "      <td>10.205401</td>\n",
       "      <td>0.065280</td>\n",
       "      <td>...</td>\n",
       "      <td>False</td>\n",
       "      <td>False</td>\n",
       "      <td>False</td>\n",
       "      <td>False</td>\n",
       "      <td>False</td>\n",
       "      <td>False</td>\n",
       "      <td>True</td>\n",
       "      <td>False</td>\n",
       "      <td>False</td>\n",
       "      <td>False</td>\n",
       "    </tr>\n",
       "    <tr>\n",
       "      <th>...</th>\n",
       "      <td>...</td>\n",
       "      <td>...</td>\n",
       "      <td>...</td>\n",
       "      <td>...</td>\n",
       "      <td>...</td>\n",
       "      <td>...</td>\n",
       "      <td>...</td>\n",
       "      <td>...</td>\n",
       "      <td>...</td>\n",
       "      <td>...</td>\n",
       "      <td>...</td>\n",
       "      <td>...</td>\n",
       "      <td>...</td>\n",
       "      <td>...</td>\n",
       "      <td>...</td>\n",
       "      <td>...</td>\n",
       "      <td>...</td>\n",
       "      <td>...</td>\n",
       "      <td>...</td>\n",
       "      <td>...</td>\n",
       "      <td>...</td>\n",
       "    </tr>\n",
       "    <tr>\n",
       "      <th>208299</th>\n",
       "      <td>9.0</td>\n",
       "      <td>10.878066</td>\n",
       "      <td>220.0</td>\n",
       "      <td>1984.0</td>\n",
       "      <td>52</td>\n",
       "      <td>110.887097</td>\n",
       "      <td>5888.888889</td>\n",
       "      <td>10.385014</td>\n",
       "      <td>11.188347</td>\n",
       "      <td>0.237523</td>\n",
       "      <td>...</td>\n",
       "      <td>True</td>\n",
       "      <td>False</td>\n",
       "      <td>False</td>\n",
       "      <td>False</td>\n",
       "      <td>False</td>\n",
       "      <td>False</td>\n",
       "      <td>False</td>\n",
       "      <td>False</td>\n",
       "      <td>False</td>\n",
       "      <td>False</td>\n",
       "    </tr>\n",
       "    <tr>\n",
       "      <th>208300</th>\n",
       "      <td>16.0</td>\n",
       "      <td>12.144904</td>\n",
       "      <td>136.0</td>\n",
       "      <td>1997.0</td>\n",
       "      <td>35</td>\n",
       "      <td>68.102153</td>\n",
       "      <td>11758.250000</td>\n",
       "      <td>10.352441</td>\n",
       "      <td>11.019403</td>\n",
       "      <td>0.237523</td>\n",
       "      <td>...</td>\n",
       "      <td>True</td>\n",
       "      <td>False</td>\n",
       "      <td>False</td>\n",
       "      <td>False</td>\n",
       "      <td>False</td>\n",
       "      <td>False</td>\n",
       "      <td>False</td>\n",
       "      <td>False</td>\n",
       "      <td>False</td>\n",
       "      <td>False</td>\n",
       "    </tr>\n",
       "    <tr>\n",
       "      <th>208301</th>\n",
       "      <td>9.0</td>\n",
       "      <td>11.248791</td>\n",
       "      <td>143.0</td>\n",
       "      <td>1995.0</td>\n",
       "      <td>37</td>\n",
       "      <td>71.679198</td>\n",
       "      <td>8531.777778</td>\n",
       "      <td>10.460586</td>\n",
       "      <td>10.205401</td>\n",
       "      <td>0.102494</td>\n",
       "      <td>...</td>\n",
       "      <td>False</td>\n",
       "      <td>False</td>\n",
       "      <td>False</td>\n",
       "      <td>False</td>\n",
       "      <td>False</td>\n",
       "      <td>False</td>\n",
       "      <td>False</td>\n",
       "      <td>False</td>\n",
       "      <td>False</td>\n",
       "      <td>True</td>\n",
       "    </tr>\n",
       "    <tr>\n",
       "      <th>208302</th>\n",
       "      <td>16.0</td>\n",
       "      <td>12.227350</td>\n",
       "      <td>114.0</td>\n",
       "      <td>1995.0</td>\n",
       "      <td>11</td>\n",
       "      <td>57.142857</td>\n",
       "      <td>12768.750000</td>\n",
       "      <td>10.053987</td>\n",
       "      <td>10.662298</td>\n",
       "      <td>0.102494</td>\n",
       "      <td>...</td>\n",
       "      <td>False</td>\n",
       "      <td>False</td>\n",
       "      <td>False</td>\n",
       "      <td>False</td>\n",
       "      <td>False</td>\n",
       "      <td>True</td>\n",
       "      <td>False</td>\n",
       "      <td>False</td>\n",
       "      <td>False</td>\n",
       "      <td>False</td>\n",
       "    </tr>\n",
       "    <tr>\n",
       "      <th>208303</th>\n",
       "      <td>5.0</td>\n",
       "      <td>6.908755</td>\n",
       "      <td>177.0</td>\n",
       "      <td>1997.0</td>\n",
       "      <td>0</td>\n",
       "      <td>88.632949</td>\n",
       "      <td>200.000000</td>\n",
       "      <td>11.746123</td>\n",
       "      <td>12.093885</td>\n",
       "      <td>0.150175</td>\n",
       "      <td>...</td>\n",
       "      <td>True</td>\n",
       "      <td>False</td>\n",
       "      <td>False</td>\n",
       "      <td>False</td>\n",
       "      <td>False</td>\n",
       "      <td>False</td>\n",
       "      <td>False</td>\n",
       "      <td>False</td>\n",
       "      <td>False</td>\n",
       "      <td>False</td>\n",
       "    </tr>\n",
       "  </tbody>\n",
       "</table>\n",
       "<p>208304 rows × 47 columns</p>\n",
       "</div>"
      ]
     },
     "execution_count": 198,
     "metadata": {},
     "output_type": "execute_result"
    }
   ],
   "execution_count": 198
  },
  {
   "metadata": {
    "ExecuteTime": {
     "end_time": "2025-03-22T10:01:14.687150300Z",
     "start_time": "2025-03-22T09:36:28.746884Z"
    }
   },
   "cell_type": "code",
   "source": [
    "missing = X_all.isnull().sum()\n",
    "if missing.sum() > 0:\n",
    "    print(f\"Brakujące wartości w danych: {missing[missing > 0]}\")\n",
    "    for col in X_all.columns:\n",
    "        if X_all[col].isnull().sum() > 0:\n",
    "            if X_all[col].dtype.kind in 'ifc':\n",
    "                X_all[col] = X_all[col].fillna(X_all.loc[all_data['is_train'] == 1, col].median())\n",
    "            else:\n",
    "                X_all[col] = X_all[col].fillna('nieznany')"
   ],
   "id": "ba42334ef8347fb5",
   "outputs": [
    {
     "name": "stdout",
     "output_type": "stream",
     "text": [
      "Brakujące wartości w danych: Wiek_pojazdu       3407\n",
      "log_Przebieg_km    4333\n",
      "dtype: int64\n"
     ]
    }
   ],
   "execution_count": 199
  },
  {
   "metadata": {
    "ExecuteTime": {
     "end_time": "2025-03-22T10:01:14.687150300Z",
     "start_time": "2025-03-22T09:36:28.815313Z"
    }
   },
   "cell_type": "code",
   "source": [
    "X_train = X_all[all_data['is_train'] == 1]\n",
    "y_train = all_data.loc[all_data['is_train'] == 1, 'log_Cena']\n",
    "X_test = X_all[all_data['is_train'] == 0]"
   ],
   "id": "5639c57e878e7769",
   "outputs": [],
   "execution_count": 200
  },
  {
   "metadata": {
    "ExecuteTime": {
     "end_time": "2025-03-22T10:01:14.687150300Z",
     "start_time": "2025-03-22T09:36:28.871607Z"
    }
   },
   "cell_type": "code",
   "source": [
    "def calculate_rmse(y_true, y_pred):\n",
    "    return np.sqrt(mean_squared_error(y_true, y_pred))"
   ],
   "id": "f3b3abbb20324c46",
   "outputs": [],
   "execution_count": 201
  },
  {
   "metadata": {
    "ExecuteTime": {
     "end_time": "2025-03-22T10:01:14.687150300Z",
     "start_time": "2025-03-22T09:36:29.082455Z"
    }
   },
   "cell_type": "code",
   "source": [
    "def objective(trial):\n",
    "    param = {\n",
    "        \"iterations\": trial.suggest_int(\"iterations\", 500, 3000),\n",
    "        \"learning_rate\": trial.suggest_float(\"learning_rate\", 0.01, 0.3, log=True),\n",
    "        \"depth\": trial.suggest_int(\"depth\", 4, 10),\n",
    "        \"l2_leaf_reg\": trial.suggest_float(\"l2_leaf_reg\", 1e-8, 10.0, log=True),\n",
    "        \"random_strength\": trial.suggest_float(\"random_strength\", 1e-8, 10.0, log=True),\n",
    "        \"bagging_temperature\": trial.suggest_float(\"bagging_temperature\", 0, 10.0),\n",
    "        \"border_count\": trial.suggest_int(\"border_count\", 32, 255),\n",
    "        \"min_data_in_leaf\": trial.suggest_int(\"min_data_in_leaf\", 1, 100),\n",
    "        \"verbose\": False,\n",
    "        \"random_seed\": 42\n",
    "    }\n",
    "    \n",
    "    kf = KFold(n_splits=5, shuffle=True, random_state=42)\n",
    "    log_rmse_scores = []\n",
    "    \n",
    "    for train_idx, val_idx in kf.split(X_train):\n",
    "        X_train_fold, X_val_fold = X_train.iloc[train_idx], X_train.iloc[val_idx]\n",
    "        y_train_fold, y_val_fold = y_train.iloc[train_idx], y_train.iloc[val_idx]\n",
    "        \n",
    "        pruning_callback = CatBoostPruningCallback(trial, \"RMSE\")\n",
    "        \n",
    "        model = cb.CatBoostRegressor(**param)\n",
    "        model.fit(\n",
    "            X_train_fold, \n",
    "            y_train_fold,\n",
    "            eval_set=[(X_val_fold, y_val_fold)],\n",
    "            callbacks=[pruning_callback],\n",
    "            early_stopping_rounds=100,\n",
    "            verbose=0\n",
    "        )\n",
    "        \n",
    "        y_val_pred_log = model.predict(X_val_fold)\n",
    "        \n",
    "        log_rmse = calculate_rmse(y_val_fold, y_val_pred_log)\n",
    "        log_rmse_scores.append(log_rmse)\n",
    "    \n",
    "    return np.mean(log_rmse_scores)"
   ],
   "id": "aaf47265bb68c895",
   "outputs": [],
   "execution_count": 202
  },
  {
   "metadata": {
    "ExecuteTime": {
     "end_time": "2025-03-22T09:47:17.258797Z",
     "start_time": "2025-03-22T09:36:29.289939Z"
    }
   },
   "cell_type": "code",
   "source": [
    "study = optuna.create_study(\n",
    "    direction=\"minimize\",\n",
    "    pruner=optuna.pruners.MedianPruner(n_warmup_steps=10),\n",
    "    sampler=optuna.samplers.TPESampler(seed=42)\n",
    ")\n",
    "\n",
    "n_trials = 100\n",
    "study.optimize(objective, n_trials=n_trials)"
   ],
   "id": "92ac3689f2e50ca5",
   "outputs": [
    {
     "name": "stderr",
     "output_type": "stream",
     "text": [
      "[I 2025-03-22 10:36:29,293] A new study created in memory with name: no-name-eaaa0b87-69a0-406c-9511-489d542302e6\n",
      "[I 2025-03-22 10:36:50,467] Trial 0 finished with value: 0.26022646505917213 and parameters: {'iterations': 1436, 'learning_rate': 0.2536999076681772, 'depth': 9, 'l2_leaf_reg': 0.0024430162614261413, 'random_strength': 2.5361081166471375e-07, 'bagging_temperature': 1.5599452033620265, 'border_count': 45, 'min_data_in_leaf': 87}. Best is trial 0 with value: 0.26022646505917213.\n",
      "[I 2025-03-22 10:37:33,036] Trial 1 finished with value: 0.26105011034396286 and parameters: {'iterations': 2003, 'learning_rate': 0.11114989443094977, 'depth': 4, 'l2_leaf_reg': 5.360294728728285, 'random_strength': 0.31044435499483225, 'bagging_temperature': 2.1233911067827616, 'border_count': 72, 'min_data_in_leaf': 19}. Best is trial 0 with value: 0.26022646505917213.\n",
      "[I 2025-03-22 10:38:08,790] Trial 2 finished with value: 0.2564613424400939 and parameters: {'iterations': 1260, 'learning_rate': 0.05958389350068958, 'depth': 7, 'l2_leaf_reg': 4.17890272377219e-06, 'random_strength': 0.0032112643094417484, 'bagging_temperature': 1.3949386065204183, 'border_count': 97, 'min_data_in_leaf': 37}. Best is trial 2 with value: 0.2564613424400939.\n",
      "[I 2025-03-22 10:38:46,805] Trial 3 finished with value: 0.25558249332643046 and parameters: {'iterations': 1640, 'learning_rate': 0.14447746112718687, 'depth': 5, 'l2_leaf_reg': 0.00042472707398058225, 'random_strength': 0.0021465011216654484, 'bagging_temperature': 0.46450412719997725, 'border_count': 168, 'min_data_in_leaf': 18}. Best is trial 3 with value: 0.25558249332643046.\n",
      "[I 2025-03-22 10:39:21,986] Trial 4 finished with value: 0.2590641431617161 and parameters: {'iterations': 662, 'learning_rate': 0.2521267904777921, 'depth': 10, 'l2_leaf_reg': 0.18861495878553936, 'random_strength': 5.514725787121931e-06, 'bagging_temperature': 0.9767211400638387, 'border_count': 185, 'min_data_in_leaf': 45}. Best is trial 3 with value: 0.25558249332643046.\n",
      "[I 2025-03-22 10:39:22,432] Trial 5 finished with value: 0.9484147305321884 and parameters: {'iterations': 805, 'learning_rate': 0.05388108577817234, 'depth': 4, 'l2_leaf_reg': 1.527156759251193, 'random_strength': 2.133142332373004e-06, 'bagging_temperature': 6.62522284353982, 'border_count': 101, 'min_data_in_leaf': 53}. Best is trial 3 with value: 0.25558249332643046.\n",
      "[I 2025-03-22 10:39:23,053] Trial 6 finished with value: 1.0054135325636562 and parameters: {'iterations': 1867, 'learning_rate': 0.01875220945578641, 'depth': 10, 'l2_leaf_reg': 0.09466630153726856, 'random_strength': 2.854239907497756, 'bagging_temperature': 8.948273504276488, 'border_count': 165, 'min_data_in_leaf': 93}. Best is trial 3 with value: 0.25558249332643046.\n",
      "[I 2025-03-22 10:39:23,504] Trial 7 finished with value: 1.0078392249066304 and parameters: {'iterations': 721, 'learning_rate': 0.01947558230629543, 'depth': 4, 'l2_leaf_reg': 8.471746987003668e-06, 'random_strength': 3.148441347423712e-05, 'bagging_temperature': 2.713490317738959, 'border_count': 217, 'min_data_in_leaf': 36}. Best is trial 3 with value: 0.25558249332643046.\n",
      "[I 2025-03-22 10:39:23,934] Trial 8 finished with value: 0.9344893528692294 and parameters: {'iterations': 1202, 'learning_rate': 0.06333268775321843, 'depth': 4, 'l2_leaf_reg': 0.16587190283399655, 'random_strength': 4.6876566400928895e-08, 'bagging_temperature': 9.868869366005173, 'border_count': 204, 'min_data_in_leaf': 20}. Best is trial 3 with value: 0.25558249332643046.\n",
      "[I 2025-03-22 10:39:39,856] Trial 9 finished with value: 0.2560227570659373 and parameters: {'iterations': 513, 'learning_rate': 0.1601531217136121, 'depth': 8, 'l2_leaf_reg': 0.03639690979811287, 'random_strength': 0.08738424135626986, 'bagging_temperature': 0.7404465173409036, 'border_count': 112, 'min_data_in_leaf': 12}. Best is trial 3 with value: 0.25558249332643046.\n",
      "[I 2025-03-22 10:39:40,319] Trial 10 finished with value: 1.0248000201725955 and parameters: {'iterations': 2806, 'learning_rate': 0.010206070557576998, 'depth': 6, 'l2_leaf_reg': 1.4509648127973841e-08, 'random_strength': 0.0012317365144257659, 'bagging_temperature': 4.268128953833139, 'border_count': 246, 'min_data_in_leaf': 2}. Best is trial 3 with value: 0.25558249332643046.\n",
      "[I 2025-03-22 10:39:40,802] Trial 11 finished with value: 0.8399172965909225 and parameters: {'iterations': 2459, 'learning_rate': 0.12995292919665938, 'depth': 6, 'l2_leaf_reg': 0.0010634634713376783, 'random_strength': 0.028069888024895767, 'bagging_temperature': 0.36851297059371274, 'border_count': 135, 'min_data_in_leaf': 2}. Best is trial 3 with value: 0.25558249332643046.\n",
      "[I 2025-03-22 10:39:41,308] Trial 12 finished with value: 0.8236487467243517 and parameters: {'iterations': 2225, 'learning_rate': 0.13610581388233617, 'depth': 8, 'l2_leaf_reg': 5.1842349444906845e-05, 'random_strength': 0.07129711872763284, 'bagging_temperature': 3.456937452482668, 'border_count': 136, 'min_data_in_leaf': 66}. Best is trial 3 with value: 0.25558249332643046.\n",
      "[I 2025-03-22 10:39:41,846] Trial 13 finished with value: 0.7977471741527411 and parameters: {'iterations': 1602, 'learning_rate': 0.16078214997697196, 'depth': 6, 'l2_leaf_reg': 0.007522596201789534, 'random_strength': 0.00017552191617590726, 'bagging_temperature': 5.594890193370018, 'border_count': 155, 'min_data_in_leaf': 18}. Best is trial 3 with value: 0.25558249332643046.\n",
      "[I 2025-03-22 10:39:42,352] Trial 14 finished with value: 0.8845232821036749 and parameters: {'iterations': 1061, 'learning_rate': 0.09548424890644631, 'depth': 8, 'l2_leaf_reg': 2.727583689440586e-07, 'random_strength': 5.38103963800053, 'bagging_temperature': 0.1255066692233796, 'border_count': 122, 'min_data_in_leaf': 25}. Best is trial 3 with value: 0.25558249332643046.\n",
      "[I 2025-03-22 10:39:42,863] Trial 15 finished with value: 0.7783656011104418 and parameters: {'iterations': 2975, 'learning_rate': 0.19779129034285928, 'depth': 5, 'l2_leaf_reg': 0.0002890407859667256, 'random_strength': 0.005279169065885878, 'bagging_temperature': 6.646179710147847, 'border_count': 177, 'min_data_in_leaf': 9}. Best is trial 3 with value: 0.25558249332643046.\n",
      "[I 2025-03-22 10:39:43,380] Trial 16 finished with value: 0.8903243041745323 and parameters: {'iterations': 527, 'learning_rate': 0.08429542674453877, 'depth': 8, 'l2_leaf_reg': 0.012295412400013703, 'random_strength': 0.3510982443147044, 'bagging_temperature': 2.9083221954323895, 'border_count': 33, 'min_data_in_leaf': 64}. Best is trial 3 with value: 0.25558249332643046.\n",
      "[I 2025-03-22 10:39:43,865] Trial 17 finished with value: 0.9703381192634977 and parameters: {'iterations': 997, 'learning_rate': 0.03578558767488059, 'depth': 7, 'l2_leaf_reg': 0.0002182377440339875, 'random_strength': 0.0001310805789398669, 'bagging_temperature': 4.573462577401825, 'border_count': 105, 'min_data_in_leaf': 33}. Best is trial 3 with value: 0.25558249332643046.\n",
      "[I 2025-03-22 10:39:44,381] Trial 18 finished with value: 0.7754364891632346 and parameters: {'iterations': 1592, 'learning_rate': 0.2041095079342333, 'depth': 5, 'l2_leaf_reg': 0.016109046194566698, 'random_strength': 0.05113529097760563, 'bagging_temperature': 0.8210490446393415, 'border_count': 255, 'min_data_in_leaf': 13}. Best is trial 3 with value: 0.25558249332643046.\n",
      "[I 2025-03-22 10:39:44,890] Trial 19 finished with value: 0.9713633068455586 and parameters: {'iterations': 2342, 'learning_rate': 0.03410098377122444, 'depth': 9, 'l2_leaf_reg': 2.7198158043652316e-05, 'random_strength': 0.0009789509758723071, 'bagging_temperature': 3.601046426152309, 'border_count': 78, 'min_data_in_leaf': 53}. Best is trial 3 with value: 0.25558249332643046.\n",
      "[I 2025-03-22 10:40:09,257] Trial 20 finished with value: 0.2570047246129115 and parameters: {'iterations': 2567, 'learning_rate': 0.2938742542529797, 'depth': 7, 'l2_leaf_reg': 6.490416817831017e-07, 'random_strength': 0.012161573784495127, 'bagging_temperature': 2.0409686121653863, 'border_count': 207, 'min_data_in_leaf': 27}. Best is trial 3 with value: 0.25558249332643046.\n",
      "[I 2025-03-22 10:40:09,725] Trial 21 finished with value: 0.9019147126318771 and parameters: {'iterations': 1405, 'learning_rate': 0.07751660175717506, 'depth': 7, 'l2_leaf_reg': 2.6673776541114527e-06, 'random_strength': 0.003183443313526117, 'bagging_temperature': 0.022318710364339633, 'border_count': 93, 'min_data_in_leaf': 40}. Best is trial 3 with value: 0.25558249332643046.\n",
      "[I 2025-03-22 10:40:10,242] Trial 22 finished with value: 0.9520522911897376 and parameters: {'iterations': 1213, 'learning_rate': 0.04445422006270289, 'depth': 9, 'l2_leaf_reg': 4.2230683858126827e-08, 'random_strength': 0.9200497560565583, 'bagging_temperature': 1.41201630042094, 'border_count': 127, 'min_data_in_leaf': 10}. Best is trial 3 with value: 0.25558249332643046.\n",
      "[I 2025-03-22 10:40:10,710] Trial 23 finished with value: 0.7902469805788576 and parameters: {'iterations': 1828, 'learning_rate': 0.19324395993389681, 'depth': 5, 'l2_leaf_reg': 0.00016917395733048363, 'random_strength': 0.0004269975367056967, 'bagging_temperature': 2.0060183990757876, 'border_count': 65, 'min_data_in_leaf': 32}. Best is trial 3 with value: 0.25558249332643046.\n",
      "[I 2025-03-22 10:40:11,207] Trial 24 finished with value: 0.913786776983897 and parameters: {'iterations': 900, 'learning_rate': 0.06782726974845676, 'depth': 8, 'l2_leaf_reg': 4.825950571888642e-06, 'random_strength': 1.9384186642142137e-05, 'bagging_temperature': 1.0736352110716456, 'border_count': 118, 'min_data_in_leaf': 26}. Best is trial 3 with value: 0.25558249332643046.\n",
      "[I 2025-03-22 10:40:11,693] Trial 25 finished with value: 0.8542509792210545 and parameters: {'iterations': 2001, 'learning_rate': 0.11591757860365284, 'depth': 6, 'l2_leaf_reg': 0.0010774829824907288, 'random_strength': 0.09019329846009883, 'bagging_temperature': 2.937167240444614, 'border_count': 151, 'min_data_in_leaf': 45}. Best is trial 3 with value: 0.25558249332643046.\n",
      "[I 2025-03-22 10:40:12,171] Trial 26 finished with value: 0.9915204825980257 and parameters: {'iterations': 1384, 'learning_rate': 0.025132853817663902, 'depth': 7, 'l2_leaf_reg': 2.8651469120469796e-05, 'random_strength': 0.010686824856852855, 'bagging_temperature': 5.391070653543715, 'border_count': 88, 'min_data_in_leaf': 65}. Best is trial 3 with value: 0.25558249332643046.\n",
      "[I 2025-03-22 10:40:12,628] Trial 27 finished with value: 0.8308800455039108 and parameters: {'iterations': 505, 'learning_rate': 0.14565382261331242, 'depth': 5, 'l2_leaf_reg': 0.04171887322279016, 'random_strength': 0.0016896936854070917, 'bagging_temperature': 0.5587847059415054, 'border_count': 59, 'min_data_in_leaf': 12}. Best is trial 3 with value: 0.25558249332643046.\n",
      "[I 2025-03-22 10:40:13,311] Trial 28 finished with value: 0.9374656086121241 and parameters: {'iterations': 1643, 'learning_rate': 0.052432477707483535, 'depth': 9, 'l2_leaf_reg': 0.7236891964723182, 'random_strength': 0.2116674612459685, 'bagging_temperature': 1.670536554414003, 'border_count': 107, 'min_data_in_leaf': 5}. Best is trial 3 with value: 0.25558249332643046.\n",
      "[I 2025-03-22 10:40:13,930] Trial 29 finished with value: 0.8656354396773087 and parameters: {'iterations': 1223, 'learning_rate': 0.09972754137044068, 'depth': 8, 'l2_leaf_reg': 0.002737674120902229, 'random_strength': 0.017777319580092817, 'bagging_temperature': 1.297612690661608, 'border_count': 171, 'min_data_in_leaf': 18}. Best is trial 3 with value: 0.25558249332643046.\n",
      "[I 2025-03-22 10:40:14,506] Trial 30 finished with value: 0.7857016851743526 and parameters: {'iterations': 1478, 'learning_rate': 0.17206548568465033, 'depth': 7, 'l2_leaf_reg': 7.896798819242533e-07, 'random_strength': 5.368843345193776e-05, 'bagging_temperature': 2.3320717539987648, 'border_count': 54, 'min_data_in_leaf': 40}. Best is trial 3 with value: 0.25558249332643046.\n",
      "[I 2025-03-22 10:40:15,752] Trial 31 finished with value: 0.7012858066436144 and parameters: {'iterations': 2613, 'learning_rate': 0.291635539248806, 'depth': 7, 'l2_leaf_reg': 3.355022141351521e-07, 'random_strength': 0.007371879690581632, 'bagging_temperature': 1.6846996900916444, 'border_count': 197, 'min_data_in_leaf': 28}. Best is trial 3 with value: 0.25558249332643046.\n",
      "[I 2025-03-22 10:40:16,462] Trial 32 finished with value: 0.7440976448245599 and parameters: {'iterations': 2120, 'learning_rate': 0.22902269365082426, 'depth': 7, 'l2_leaf_reg': 8.581229931301884e-08, 'random_strength': 0.0005942090717593516, 'bagging_temperature': 2.3151728878399735, 'border_count': 237, 'min_data_in_leaf': 23}. Best is trial 3 with value: 0.25558249332643046.\n",
      "[I 2025-03-22 10:40:17,004] Trial 33 finished with value: 0.7136567482233571 and parameters: {'iterations': 1984, 'learning_rate': 0.296830914147544, 'depth': 6, 'l2_leaf_reg': 1.2946258952789045e-06, 'random_strength': 0.8929679148579381, 'bagging_temperature': 0.8343588966051216, 'border_count': 221, 'min_data_in_leaf': 30}. Best is trial 3 with value: 0.25558249332643046.\n",
      "[I 2025-03-22 10:40:55,298] Trial 34 finished with value: 0.2536180970389118 and parameters: {'iterations': 1747, 'learning_rate': 0.2489988131361436, 'depth': 8, 'l2_leaf_reg': 9.693267277829479, 'random_strength': 0.01855317047679346, 'bagging_temperature': 3.648981417538457, 'border_count': 188, 'min_data_in_leaf': 16}. Best is trial 34 with value: 0.2536180970389118.\n",
      "[I 2025-03-22 10:41:38,963] Trial 35 finished with value: 0.2533176807006338 and parameters: {'iterations': 1753, 'learning_rate': 0.22786863948927394, 'depth': 9, 'l2_leaf_reg': 9.66547373152733, 'random_strength': 7.197376740680777e-07, 'bagging_temperature': 6.862960796585378, 'border_count': 182, 'min_data_in_leaf': 15}. Best is trial 35 with value: 0.2533176807006338.\n",
      "[I 2025-03-22 10:42:20,672] Trial 36 finished with value: 0.2562093639586675 and parameters: {'iterations': 1750, 'learning_rate': 0.23960771126174005, 'depth': 10, 'l2_leaf_reg': 0.8347470753020189, 'random_strength': 5.635095605706972e-07, 'bagging_temperature': 7.581521528527926, 'border_count': 163, 'min_data_in_leaf': 15}. Best is trial 35 with value: 0.2533176807006338.\n",
      "[I 2025-03-22 10:42:21,209] Trial 37 finished with value: 0.7953408181454362 and parameters: {'iterations': 2136, 'learning_rate': 0.16467027472061932, 'depth': 9, 'l2_leaf_reg': 8.823613869467774, 'random_strength': 6.515668985853108e-08, 'bagging_temperature': 7.571300622253457, 'border_count': 190, 'min_data_in_leaf': 77}. Best is trial 35 with value: 0.2533176807006338.\n",
      "[I 2025-03-22 10:42:21,956] Trial 38 finished with value: 0.8436514906325965 and parameters: {'iterations': 1755, 'learning_rate': 0.11510606729592768, 'depth': 10, 'l2_leaf_reg': 3.0999686433462683, 'random_strength': 2.445620889839339e-06, 'bagging_temperature': 6.258298403136872, 'border_count': 184, 'min_data_in_leaf': 6}. Best is trial 35 with value: 0.2533176807006338.\n",
      "[I 2025-03-22 10:42:51,246] Trial 39 finished with value: 0.2559458729736131 and parameters: {'iterations': 1841, 'learning_rate': 0.22384935664547626, 'depth': 9, 'l2_leaf_reg': 0.3756347643507078, 'random_strength': 1.1302191306313211e-07, 'bagging_temperature': 7.965130192875988, 'border_count': 153, 'min_data_in_leaf': 100}. Best is trial 35 with value: 0.2533176807006338.\n",
      "[I 2025-03-22 10:43:13,731] Trial 40 finished with value: 0.2566334868359054 and parameters: {'iterations': 1478, 'learning_rate': 0.24361045498459089, 'depth': 9, 'l2_leaf_reg': 0.3792756610667307, 'random_strength': 1.0855958245049827e-08, 'bagging_temperature': 8.355160010572789, 'border_count': 146, 'min_data_in_leaf': 94}. Best is trial 35 with value: 0.2533176807006338.\n",
      "[I 2025-03-22 10:43:14,229] Trial 41 finished with value: 0.773414758608862 and parameters: {'iterations': 1862, 'learning_rate': 0.19646749785620948, 'depth': 8, 'l2_leaf_reg': 2.3368487419453565, 'random_strength': 4.459433737706804e-07, 'bagging_temperature': 7.684987969929634, 'border_count': 179, 'min_data_in_leaf': 85}. Best is trial 35 with value: 0.2533176807006338.\n",
      "[I 2025-03-22 10:43:44,359] Trial 42 finished with value: 0.2559939839252844 and parameters: {'iterations': 1686, 'learning_rate': 0.21319568344145357, 'depth': 9, 'l2_leaf_reg': 0.06520776565006477, 'random_strength': 1.1692572306023945e-07, 'bagging_temperature': 9.515202406749502, 'border_count': 161, 'min_data_in_leaf': 22}. Best is trial 35 with value: 0.2533176807006338.\n",
      "[I 2025-03-22 10:44:46,051] Trial 43 finished with value: 0.2541430636985649 and parameters: {'iterations': 1736, 'learning_rate': 0.22752773962192302, 'depth': 10, 'l2_leaf_reg': 8.480166139014637, 'random_strength': 1.18647967773636e-07, 'bagging_temperature': 9.995422875077304, 'border_count': 162, 'min_data_in_leaf': 99}. Best is trial 35 with value: 0.2533176807006338.\n",
      "[I 2025-03-22 10:45:44,000] Trial 44 finished with value: 0.2548235865140519 and parameters: {'iterations': 1935, 'learning_rate': 0.25903971581587937, 'depth': 10, 'l2_leaf_reg': 8.682540333970678, 'random_strength': 1.0305050066959539e-08, 'bagging_temperature': 8.333569326346849, 'border_count': 194, 'min_data_in_leaf': 99}. Best is trial 35 with value: 0.2533176807006338.\n",
      "[I 2025-03-22 10:45:52,982] Trial 45 finished with value: 0.7120397066330991 and parameters: {'iterations': 2007, 'learning_rate': 0.2626517895522283, 'depth': 10, 'l2_leaf_reg': 9.515954511852124, 'random_strength': 1.2358616418111955e-08, 'bagging_temperature': 8.637604789320266, 'border_count': 220, 'min_data_in_leaf': 85}. Best is trial 35 with value: 0.2533176807006338.\n",
      "[I 2025-03-22 10:45:53,652] Trial 46 finished with value: 0.7904166053757233 and parameters: {'iterations': 1551, 'learning_rate': 0.16901128112949246, 'depth': 10, 'l2_leaf_reg': 3.873608587813459, 'random_strength': 2.9568279958596097e-08, 'bagging_temperature': 9.346395322154718, 'border_count': 193, 'min_data_in_leaf': 79}. Best is trial 35 with value: 0.2533176807006338.\n",
      "[I 2025-03-22 10:45:54,294] Trial 47 finished with value: 0.8273121712429317 and parameters: {'iterations': 1949, 'learning_rate': 0.13392232857384603, 'depth': 10, 'l2_leaf_reg': 1.4581381218324063, 'random_strength': 1.1223964424818278e-06, 'bagging_temperature': 7.0851576892518455, 'border_count': 203, 'min_data_in_leaf': 100}. Best is trial 35 with value: 0.2533176807006338.\n",
      "[I 2025-03-22 10:46:47,856] Trial 48 finished with value: 0.2549873079717109 and parameters: {'iterations': 2115, 'learning_rate': 0.2661043848282951, 'depth': 10, 'l2_leaf_reg': 5.3893368520688885, 'random_strength': 6.479809024490417e-06, 'bagging_temperature': 6.245667762516831, 'border_count': 171, 'min_data_in_leaf': 94}. Best is trial 35 with value: 0.2533176807006338.\n",
      "[I 2025-03-22 10:46:57,307] Trial 49 finished with value: 0.7102243501826273 and parameters: {'iterations': 2302, 'learning_rate': 0.264897578008609, 'depth': 10, 'l2_leaf_reg': 5.601284299780832, 'random_strength': 8.719228084144254e-06, 'bagging_temperature': 9.934822022149358, 'border_count': 172, 'min_data_in_leaf': 93}. Best is trial 35 with value: 0.2533176807006338.\n",
      "[I 2025-03-22 10:46:57,969] Trial 50 finished with value: 0.778246779822221 and parameters: {'iterations': 2106, 'learning_rate': 0.1832325725398257, 'depth': 10, 'l2_leaf_reg': 1.4631739000722543, 'random_strength': 2.1517711163904554e-07, 'bagging_temperature': 5.984138131564558, 'border_count': 212, 'min_data_in_leaf': 90}. Best is trial 35 with value: 0.2533176807006338.\n",
      "[I 2025-03-22 10:47:01,392] Trial 51 finished with value: 0.7242651841664509 and parameters: {'iterations': 1757, 'learning_rate': 0.2430340609995389, 'depth': 10, 'l2_leaf_reg': 0.17318075756739137, 'random_strength': 3.867496422515337e-06, 'bagging_temperature': 6.995164080798102, 'border_count': 139, 'min_data_in_leaf': 97}. Best is trial 35 with value: 0.2533176807006338.\n",
      "[I 2025-03-22 10:47:01,911] Trial 52 finished with value: 0.8173065301988703 and parameters: {'iterations': 1908, 'learning_rate': 0.14615649679582146, 'depth': 9, 'l2_leaf_reg': 0.47626930068189455, 'random_strength': 3.259048131544151e-08, 'bagging_temperature': 4.963863221254265, 'border_count': 184, 'min_data_in_leaf': 60}. Best is trial 35 with value: 0.2533176807006338.\n",
      "[I 2025-03-22 10:47:02,528] Trial 53 finished with value: 1.0198479399836962 and parameters: {'iterations': 1323, 'learning_rate': 0.011718055535426361, 'depth': 10, 'l2_leaf_reg': 4.7623507548842126, 'random_strength': 9.828292525592247e-07, 'bagging_temperature': 9.08763691054727, 'border_count': 168, 'min_data_in_leaf': 78}. Best is trial 35 with value: 0.2533176807006338.\n",
      "[I 2025-03-22 10:47:02,982] Trial 54 finished with value: 0.7883156429766955 and parameters: {'iterations': 2197, 'learning_rate': 0.21177862539705644, 'depth': 4, 'l2_leaf_reg': 1.3661994330500622, 'random_strength': 2.2335140170992216e-07, 'bagging_temperature': 4.284630945034223, 'border_count': 196, 'min_data_in_leaf': 89}. Best is trial 35 with value: 0.2533176807006338.\n",
      "[I 2025-03-22 10:47:13,009] Trial 55 finished with value: 0.7102870690856304 and parameters: {'iterations': 1556, 'learning_rate': 0.26556644513740385, 'depth': 10, 'l2_leaf_reg': 9.536440804740048, 'random_strength': 1.1805394704331363e-05, 'bagging_temperature': 6.225116019765357, 'border_count': 176, 'min_data_in_leaf': 72}. Best is trial 35 with value: 0.2533176807006338.\n",
      "[I 2025-03-22 10:47:15,588] Trial 56 finished with value: 0.6918379731422144 and parameters: {'iterations': 1671, 'learning_rate': 0.2969166811907295, 'depth': 9, 'l2_leaf_reg': 2.6748696324633348, 'random_strength': 0.0001437634958976735, 'bagging_temperature': 8.263730045429385, 'border_count': 159, 'min_data_in_leaf': 95}. Best is trial 35 with value: 0.2533176807006338.\n",
      "[I 2025-03-22 10:47:16,091] Trial 57 finished with value: 0.7855579165590235 and parameters: {'iterations': 2431, 'learning_rate': 0.1832425961907027, 'depth': 8, 'l2_leaf_reg': 0.12811732424458402, 'random_strength': 7.117905674714854e-08, 'bagging_temperature': 7.029829468470719, 'border_count': 231, 'min_data_in_leaf': 89}. Best is trial 35 with value: 0.2533176807006338.\n",
      "[I 2025-03-22 10:47:16,718] Trial 58 finished with value: 0.8141889375095028 and parameters: {'iterations': 2051, 'learning_rate': 0.14738090839884754, 'depth': 10, 'l2_leaf_reg': 0.7692471394533429, 'random_strength': 5.343822895344266e-05, 'bagging_temperature': 3.6498481562319585, 'border_count': 131, 'min_data_in_leaf': 82}. Best is trial 35 with value: 0.2533176807006338.\n",
      "[I 2025-03-22 10:47:17,256] Trial 59 finished with value: 0.7576566230349039 and parameters: {'iterations': 2237, 'learning_rate': 0.21648501338043855, 'depth': 9, 'l2_leaf_reg': 5.983755528423679, 'random_strength': 1.9501971992971654e-08, 'bagging_temperature': 5.734892860896637, 'border_count': 145, 'min_data_in_leaf': 19}. Best is trial 35 with value: 0.2533176807006338.\n"
     ]
    }
   ],
   "execution_count": 203
  },
  {
   "metadata": {
    "ExecuteTime": {
     "end_time": "2025-03-22T09:47:17.528462Z",
     "start_time": "2025-03-22T09:47:17.502575Z"
    }
   },
   "cell_type": "code",
   "source": [
    "optuna_history = {\n",
    "    'Numer próby': list(range(1, len(study.trials) + 1)),\n",
    "    'RMSE': [t.value for t in study.trials]\n",
    "}"
   ],
   "id": "7314aeac6888b7c0",
   "outputs": [],
   "execution_count": 204
  },
  {
   "metadata": {
    "ExecuteTime": {
     "end_time": "2025-03-22T09:47:17.868050Z",
     "start_time": "2025-03-22T09:47:17.749909Z"
    }
   },
   "cell_type": "code",
   "source": [
    "plt.figure(figsize=(10, 6))\n",
    "plt.plot(optuna_history['Numer próby'], optuna_history['RMSE'], marker='o')\n",
    "plt.title('Historia optymalizacji Optuna')\n",
    "plt.xlabel('Numer próby')\n",
    "plt.ylabel('RMSE (skala logarytmiczna)')\n",
    "plt.grid(True)"
   ],
   "id": "a18a59cf94ee1af9",
   "outputs": [
    {
     "data": {
      "text/plain": [
       "<Figure size 1000x600 with 1 Axes>"
      ],
      "image/png": "[encoded data removed]"
     },
     "metadata": {},
     "output_type": "display_data"
    }
   ],
   "execution_count": 205
  },
  {
   "metadata": {
    "ExecuteTime": {
     "end_time": "2025-03-22T09:47:18.417050Z",
     "start_time": "2025-03-22T09:47:18.092709Z"
    }
   },
   "cell_type": "code",
   "source": [
    "param_importance = optuna.importance.get_param_importances(study)\n",
    "importance_df = pd.DataFrame(list(param_importance.items()), columns=['Parameter', 'Importance'])\n",
    "importance_df = importance_df.sort_values('Importance', ascending=False)"
   ],
   "id": "5188a280dede0ca9",
   "outputs": [],
   "execution_count": 206
  },
  {
   "metadata": {
    "ExecuteTime": {
     "end_time": "2025-03-22T09:47:18.852462Z",
     "start_time": "2025-03-22T09:47:18.644793Z"
    }
   },
   "cell_type": "code",
   "source": [
    "\n",
    "plt.figure(figsize=(10, 6))\n",
    "plt.barh(importance_df['Parameter'], importance_df['Importance'])\n",
    "plt.title('Ważność hiperparametrów')\n",
    "plt.xlabel('Ważność')\n",
    "plt.tight_layout()"
   ],
   "id": "b29c75efd47e17ec",
   "outputs": [
    {
     "data": {
      "text/plain": [
       "<Figure size 1000x600 with 1 Axes>"
      ],
      "image/png": "[encoded data removed]"
     },
     "metadata": {},
     "output_type": "display_data"
    }
   ],
   "execution_count": 207
  },
  {
   "metadata": {
    "ExecuteTime": {
     "end_time": "2025-03-22T09:47:19.131119Z",
     "start_time": "2025-03-22T09:47:19.126679Z"
    }
   },
   "cell_type": "code",
   "source": [
    "best_params = study.best_params\n",
    "best_params['verbose'] = 0 \n",
    "final_model = cb.CatBoostRegressor(**best_params)"
   ],
   "id": "4d5db5e3a4da005b",
   "outputs": [],
   "execution_count": 208
  },
  {
   "metadata": {
    "ExecuteTime": {
     "end_time": "2025-03-22T09:47:33.988158Z",
     "start_time": "2025-03-22T09:47:19.376206Z"
    }
   },
   "cell_type": "code",
   "source": "final_model.fit(X_train, y_train)",
   "id": "8e2ad0891c3ce818",
   "outputs": [
    {
     "data": {
      "text/plain": [
       "<catboost.core.CatBoostRegressor at 0x27d595bf800>"
      ]
     },
     "execution_count": 209,
     "metadata": {},
     "output_type": "execute_result"
    }
   ],
   "execution_count": 209
  },
  {
   "metadata": {
    "ExecuteTime": {
     "end_time": "2025-03-22T09:47:34.263666Z",
     "start_time": "2025-03-22T09:47:34.177070Z"
    }
   },
   "cell_type": "code",
   "source": "y_pred_log = final_model.predict(X_test)",
   "id": "3a0dce4d6fb433ba",
   "outputs": [],
   "execution_count": 210
  },
  {
   "metadata": {
    "ExecuteTime": {
     "end_time": "2025-03-22T09:47:34.453120Z",
     "start_time": "2025-03-22T09:47:34.450120Z"
    }
   },
   "cell_type": "code",
   "source": "y_pred = np.expm1(y_pred_log)",
   "id": "91f330638c625ac3",
   "outputs": [],
   "execution_count": 211
  },
  {
   "metadata": {
    "ExecuteTime": {
     "end_time": "2025-03-22T09:47:34.702615Z",
     "start_time": "2025-03-22T09:47:34.640158Z"
    }
   },
   "cell_type": "code",
   "source": [
    "submission = pd.DataFrame({\n",
    "    'ID': test_ids,\n",
    "    'Cena': y_pred\n",
    "})\n",
    "\n",
    "submission_path = 'submission.csv'\n",
    "submission.to_csv(submission_path, index=False)"
   ],
   "id": "6f3ee6fea4f87e0d",
   "outputs": [],
   "execution_count": 212
  },
  {
   "metadata": {
    "ExecuteTime": {
     "end_time": "2025-03-22T09:47:34.898748Z",
     "start_time": "2025-03-22T09:47:34.892371Z"
    }
   },
   "cell_type": "code",
   "source": "submission['Cena'].describe()",
   "id": "2c60eaa43bd81518",
   "outputs": [
    {
     "data": {
      "text/plain": [
       "count    7.290700e+04\n",
       "mean     6.208594e+04\n",
       "std      8.084227e+04\n",
       "min      1.262900e+03\n",
       "25%      1.774071e+04\n",
       "50%      3.544199e+04\n",
       "75%      7.531295e+04\n",
       "max      2.416176e+06\n",
       "Name: Cena, dtype: float64"
      ]
     },
     "execution_count": 213,
     "metadata": {},
     "output_type": "execute_result"
    }
   ],
   "execution_count": 213
  },
  {
   "metadata": {
    "ExecuteTime": {
     "end_time": "2025-03-22T09:47:35.228616Z",
     "start_time": "2025-03-22T09:47:35.103893Z"
    }
   },
   "cell_type": "code",
   "source": [
    "\n",
    "plt.figure(figsize=(10, 6))\n",
    "plt.hist(submission['Cena'], bins=50, alpha=0.7)\n",
    "plt.title('Rozkład przewidywanych cen')\n",
    "plt.xlabel('Cena (PLN)')\n",
    "plt.ylabel('Liczba samochodów')"
   ],
   "id": "fbd476c2f5085e52",
   "outputs": [
    {
     "data": {
      "text/plain": [
       "Text(0, 0.5, 'Liczba samochodów')"
      ]
     },
     "execution_count": 214,
     "metadata": {},
     "output_type": "execute_result"
    },
    {
     "data": {
      "text/plain": [
       "<Figure size 1000x600 with 1 Axes>"
      ],
      "image/png": "[encoded data removed]"
     },
     "metadata": {},
     "output_type": "display_data"
    }
   ],
   "execution_count": 214
  },
  {
   "metadata": {
    "ExecuteTime": {
     "end_time": "2025-03-22T09:47:35.306268Z",
     "start_time": "2025-03-22T09:47:35.248534Z"
    }
   },
   "cell_type": "code",
   "source": [
    "feature_importance = final_model.get_feature_importance()\n",
    "feature_importance_df = pd.DataFrame({\n",
    "    'Feature': X_train.columns,\n",
    "    'Importance': feature_importance\n",
    "}).sort_values('Importance', ascending=False).head(20)"
   ],
   "id": "c41aa2990de6ca88",
   "outputs": [],
   "execution_count": 215
  },
  {
   "metadata": {
    "ExecuteTime": {
     "end_time": "2025-03-22T09:47:35.524648Z",
     "start_time": "2025-03-22T09:47:35.319785Z"
    }
   },
   "cell_type": "code",
   "source": [
    "plt.figure(figsize=(12, 8))\n",
    "sns.barplot(x='Importance', y='Feature', data=feature_importance_df)\n",
    "plt.title('20 najważniejszych cech w modelu')\n",
    "plt.tight_layout()"
   ],
   "id": "cb6aafa352a34b12",
   "outputs": [
    {
     "data": {
      "text/plain": [
       "<Figure size 1200x800 with 1 Axes>"
      ],
      "image/png": "[encoded data removed]"
     },
     "metadata": {},
     "output_type": "display_data"
    }
   ],
   "execution_count": 216
  },
  {
   "metadata": {
    "collapsed": true,
    "ExecuteTime": {
     "end_time": "2025-03-22T09:47:35.718144Z",
     "start_time": "2025-03-22T09:47:35.713708Z"
    }
   },
   "cell_type": "code",
   "source": "print(f\"Najlepszy RMSE z Optuny (skala logarytmiczna): {study.best_value:.6f}\")",
   "id": "initial_id",
   "outputs": [
    {
     "name": "stdout",
     "output_type": "stream",
     "text": [
      "Najlepszy RMSE z Optuny (skala logarytmiczna): 0.253318\n"
     ]
    }
   ],
   "execution_count": 217
  },
  {
   "metadata": {},
   "cell_type": "markdown",
   "source": "## Najlepszy RMSE z Optuny (skala logarytmiczna): 0.253318",
   "id": "ebf93ceb1093e6c7"
  },
  {
   "metadata": {
    "ExecuteTime": {
     "end_time": "2025-03-22T09:47:35.912159Z",
     "start_time": "2025-03-22T09:47:35.908997Z"
    }
   },
   "cell_type": "code",
   "source": "from xgboost import XGBRegressor",
   "id": "4c27cb4279bcc35f",
   "outputs": [],
   "execution_count": 218
  },
  {
   "metadata": {
    "ExecuteTime": {
     "end_time": "2025-03-22T09:47:36.106356Z",
     "start_time": "2025-03-22T09:47:36.102288Z"
    }
   },
   "cell_type": "code",
   "source": [
    "def objective_xgboost(trial):\n",
    "    param = {\n",
    "        \"n_estimators\": trial.suggest_int(\"n_estimators\", 500, 2000),\n",
    "        \"learning_rate\": trial.suggest_float(\"learning_rate\", 0.01, 0.3, log=True),\n",
    "        \"max_depth\": trial.suggest_int(\"max_depth\", 3, 10),\n",
    "        \"subsample\": trial.suggest_float(\"subsample\", 0.6, 1.0),\n",
    "        \"colsample_bytree\": trial.suggest_float(\"colsample_bytree\", 0.6, 1.0),\n",
    "        \"gamma\": trial.suggest_float(\"gamma\", 0, 1.0),\n",
    "        \"reg_alpha\": trial.suggest_float(\"reg_alpha\", 0, 1.0),\n",
    "        \"reg_lambda\": trial.suggest_float(\"reg_lambda\", 0, 1.0),\n",
    "        \"random_state\": 42,\n",
    "    }\n",
    "    \n",
    "    kf = KFold(n_splits=5, shuffle=True, random_state=42)\n",
    "    rmse_scores = []\n",
    "    \n",
    "    for train_idx, val_idx in kf.split(X_train):\n",
    "        X_train_fold, X_val_fold = X_train.iloc[train_idx], X_train.iloc[val_idx]\n",
    "        y_train_fold, y_val_fold = y_train.iloc[train_idx], y_train.iloc[val_idx]\n",
    "        \n",
    "        model = XGBRegressor(**param)\n",
    "        model.fit(X_train_fold, y_train_fold)\n",
    "        \n",
    "        y_val_pred = model.predict(X_val_fold)\n",
    "        rmse = np.sqrt(mean_squared_error(y_val_fold, y_val_pred))\n",
    "        rmse_scores.append(rmse)\n",
    "    \n",
    "    return np.mean(rmse_scores)"
   ],
   "id": "9dbab55b07f8574a",
   "outputs": [],
   "execution_count": 219
  },
  {
   "metadata": {
    "ExecuteTime": {
     "end_time": "2025-03-22T10:00:29.801058Z",
     "start_time": "2025-03-22T09:47:36.298472Z"
    }
   },
   "cell_type": "code",
   "source": [
    "study_xgboost = optuna.create_study(direction=\"minimize\")\n",
    "study_xgboost.optimize(objective_xgboost, n_trials=100)"
   ],
   "id": "7ff98f6c3803f2f0",
   "outputs": [
    {
     "name": "stderr",
     "output_type": "stream",
     "text": [
      "[I 2025-03-22 10:47:36,299] A new study created in memory with name: no-name-363e2175-e087-4c33-8ef5-56b12c0d68d6\n",
      "[I 2025-03-22 10:47:46,501] Trial 0 finished with value: 0.2657422686916708 and parameters: {'n_estimators': 1720, 'learning_rate': 0.13111798770826197, 'max_depth': 7, 'subsample': 0.755245081687002, 'colsample_bytree': 0.7684307270811245, 'gamma': 0.6700447594052736, 'reg_alpha': 0.6894912214175407, 'reg_lambda': 0.9275571913296381}. Best is trial 0 with value: 0.2657422686916708.\n",
      "[I 2025-03-22 10:47:57,780] Trial 1 finished with value: 0.2606361272505736 and parameters: {'n_estimators': 1296, 'learning_rate': 0.03167312699133322, 'max_depth': 9, 'subsample': 0.8019704153822468, 'colsample_bytree': 0.7285335933940985, 'gamma': 0.6441792543758053, 'reg_alpha': 0.8230638068315379, 'reg_lambda': 0.9687140643435183}. Best is trial 1 with value: 0.2606361272505736.\n",
      "[I 2025-03-22 10:48:10,036] Trial 2 finished with value: 0.2627901132443009 and parameters: {'n_estimators': 1871, 'learning_rate': 0.03661488813448568, 'max_depth': 9, 'subsample': 0.8050771795026165, 'colsample_bytree': 0.9732002446865193, 'gamma': 0.9485146386827884, 'reg_alpha': 0.2207902155969711, 'reg_lambda': 0.07287192923785035}. Best is trial 1 with value: 0.2606361272505736.\n",
      "[I 2025-03-22 10:48:22,358] Trial 3 finished with value: 0.2741266838865489 and parameters: {'n_estimators': 1866, 'learning_rate': 0.06022351500249929, 'max_depth': 4, 'subsample': 0.8958757881841906, 'colsample_bytree': 0.9867510000459037, 'gamma': 0.6605914240385338, 'reg_alpha': 0.06664586214870605, 'reg_lambda': 0.48071005288685487}. Best is trial 1 with value: 0.2606361272505736.\n",
      "[I 2025-03-22 10:48:35,049] Trial 4 finished with value: 0.26500341546902784 and parameters: {'n_estimators': 1008, 'learning_rate': 0.016605149157543433, 'max_depth': 7, 'subsample': 0.8319157982485459, 'colsample_bytree': 0.6318209181106722, 'gamma': 0.7273145213898748, 'reg_alpha': 0.026632266335872457, 'reg_lambda': 0.7218834463887719}. Best is trial 1 with value: 0.2606361272505736.\n",
      "[I 2025-03-22 10:48:51,436] Trial 5 finished with value: 0.2767420484453559 and parameters: {'n_estimators': 1309, 'learning_rate': 0.010165633118450236, 'max_depth': 5, 'subsample': 0.7023414832445926, 'colsample_bytree': 0.7164023633481592, 'gamma': 0.9060178049566912, 'reg_alpha': 0.010384046165021976, 'reg_lambda': 0.9103047464202142}. Best is trial 1 with value: 0.2606361272505736.\n",
      "[I 2025-03-22 10:48:57,237] Trial 6 finished with value: 0.2686024286314861 and parameters: {'n_estimators': 716, 'learning_rate': 0.10915494977092557, 'max_depth': 6, 'subsample': 0.6941370363763506, 'colsample_bytree': 0.6718045745731486, 'gamma': 0.7932675853443346, 'reg_alpha': 0.315737468914145, 'reg_lambda': 0.8585987719289513}. Best is trial 1 with value: 0.2606361272505736.\n",
      "[I 2025-03-22 10:49:07,942] Trial 7 finished with value: 0.2683140476000539 and parameters: {'n_estimators': 1652, 'learning_rate': 0.16284600689411122, 'max_depth': 4, 'subsample': 0.7411675772789779, 'colsample_bytree': 0.7468998313831999, 'gamma': 0.45270752637021494, 'reg_alpha': 0.7063899122334156, 'reg_lambda': 0.38420440568049186}. Best is trial 1 with value: 0.2606361272505736.\n",
      "[I 2025-03-22 10:49:20,896] Trial 8 finished with value: 0.2680774019649054 and parameters: {'n_estimators': 1322, 'learning_rate': 0.02209814106238066, 'max_depth': 6, 'subsample': 0.7120287527372583, 'colsample_bytree': 0.9203219175486863, 'gamma': 0.7543815247935038, 'reg_alpha': 0.973615057837328, 'reg_lambda': 0.425017982519984}. Best is trial 1 with value: 0.2606361272505736.\n",
      "[I 2025-03-22 10:49:28,824] Trial 9 finished with value: 0.2629372801687896 and parameters: {'n_estimators': 1320, 'learning_rate': 0.13177787845781763, 'max_depth': 8, 'subsample': 0.8911063308843741, 'colsample_bytree': 0.6532763862635286, 'gamma': 0.5077093343019636, 'reg_alpha': 0.87593159943387, 'reg_lambda': 0.7271738560359523}. Best is trial 1 with value: 0.2606361272505736.\n",
      "[I 2025-03-22 10:49:37,850] Trial 10 finished with value: 0.2698653180140718 and parameters: {'n_estimators': 941, 'learning_rate': 0.29126753428971464, 'max_depth': 10, 'subsample': 0.601209146168162, 'colsample_bytree': 0.8607141453057146, 'gamma': 0.11435316015057462, 'reg_alpha': 0.5567830634034123, 'reg_lambda': 0.20300156168000538}. Best is trial 1 with value: 0.2606361272505736.\n",
      "[I 2025-03-22 10:49:50,929] Trial 11 finished with value: 0.2613956037714908 and parameters: {'n_estimators': 1985, 'learning_rate': 0.03602276737946877, 'max_depth': 10, 'subsample': 0.8178627211002267, 'colsample_bytree': 0.8450257275796352, 'gamma': 0.9448484501278973, 'reg_alpha': 0.2650740265696793, 'reg_lambda': 0.26469811121138925}. Best is trial 1 with value: 0.2606361272505736.\n",
      "[I 2025-03-22 10:50:02,120] Trial 12 finished with value: 0.25647862398414706 and parameters: {'n_estimators': 1543, 'learning_rate': 0.04549062243183171, 'max_depth': 10, 'subsample': 0.9547277284411162, 'colsample_bytree': 0.8276071761637709, 'gamma': 0.3609985257858121, 'reg_alpha': 0.38269114574867824, 'reg_lambda': 0.17512989006965035}. Best is trial 12 with value: 0.25647862398414706.\n",
      "[I 2025-03-22 10:50:12,061] Trial 13 finished with value: 0.25842102858946886 and parameters: {'n_estimators': 1539, 'learning_rate': 0.059380866472216354, 'max_depth': 9, 'subsample': 0.9995023725533052, 'colsample_bytree': 0.8557117515369936, 'gamma': 0.2521875593578827, 'reg_alpha': 0.41362541940837383, 'reg_lambda': 0.02307433192412378}. Best is trial 12 with value: 0.25647862398414706.\n",
      "[I 2025-03-22 10:50:22,461] Trial 14 finished with value: 0.25742371738258363 and parameters: {'n_estimators': 1554, 'learning_rate': 0.06371228948099687, 'max_depth': 9, 'subsample': 0.9985811621258627, 'colsample_bytree': 0.839859614245861, 'gamma': 0.19256608944016, 'reg_alpha': 0.4266153619484662, 'reg_lambda': 0.04134811451892914}. Best is trial 12 with value: 0.25647862398414706.\n",
      "[I 2025-03-22 10:50:31,810] Trial 15 finished with value: 0.2609859147697384 and parameters: {'n_estimators': 1511, 'learning_rate': 0.0804586049018745, 'max_depth': 8, 'subsample': 0.9958018667762369, 'colsample_bytree': 0.8118162810715116, 'gamma': 0.2949284109485763, 'reg_alpha': 0.4727249962208373, 'reg_lambda': 0.15398520945609395}. Best is trial 12 with value: 0.25647862398414706.\n",
      "[I 2025-03-22 10:50:54,522] Trial 16 finished with value: 0.2495412964304362 and parameters: {'n_estimators': 1084, 'learning_rate': 0.04476373312796754, 'max_depth': 10, 'subsample': 0.9319816357402668, 'colsample_bytree': 0.9046915275706765, 'gamma': 0.012609321926721179, 'reg_alpha': 0.5644999416555896, 'reg_lambda': 0.3019598772433115}. Best is trial 16 with value: 0.2495412964304362.\n",
      "[I 2025-03-22 10:51:24,331] Trial 17 finished with value: 0.249563403571926 and parameters: {'n_estimators': 1011, 'learning_rate': 0.02175959252648227, 'max_depth': 10, 'subsample': 0.9242445385993663, 'colsample_bytree': 0.9154884626368823, 'gamma': 0.0047141861716733825, 'reg_alpha': 0.5894718789250958, 'reg_lambda': 0.33607835306040446}. Best is trial 16 with value: 0.2495412964304362.\n",
      "[I 2025-03-22 10:51:35,285] Trial 18 finished with value: 0.29492778457786406 and parameters: {'n_estimators': 996, 'learning_rate': 0.02055519623481458, 'max_depth': 3, 'subsample': 0.90354264502573, 'colsample_bytree': 0.9186258717872889, 'gamma': 0.06621397719187196, 'reg_alpha': 0.5862840765613277, 'reg_lambda': 0.5939265254071198}. Best is trial 16 with value: 0.2495412964304362.\n",
      "[I 2025-03-22 10:51:49,873] Trial 19 finished with value: 0.2652320325257881 and parameters: {'n_estimators': 553, 'learning_rate': 0.010622094637772804, 'max_depth': 8, 'subsample': 0.9410944713916148, 'colsample_bytree': 0.9139886337968947, 'gamma': 0.002967816748212013, 'reg_alpha': 0.6736510199532334, 'reg_lambda': 0.32810834597385496}. Best is trial 16 with value: 0.2495412964304362.\n",
      "[I 2025-03-22 10:52:10,086] Trial 20 finished with value: 0.25298747660000986 and parameters: {'n_estimators': 1123, 'learning_rate': 0.016355883470660394, 'max_depth': 10, 'subsample': 0.8533077349504572, 'colsample_bytree': 0.8930056726471737, 'gamma': 0.16953435766061506, 'reg_alpha': 0.562308097728246, 'reg_lambda': 0.5751568331233406}. Best is trial 16 with value: 0.2495412964304362.\n",
      "[I 2025-03-22 10:52:32,112] Trial 21 finished with value: 0.25199830281231284 and parameters: {'n_estimators': 1110, 'learning_rate': 0.015635956648577868, 'max_depth': 10, 'subsample': 0.8564761845019124, 'colsample_bytree': 0.8901250705130089, 'gamma': 0.12550246323352918, 'reg_alpha': 0.5690100696015666, 'reg_lambda': 0.5713299109438219}. Best is trial 16 with value: 0.2495412964304362.\n",
      "[I 2025-03-22 10:52:54,271] Trial 22 finished with value: 0.25063417889686945 and parameters: {'n_estimators': 820, 'learning_rate': 0.02634686863234664, 'max_depth': 10, 'subsample': 0.9419162112253171, 'colsample_bytree': 0.9488187548260292, 'gamma': 0.0332156654664796, 'reg_alpha': 0.7733234729874586, 'reg_lambda': 0.5570498567666543}. Best is trial 16 with value: 0.2495412964304362.\n",
      "[I 2025-03-22 10:53:14,071] Trial 23 finished with value: 0.2509365420792646 and parameters: {'n_estimators': 797, 'learning_rate': 0.027202665047134547, 'max_depth': 9, 'subsample': 0.9421842902653681, 'colsample_bytree': 0.9498222946598284, 'gamma': 0.006606643505950749, 'reg_alpha': 0.776301559635351, 'reg_lambda': 0.29633577064661015}. Best is trial 16 with value: 0.2495412964304362.\n",
      "[I 2025-03-22 10:53:30,280] Trial 24 finished with value: 0.253889846413184 and parameters: {'n_estimators': 805, 'learning_rate': 0.024766759153703608, 'max_depth': 8, 'subsample': 0.927497236453403, 'colsample_bytree': 0.9507556856393526, 'gamma': 0.07275048944057683, 'reg_alpha': 0.9567048890860199, 'reg_lambda': 0.4778833923315633}. Best is trial 16 with value: 0.2495412964304362.\n",
      "[I 2025-03-22 10:53:37,133] Trial 25 finished with value: 0.25671864197240957 and parameters: {'n_estimators': 512, 'learning_rate': 0.048038916377474414, 'max_depth': 10, 'subsample': 0.9680338180303826, 'colsample_bytree': 0.9927642392214748, 'gamma': 0.24974979362868954, 'reg_alpha': 0.6422536105808703, 'reg_lambda': 0.7043226291965468}. Best is trial 16 with value: 0.2495412964304362.\n",
      "[I 2025-03-22 10:54:00,463] Trial 26 finished with value: 0.24924417575356722 and parameters: {'n_estimators': 1145, 'learning_rate': 0.037752509376754353, 'max_depth': 9, 'subsample': 0.879903133220679, 'colsample_bytree': 0.952092189874062, 'gamma': 0.0027866612902458943, 'reg_alpha': 0.7489896525039133, 'reg_lambda': 0.3855839699699458}. Best is trial 26 with value: 0.24924417575356722.\n",
      "[I 2025-03-22 10:54:10,169] Trial 27 finished with value: 0.2582868951541458 and parameters: {'n_estimators': 1141, 'learning_rate': 0.08201848549753059, 'max_depth': 9, 'subsample': 0.870363151113707, 'colsample_bytree': 0.8821814688140418, 'gamma': 0.35368375982977096, 'reg_alpha': 0.489745683437919, 'reg_lambda': 0.3717839274105621}. Best is trial 26 with value: 0.24924417575356722.\n",
      "[I 2025-03-22 10:54:23,634] Trial 28 finished with value: 0.25682410435746456 and parameters: {'n_estimators': 1178, 'learning_rate': 0.043782282859436146, 'max_depth': 7, 'subsample': 0.9160631640378095, 'colsample_bytree': 0.7734196635182449, 'gamma': 0.16126068325454956, 'reg_alpha': 0.8843084292769872, 'reg_lambda': 0.24704504732964472}. Best is trial 26 with value: 0.24924417575356722.\n",
      "[I 2025-03-22 10:54:33,196] Trial 29 finished with value: 0.26160924507686634 and parameters: {'n_estimators': 921, 'learning_rate': 0.03342499124399351, 'max_depth': 8, 'subsample': 0.882765807085029, 'colsample_bytree': 0.7901900997778174, 'gamma': 0.5557777965277919, 'reg_alpha': 0.7242428259582486, 'reg_lambda': 0.4347965165797194}. Best is trial 26 with value: 0.24924417575356722.\n",
      "[I 2025-03-22 10:54:45,884] Trial 30 finished with value: 0.2534743943977843 and parameters: {'n_estimators': 1205, 'learning_rate': 0.08092244034353042, 'max_depth': 7, 'subsample': 0.8397175206606924, 'colsample_bytree': 0.9318152890008307, 'gamma': 0.1002304750249933, 'reg_alpha': 0.6287560988201168, 'reg_lambda': 0.1199771345402923}. Best is trial 26 with value: 0.24924417575356722.\n",
      "[I 2025-03-22 10:55:07,332] Trial 31 finished with value: 0.2518180621983004 and parameters: {'n_estimators': 704, 'learning_rate': 0.020214938599806248, 'max_depth': 10, 'subsample': 0.9675070806151209, 'colsample_bytree': 0.960802192028978, 'gamma': 0.009160517575866996, 'reg_alpha': 0.7755800406339515, 'reg_lambda': 0.3426548826000264}. Best is trial 26 with value: 0.24924417575356722.\n",
      "[I 2025-03-22 10:55:20,729] Trial 32 finished with value: 0.25205923813234304 and parameters: {'n_estimators': 840, 'learning_rate': 0.029028236634568647, 'max_depth': 9, 'subsample': 0.9172932348988795, 'colsample_bytree': 0.9419751701209923, 'gamma': 0.06740508927422773, 'reg_alpha': 0.7656141802165813, 'reg_lambda': 0.5294641735193453}. Best is trial 26 with value: 0.24924417575356722.\n",
      "[I 2025-03-22 10:55:30,599] Trial 33 finished with value: 0.2571206939857599 and parameters: {'n_estimators': 1072, 'learning_rate': 0.03906378629677506, 'max_depth': 9, 'subsample': 0.9647008586237006, 'colsample_bytree': 0.9730313173118333, 'gamma': 0.21790843600233206, 'reg_alpha': 0.890445012773734, 'reg_lambda': 0.6422452667772047}. Best is trial 26 with value: 0.24924417575356722.\n",
      "[I 2025-03-22 10:55:51,200] Trial 34 finished with value: 0.253612546193172 and parameters: {'n_estimators': 663, 'learning_rate': 0.014222709729502023, 'max_depth': 10, 'subsample': 0.7740769936514874, 'colsample_bytree': 0.9977381537457162, 'gamma': 0.047671284182333046, 'reg_alpha': 0.8288562764086141, 'reg_lambda': 0.23283592333663222}. Best is trial 26 with value: 0.24924417575356722.\n",
      "[I 2025-03-22 10:56:02,471] Trial 35 finished with value: 0.2537037022818664 and parameters: {'n_estimators': 917, 'learning_rate': 0.031740277306410235, 'max_depth': 9, 'subsample': 0.8774490075391533, 'colsample_bytree': 0.9020218131123711, 'gamma': 0.14367127998552473, 'reg_alpha': 0.6255339192330884, 'reg_lambda': 0.4503932238339886}. Best is trial 26 with value: 0.24924417575356722.\n",
      "[I 2025-03-22 10:56:35,224] Trial 36 finished with value: 0.25030978957825323 and parameters: {'n_estimators': 1439, 'learning_rate': 0.013091856771147617, 'max_depth': 10, 'subsample': 0.9294430525118192, 'colsample_bytree': 0.8661306707851295, 'gamma': 0.04369806040865939, 'reg_alpha': 0.707156458903397, 'reg_lambda': 0.5202695256351669}. Best is trial 26 with value: 0.24924417575356722.\n",
      "[I 2025-03-22 10:56:53,569] Trial 37 finished with value: 0.25557938466517927 and parameters: {'n_estimators': 1247, 'learning_rate': 0.012684391406415843, 'max_depth': 10, 'subsample': 0.9090675943102918, 'colsample_bytree': 0.8857647667792609, 'gamma': 0.3323193868497324, 'reg_alpha': 0.5205184140011231, 'reg_lambda': 0.37604594079148124}. Best is trial 26 with value: 0.24924417575356722.\n",
      "[I 2025-03-22 10:57:12,896] Trial 38 finished with value: 0.2511677456965457 and parameters: {'n_estimators': 1395, 'learning_rate': 0.019233967617474503, 'max_depth': 9, 'subsample': 0.7913509331807018, 'colsample_bytree': 0.8636215052850162, 'gamma': 0.10330438203140402, 'reg_alpha': 0.6883070280502882, 'reg_lambda': 0.29167363675550895}. Best is trial 26 with value: 0.24924417575356722.\n",
      "[I 2025-03-22 10:57:29,349] Trial 39 finished with value: 0.27421786370910006 and parameters: {'n_estimators': 1430, 'learning_rate': 0.012891319508661932, 'max_depth': 5, 'subsample': 0.8592306979501889, 'colsample_bytree': 0.8748115507024671, 'gamma': 0.8425962464038929, 'reg_alpha': 0.7207396360067438, 'reg_lambda': 0.5001676475151409}. Best is trial 26 with value: 0.24924417575356722.\n",
      "[I 2025-03-22 10:57:41,230] Trial 40 finished with value: 0.26079134122774483 and parameters: {'n_estimators': 1777, 'learning_rate': 0.051382295477613034, 'max_depth': 9, 'subsample': 0.8964590631989984, 'colsample_bytree': 0.8176454734538623, 'gamma': 0.6072644049702514, 'reg_alpha': 0.8268531432519203, 'reg_lambda': 0.7994576339504802}. Best is trial 26 with value: 0.24924417575356722.\n",
      "[I 2025-03-22 10:58:02,264] Trial 41 finished with value: 0.2508366129390197 and parameters: {'n_estimators': 1038, 'learning_rate': 0.024136780620353224, 'max_depth': 10, 'subsample': 0.9381952009035406, 'colsample_bytree': 0.9736668127325905, 'gamma': 0.04076405945377722, 'reg_alpha': 0.16038548146334075, 'reg_lambda': 0.52369308105074}. Best is trial 26 with value: 0.24924417575356722.\n",
      "[I 2025-03-22 10:58:26,946] Trial 42 finished with value: 0.24797666183317418 and parameters: {'n_estimators': 977, 'learning_rate': 0.02759408208117173, 'max_depth': 10, 'subsample': 0.927902608725046, 'colsample_bytree': 0.6001825813953219, 'gamma': 0.0015311538254383205, 'reg_alpha': 0.749383484113176, 'reg_lambda': 0.43256189820704377}. Best is trial 42 with value: 0.24797666183317418.\n",
      "[I 2025-03-22 10:58:35,895] Trial 43 finished with value: 0.257410153874975 and parameters: {'n_estimators': 987, 'learning_rate': 0.039603586900251266, 'max_depth': 10, 'subsample': 0.9720357708800497, 'colsample_bytree': 0.6310282821825877, 'gamma': 0.4256303361667874, 'reg_alpha': 0.6531409974013898, 'reg_lambda': 0.42224289692040734}. Best is trial 42 with value: 0.24797666183317418.\n",
      "[I 2025-03-22 10:58:56,681] Trial 44 finished with value: 0.2507806113030015 and parameters: {'n_estimators': 1361, 'learning_rate': 0.018626746899461553, 'max_depth': 10, 'subsample': 0.9241779192270355, 'colsample_bytree': 0.7271745171156929, 'gamma': 0.08538840403181806, 'reg_alpha': 0.6061511989930268, 'reg_lambda': 0.6292425287652335}. Best is trial 42 with value: 0.24797666183317418.\n",
      "[I 2025-03-22 10:59:12,312] Trial 45 finished with value: 0.25116451136161166 and parameters: {'n_estimators': 1219, 'learning_rate': 0.03148839140340055, 'max_depth': 9, 'subsample': 0.6124020672234906, 'colsample_bytree': 0.6855776084968834, 'gamma': 0.13072037542759343, 'reg_alpha': 0.5095863397437681, 'reg_lambda': 0.39879696091677974}. Best is trial 42 with value: 0.24797666183317418.\n",
      "[I 2025-03-22 10:59:22,148] Trial 46 finished with value: 0.25487923977906146 and parameters: {'n_estimators': 1277, 'learning_rate': 0.06596288888522366, 'max_depth': 10, 'subsample': 0.8303798987454631, 'colsample_bytree': 0.9288650072186029, 'gamma': 0.20158380266031178, 'reg_alpha': 0.7252496118002538, 'reg_lambda': 0.9898731907707985}. Best is trial 42 with value: 0.24797666183317418.\n",
      "[I 2025-03-22 10:59:54,987] Trial 47 finished with value: 0.2537652220146676 and parameters: {'n_estimators': 1667, 'learning_rate': 0.011384232369475684, 'max_depth': 8, 'subsample': 0.9569938842357656, 'colsample_bytree': 0.9000793299536023, 'gamma': 0.00644046735663135, 'reg_alpha': 0.9349044587210023, 'reg_lambda': 0.34080699633777134}. Best is trial 42 with value: 0.24797666183317418.\n",
      "[I 2025-03-22 11:00:09,621] Trial 48 finished with value: 0.2604820205392266 and parameters: {'n_estimators': 1068, 'learning_rate': 0.02282162798229101, 'max_depth': 6, 'subsample': 0.9816680891974426, 'colsample_bytree': 0.6006186531344241, 'gamma': 0.05036962401011924, 'reg_alpha': 0.4563307929596462, 'reg_lambda': 0.4617775203382387}. Best is trial 42 with value: 0.24797666183317418.\n",
      "[I 2025-03-22 11:00:29,798] Trial 49 finished with value: 0.2511822036368422 and parameters: {'n_estimators': 1463, 'learning_rate': 0.017325270438559692, 'max_depth': 9, 'subsample': 0.896989171140594, 'colsample_bytree': 0.7035908150032683, 'gamma': 0.10035760338143426, 'reg_alpha': 0.5461973437793848, 'reg_lambda': 0.20289989443829765}. Best is trial 42 with value: 0.24797666183317418.\n"
     ]
    }
   ],
   "execution_count": 220
  },
  {
   "metadata": {
    "ExecuteTime": {
     "end_time": "2025-03-22T10:00:30.058785Z",
     "start_time": "2025-03-22T10:00:30.055444Z"
    }
   },
   "cell_type": "code",
   "source": [
    "best_params_xgboost = study_xgboost.best_params\n",
    "print(\"Najlepsze hiperparametry XGBoost:\", best_params_xgboost)"
   ],
   "id": "4e488e2e91272107",
   "outputs": [
    {
     "name": "stdout",
     "output_type": "stream",
     "text": [
      "Najlepsze hiperparametry XGBoost: {'n_estimators': 977, 'learning_rate': 0.02759408208117173, 'max_depth': 10, 'subsample': 0.927902608725046, 'colsample_bytree': 0.6001825813953219, 'gamma': 0.0015311538254383205, 'reg_alpha': 0.749383484113176, 'reg_lambda': 0.43256189820704377}\n"
     ]
    }
   ],
   "execution_count": 221
  },
  {
   "metadata": {
    "ExecuteTime": {
     "end_time": "2025-03-22T10:01:28.172007Z",
     "start_time": "2025-03-22T10:01:21.327884Z"
    }
   },
   "cell_type": "code",
   "source": [
    "xgboost_model = XGBRegressor(**best_params_xgboost, random_state=42)\n",
    "xgboost_model.fit(X_train, y_train)\n",
    "print(f\"Najlepszy RMSE z Optuny XGBoost (skala logarytmiczna): {study_xgboost.best_value:.6f}\")"
   ],
   "id": "59eedb7acf19f6ec",
   "outputs": [
    {
     "name": "stdout",
     "output_type": "stream",
     "text": [
      "Najlepszy RMSE z Optuny XGBoost (skala logarytmiczna): 0.247977\n"
     ]
    }
   ],
   "execution_count": 224
  },
  {
   "metadata": {},
   "cell_type": "markdown",
   "source": "### Najlepszy RMSE z Optuny XGBoost (skala logarytmiczna): 0.249434",
   "id": "fbe74e6a0b19238a"
  },
  {
   "metadata": {
    "ExecuteTime": {
     "end_time": "2025-03-22T10:15:26.785508Z",
     "start_time": "2025-03-22T10:01:32.826852Z"
    }
   },
   "cell_type": "code",
   "source": [
    "weights = [0.1, 0.2, 0.3, 0.4, 0.5, 0.6, 0.7, 0.8, 0.9]\n",
    "best_weight = 0.5\n",
    "best_rmse = float('inf')\n",
    "\n",
    "for w in weights:\n",
    "    ensemble_rmse_cv = []\n",
    "    kf = KFold(n_splits=5, shuffle=True, random_state=42)\n",
    "    \n",
    "    for train_idx, val_idx in kf.split(X_train):\n",
    "        X_train_fold, X_val_fold = X_train.iloc[train_idx], X_train.iloc[val_idx]\n",
    "        y_train_fold, y_val_fold = y_train.iloc[train_idx], y_train.iloc[val_idx]\n",
    "        \n",
    "        catboost_model = cb.CatBoostRegressor(**best_params)\n",
    "        catboost_model.fit(X_train_fold, y_train_fold)\n",
    "        \n",
    "        xgboost_model = XGBRegressor(**best_params_xgboost, random_state=42)\n",
    "        xgboost_model.fit(X_train_fold, y_train_fold)\n",
    "        \n",
    "        y_val_pred_catboost = catboost_model.predict(X_val_fold)\n",
    "        y_val_pred_xgboost = xgboost_model.predict(X_val_fold)\n",
    "        \n",
    "        y_val_pred_weighted = w * y_val_pred_catboost + (1-w) * y_val_pred_xgboost\n",
    "        \n",
    "        ensemble_rmse_cv.append(np.sqrt(mean_squared_error(y_val_fold, y_val_pred_weighted)))\n",
    "    \n",
    "    mean_rmse = np.mean(ensemble_rmse_cv)\n",
    "    print(f\"Waga CatBoost: {w:.1f}, Średni RMSE: {mean_rmse:.6f}\")\n",
    "    \n",
    "    if mean_rmse < best_rmse:\n",
    "        best_rmse = mean_rmse\n",
    "        best_weight = w\n",
    "\n",
    "print(f\"Najlepsza waga dla CatBoost: {best_weight:.1f} z RMSE: {best_rmse:.6f}\")"
   ],
   "id": "4e942cf93d4d85c0",
   "outputs": [
    {
     "name": "stdout",
     "output_type": "stream",
     "text": [
      "Waga CatBoost: 0.1, Średni RMSE: 0.247456\n",
      "Waga CatBoost: 0.2, Średni RMSE: 0.247192\n",
      "Waga CatBoost: 0.3, Średni RMSE: 0.247186\n",
      "Waga CatBoost: 0.4, Średni RMSE: 0.247436\n",
      "Waga CatBoost: 0.5, Średni RMSE: 0.247943\n",
      "Waga CatBoost: 0.6, Średni RMSE: 0.248705\n",
      "Waga CatBoost: 0.7, Średni RMSE: 0.249719\n",
      "Waga CatBoost: 0.8, Średni RMSE: 0.250982\n",
      "Waga CatBoost: 0.9, Średni RMSE: 0.252492\n",
      "Najlepsza waga dla CatBoost: 0.3 z RMSE: 0.247186\n"
     ]
    }
   ],
   "execution_count": 225
  },
  {
   "metadata": {
    "ExecuteTime": {
     "end_time": "2025-03-22T10:15:48.177737Z",
     "start_time": "2025-03-22T10:15:26.803546Z"
    }
   },
   "cell_type": "code",
   "source": [
    "final_catboost_model = cb.CatBoostRegressor(**best_params)\n",
    "final_catboost_model.fit(X_train, y_train)\n",
    "\n",
    "final_xgboost_model = XGBRegressor(**best_params_xgboost, random_state=42)\n",
    "final_xgboost_model.fit(X_train, y_train)\n",
    "\n",
    "y_pred_catboost = final_catboost_model.predict(X_test)\n",
    "y_pred_xgboost = final_xgboost_model.predict(X_test)\n",
    "\n",
    "y_pred_weighted_ensemble = best_weight * y_pred_catboost + (1-best_weight) * y_pred_xgboost\n",
    "\n",
    "y_pred_weighted_ensemble = np.expm1(y_pred_weighted_ensemble)\n",
    "\n",
    "submission_weighted_ensemble = pd.DataFrame({\n",
    "    'ID': test_ids,\n",
    "    'Cena': y_pred_weighted_ensemble\n",
    "})\n",
    "submission_weighted_ensemble.to_csv('submission_weighted_ensemble.csv', index=False)"
   ],
   "id": "9de21379e559ee4a",
   "outputs": [],
   "execution_count": 226
  },
  {
   "metadata": {},
   "cell_type": "markdown",
   "source": "### Najlepsza waga dla CatBoost: 0.3 z RMSE: 0.248060",
   "id": "242cd9770b83a42d"
  }
 ],
 "metadata": {
  "kernelspec": {
   "display_name": "Python 3",
   "language": "python",
   "name": "python3"
  },
  "language_info": {
   "codemirror_mode": {
    "name": "ipython",
    "version": 2
   },
   "file_extension": ".py",
   "mimetype": "text/x-python",
   "name": "python",
   "nbconvert_exporter": "python",
   "pygments_lexer": "ipython2",
   "version": "2.7.6"
  }
 },
 "nbformat": 4,
 "nbformat_minor": 5
}
