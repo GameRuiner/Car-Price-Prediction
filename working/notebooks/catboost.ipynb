{
 "cells": [
  {
   "cell_type": "code",
   "id": "d9804bf753f24201",
   "metadata": {
    "ExecuteTime": {
     "end_time": "2025-03-21T09:06:19.170806Z",
     "start_time": "2025-03-21T09:06:19.167614Z"
    }
   },
   "source": [
    "import pandas as pd\n",
    "import numpy as np\n",
    "from datetime import datetime\n",
    "import matplotlib.pyplot as plt\n",
    "import seaborn as sns\n",
    "from sklearn.model_selection import KFold\n",
    "from sklearn.metrics import mean_squared_error\n",
    "import catboost as cb\n",
    "import optuna\n",
    "from optuna.integration import CatBoostPruningCallback\n",
    "import warnings\n",
    "warnings.filterwarnings('ignore')"
   ],
   "outputs": [],
   "execution_count": 4
  },
  {
   "metadata": {
    "ExecuteTime": {
     "end_time": "2025-03-21T09:06:20.982214Z",
     "start_time": "2025-03-21T09:06:19.597995Z"
    }
   },
   "cell_type": "code",
   "source": [
    "train_data = pd.read_csv('../data/raw/sales_ads_train.csv')\n",
    "test_data = pd.read_csv('../data/raw/sales_ads_test.csv')"
   ],
   "id": "5124edc0f26e517f",
   "outputs": [],
   "execution_count": 5
  },
  {
   "metadata": {
    "ExecuteTime": {
     "end_time": "2025-03-21T09:06:21.439864Z",
     "start_time": "2025-03-21T09:06:21.434861Z"
    }
   },
   "cell_type": "code",
   "source": "train_data.shape",
   "id": "600e8ec72a290d44",
   "outputs": [
    {
     "data": {
      "text/plain": [
       "(135397, 25)"
      ]
     },
     "execution_count": 6,
     "metadata": {},
     "output_type": "execute_result"
    }
   ],
   "execution_count": 6
  },
  {
   "metadata": {
    "ExecuteTime": {
     "end_time": "2025-03-21T09:06:21.868976Z",
     "start_time": "2025-03-21T09:06:21.865917Z"
    }
   },
   "cell_type": "code",
   "source": "test_data.shape",
   "id": "fa699989bb64a8e8",
   "outputs": [
    {
     "data": {
      "text/plain": [
       "(72907, 24)"
      ]
     },
     "execution_count": 7,
     "metadata": {},
     "output_type": "execute_result"
    }
   ],
   "execution_count": 7
  },
  {
   "metadata": {
    "ExecuteTime": {
     "end_time": "2025-03-21T09:06:22.475170Z",
     "start_time": "2025-03-21T09:06:22.453332Z"
    }
   },
   "cell_type": "code",
   "source": [
    "test_ids = test_data['ID'].values\n",
    "train_data['is_train'] = 1\n",
    "test_data['is_train'] = 0\n",
    "all_data = pd.concat([train_data, test_data], axis=0, ignore_index=True)\n",
    "all_data['log_Cena'] = np.log1p(all_data['Cena'])"
   ],
   "id": "722a40fcdcb7f4db",
   "outputs": [],
   "execution_count": 8
  },
  {
   "metadata": {
    "ExecuteTime": {
     "end_time": "2025-03-21T09:06:23.303682Z",
     "start_time": "2025-03-21T09:06:23.208131Z"
    }
   },
   "cell_type": "code",
   "source": [
    "current_year = datetime.now().year\n",
    "all_data['Wiek_pojazdu'] = current_year - all_data['Rok_produkcji']\n",
    "all_data"
   ],
   "id": "f264eaec0bc766e4",
   "outputs": [
    {
     "data": {
      "text/plain": [
       "           ID     Cena Waluta  Stan   Marka_pojazdu   Model_pojazdu  \\\n",
       "0           1  13900.0    PLN  Used         Renault    Grand Espace   \n",
       "1           2  25900.0    PLN  Used         Renault          Megane   \n",
       "2           3  35900.0    PLN  Used            Opel          Zafira   \n",
       "3           4   5999.0    PLN  Used            Ford           Focus   \n",
       "4           5  44800.0    PLN  Used          Toyota         Avensis   \n",
       "...       ...      ...    ...   ...             ...             ...   \n",
       "208299  72903      NaN    PLN  Used      Volkswagen          Tiguan   \n",
       "208300  72904      NaN    PLN  Used            Ford            Kuga   \n",
       "208301  72905      NaN    PLN  Used          Toyota         Avensis   \n",
       "208302  72906      NaN    PLN  Used         Renault          Trafic   \n",
       "208303  72907      NaN    PLN  Used  DS Automobiles  DS 7 Crossback   \n",
       "\n",
       "                            Wersja_pojazdu Generacja_pojazdu  Rok_produkcji  \\\n",
       "0                   Gr 2.0T 16V Expression               NaN         2005.0   \n",
       "1                              1.6 16V 110   III (2008-2016)         2010.0   \n",
       "2       Tourer 1.6 CDTI ecoFLEX Start/Stop     C (2011-2019)         2015.0   \n",
       "3            1.6 TDCi FX Silver / Silver X   Mk2 (2004-2011)         2007.0   \n",
       "4                                      1.8       III (2009-)         2013.0   \n",
       "...                                    ...               ...            ...   \n",
       "208299       2.0 TSI BMT 4Mot Highline DSG        II (2016-)         2016.0   \n",
       "208300                      2.0 TDCi Trend     I (2008-2012)         2009.0   \n",
       "208301                                 NaN       III (2009-)         2016.0   \n",
       "208302              2.0 dCi 115 Combi L1H1    II (2001-2014)         2009.0   \n",
       "208303              2.0 BlueHDi Grand Chic               NaN         2020.0   \n",
       "\n",
       "        Przebieg_km  ...   Kolor  Kraj_pochodzenia Pierwszy_wlasciciel  \\\n",
       "0          213000.0  ...    blue               NaN                 NaN   \n",
       "1          117089.0  ...  silver               NaN                 NaN   \n",
       "2          115600.0  ...   white           Denmark                 NaN   \n",
       "3          218000.0  ...    blue               NaN                 NaN   \n",
       "4               NaN  ...   other            Poland                 Yes   \n",
       "...             ...  ...     ...               ...                 ...   \n",
       "208299      53000.0  ...   black            Poland                 Yes   \n",
       "208300     188132.0  ...   black           Germany                 NaN   \n",
       "208301      76786.0  ...    blue            Poland                 Yes   \n",
       "208302     204300.0  ...    blue               NaN                 NaN   \n",
       "208303       1000.0  ...    gray               NaN                 Yes   \n",
       "\n",
       "        Data_pierwszej_rejestracji Data_publikacji_oferty  \\\n",
       "0                              NaN             28/04/2021   \n",
       "1                       16/06/2010             04/05/2021   \n",
       "2                              NaN             03/05/2021   \n",
       "3                       27/11/2007             02/05/2021   \n",
       "4                       20/05/2013             02/05/2021   \n",
       "...                            ...                    ...   \n",
       "208299                  20/12/2020             29/04/2021   \n",
       "208300                         NaN             30/04/2021   \n",
       "208301                         NaN             29/04/2021   \n",
       "208302                         NaN             01/05/2021   \n",
       "208303                  17/03/2021             29/04/2021   \n",
       "\n",
       "                                       Lokalizacja_oferty  \\\n",
       "0       SŁONECZNA 1 - 99-300 Kutno, kutnowski, Łódzkie...   \n",
       "1       ul. Wiosenna 8 - 41-407 Imielin, Centrum (Polska)   \n",
       "2                 Sianów, koszaliński, Zachodniopomorskie   \n",
       "3                    Gdańsk, Pomorskie, Przymorze Wielkie   \n",
       "4                           Świdnik, świdnicki, Lubelskie   \n",
       "...                                                   ...   \n",
       "208299  Sąsiedzka 4 - 03-168 Warszawa, Białołęka (Polska)   \n",
       "208300  ul. Małkińska 184 (między CPN a stacją kontrol...   \n",
       "208301  ALEJA WOJSKA POLSKIEGO 68/76 - 42-200 Częstoch...   \n",
       "208302  Gaj ( 3km Od Krakowa Przy Zakopiance)Myślenick...   \n",
       "208303  Szczecińska 7 - 54-517 Wrocław, Fabryczna (Pol...   \n",
       "\n",
       "                                              Wyposazenie  is_train  \\\n",
       "0       ['ABS', 'Electric front windows', 'Drivers air...         1   \n",
       "1       ['ABS', 'Electric front windows', 'Drivers air...         1   \n",
       "2       ['ABS', 'Electric front windows', 'Passengers ...         1   \n",
       "3       ['ABS', 'Electric front windows', 'Drivers air...         1   \n",
       "4       ['ABS', 'Electric front windows', 'Drivers air...         1   \n",
       "...                                                   ...       ...   \n",
       "208299  ['ABS', 'Electric front windows', 'Drivers air...         0   \n",
       "208300  ['ABS', 'Rain sensor', 'Electric front windows...         0   \n",
       "208301  ['ABS', 'Lane assistant', 'Central locking', '...         0   \n",
       "208302  ['ABS', 'Electric front windows', 'Drivers air...         0   \n",
       "208303                                                 []         0   \n",
       "\n",
       "         log_Cena Wiek_pojazdu  \n",
       "0        9.539716         20.0  \n",
       "1       10.162037         15.0  \n",
       "2       10.488520         10.0  \n",
       "3        8.699515         18.0  \n",
       "4       10.709986         12.0  \n",
       "...           ...          ...  \n",
       "208299        NaN          9.0  \n",
       "208300        NaN         16.0  \n",
       "208301        NaN          9.0  \n",
       "208302        NaN         16.0  \n",
       "208303        NaN          5.0  \n",
       "\n",
       "[208304 rows x 28 columns]"
      ],
      "text/html": [
       "<div>\n",
       "<style scoped>\n",
       "    .dataframe tbody tr th:only-of-type {\n",
       "        vertical-align: middle;\n",
       "    }\n",
       "\n",
       "    .dataframe tbody tr th {\n",
       "        vertical-align: top;\n",
       "    }\n",
       "\n",
       "    .dataframe thead th {\n",
       "        text-align: right;\n",
       "    }\n",
       "</style>\n",
       "<table border=\"1\" class=\"dataframe\">\n",
       "  <thead>\n",
       "    <tr style=\"text-align: right;\">\n",
       "      <th></th>\n",
       "      <th>ID</th>\n",
       "      <th>Cena</th>\n",
       "      <th>Waluta</th>\n",
       "      <th>Stan</th>\n",
       "      <th>Marka_pojazdu</th>\n",
       "      <th>Model_pojazdu</th>\n",
       "      <th>Wersja_pojazdu</th>\n",
       "      <th>Generacja_pojazdu</th>\n",
       "      <th>Rok_produkcji</th>\n",
       "      <th>Przebieg_km</th>\n",
       "      <th>...</th>\n",
       "      <th>Kolor</th>\n",
       "      <th>Kraj_pochodzenia</th>\n",
       "      <th>Pierwszy_wlasciciel</th>\n",
       "      <th>Data_pierwszej_rejestracji</th>\n",
       "      <th>Data_publikacji_oferty</th>\n",
       "      <th>Lokalizacja_oferty</th>\n",
       "      <th>Wyposazenie</th>\n",
       "      <th>is_train</th>\n",
       "      <th>log_Cena</th>\n",
       "      <th>Wiek_pojazdu</th>\n",
       "    </tr>\n",
       "  </thead>\n",
       "  <tbody>\n",
       "    <tr>\n",
       "      <th>0</th>\n",
       "      <td>1</td>\n",
       "      <td>13900.0</td>\n",
       "      <td>PLN</td>\n",
       "      <td>Used</td>\n",
       "      <td>Renault</td>\n",
       "      <td>Grand Espace</td>\n",
       "      <td>Gr 2.0T 16V Expression</td>\n",
       "      <td>NaN</td>\n",
       "      <td>2005.0</td>\n",
       "      <td>213000.0</td>\n",
       "      <td>...</td>\n",
       "      <td>blue</td>\n",
       "      <td>NaN</td>\n",
       "      <td>NaN</td>\n",
       "      <td>NaN</td>\n",
       "      <td>28/04/2021</td>\n",
       "      <td>SŁONECZNA 1 - 99-300 Kutno, kutnowski, Łódzkie...</td>\n",
       "      <td>['ABS', 'Electric front windows', 'Drivers air...</td>\n",
       "      <td>1</td>\n",
       "      <td>9.539716</td>\n",
       "      <td>20.0</td>\n",
       "    </tr>\n",
       "    <tr>\n",
       "      <th>1</th>\n",
       "      <td>2</td>\n",
       "      <td>25900.0</td>\n",
       "      <td>PLN</td>\n",
       "      <td>Used</td>\n",
       "      <td>Renault</td>\n",
       "      <td>Megane</td>\n",
       "      <td>1.6 16V 110</td>\n",
       "      <td>III (2008-2016)</td>\n",
       "      <td>2010.0</td>\n",
       "      <td>117089.0</td>\n",
       "      <td>...</td>\n",
       "      <td>silver</td>\n",
       "      <td>NaN</td>\n",
       "      <td>NaN</td>\n",
       "      <td>16/06/2010</td>\n",
       "      <td>04/05/2021</td>\n",
       "      <td>ul. Wiosenna 8 - 41-407 Imielin, Centrum (Polska)</td>\n",
       "      <td>['ABS', 'Electric front windows', 'Drivers air...</td>\n",
       "      <td>1</td>\n",
       "      <td>10.162037</td>\n",
       "      <td>15.0</td>\n",
       "    </tr>\n",
       "    <tr>\n",
       "      <th>2</th>\n",
       "      <td>3</td>\n",
       "      <td>35900.0</td>\n",
       "      <td>PLN</td>\n",
       "      <td>Used</td>\n",
       "      <td>Opel</td>\n",
       "      <td>Zafira</td>\n",
       "      <td>Tourer 1.6 CDTI ecoFLEX Start/Stop</td>\n",
       "      <td>C (2011-2019)</td>\n",
       "      <td>2015.0</td>\n",
       "      <td>115600.0</td>\n",
       "      <td>...</td>\n",
       "      <td>white</td>\n",
       "      <td>Denmark</td>\n",
       "      <td>NaN</td>\n",
       "      <td>NaN</td>\n",
       "      <td>03/05/2021</td>\n",
       "      <td>Sianów, koszaliński, Zachodniopomorskie</td>\n",
       "      <td>['ABS', 'Electric front windows', 'Passengers ...</td>\n",
       "      <td>1</td>\n",
       "      <td>10.488520</td>\n",
       "      <td>10.0</td>\n",
       "    </tr>\n",
       "    <tr>\n",
       "      <th>3</th>\n",
       "      <td>4</td>\n",
       "      <td>5999.0</td>\n",
       "      <td>PLN</td>\n",
       "      <td>Used</td>\n",
       "      <td>Ford</td>\n",
       "      <td>Focus</td>\n",
       "      <td>1.6 TDCi FX Silver / Silver X</td>\n",
       "      <td>Mk2 (2004-2011)</td>\n",
       "      <td>2007.0</td>\n",
       "      <td>218000.0</td>\n",
       "      <td>...</td>\n",
       "      <td>blue</td>\n",
       "      <td>NaN</td>\n",
       "      <td>NaN</td>\n",
       "      <td>27/11/2007</td>\n",
       "      <td>02/05/2021</td>\n",
       "      <td>Gdańsk, Pomorskie, Przymorze Wielkie</td>\n",
       "      <td>['ABS', 'Electric front windows', 'Drivers air...</td>\n",
       "      <td>1</td>\n",
       "      <td>8.699515</td>\n",
       "      <td>18.0</td>\n",
       "    </tr>\n",
       "    <tr>\n",
       "      <th>4</th>\n",
       "      <td>5</td>\n",
       "      <td>44800.0</td>\n",
       "      <td>PLN</td>\n",
       "      <td>Used</td>\n",
       "      <td>Toyota</td>\n",
       "      <td>Avensis</td>\n",
       "      <td>1.8</td>\n",
       "      <td>III (2009-)</td>\n",
       "      <td>2013.0</td>\n",
       "      <td>NaN</td>\n",
       "      <td>...</td>\n",
       "      <td>other</td>\n",
       "      <td>Poland</td>\n",
       "      <td>Yes</td>\n",
       "      <td>20/05/2013</td>\n",
       "      <td>02/05/2021</td>\n",
       "      <td>Świdnik, świdnicki, Lubelskie</td>\n",
       "      <td>['ABS', 'Electric front windows', 'Drivers air...</td>\n",
       "      <td>1</td>\n",
       "      <td>10.709986</td>\n",
       "      <td>12.0</td>\n",
       "    </tr>\n",
       "    <tr>\n",
       "      <th>...</th>\n",
       "      <td>...</td>\n",
       "      <td>...</td>\n",
       "      <td>...</td>\n",
       "      <td>...</td>\n",
       "      <td>...</td>\n",
       "      <td>...</td>\n",
       "      <td>...</td>\n",
       "      <td>...</td>\n",
       "      <td>...</td>\n",
       "      <td>...</td>\n",
       "      <td>...</td>\n",
       "      <td>...</td>\n",
       "      <td>...</td>\n",
       "      <td>...</td>\n",
       "      <td>...</td>\n",
       "      <td>...</td>\n",
       "      <td>...</td>\n",
       "      <td>...</td>\n",
       "      <td>...</td>\n",
       "      <td>...</td>\n",
       "      <td>...</td>\n",
       "    </tr>\n",
       "    <tr>\n",
       "      <th>208299</th>\n",
       "      <td>72903</td>\n",
       "      <td>NaN</td>\n",
       "      <td>PLN</td>\n",
       "      <td>Used</td>\n",
       "      <td>Volkswagen</td>\n",
       "      <td>Tiguan</td>\n",
       "      <td>2.0 TSI BMT 4Mot Highline DSG</td>\n",
       "      <td>II (2016-)</td>\n",
       "      <td>2016.0</td>\n",
       "      <td>53000.0</td>\n",
       "      <td>...</td>\n",
       "      <td>black</td>\n",
       "      <td>Poland</td>\n",
       "      <td>Yes</td>\n",
       "      <td>20/12/2020</td>\n",
       "      <td>29/04/2021</td>\n",
       "      <td>Sąsiedzka 4 - 03-168 Warszawa, Białołęka (Polska)</td>\n",
       "      <td>['ABS', 'Electric front windows', 'Drivers air...</td>\n",
       "      <td>0</td>\n",
       "      <td>NaN</td>\n",
       "      <td>9.0</td>\n",
       "    </tr>\n",
       "    <tr>\n",
       "      <th>208300</th>\n",
       "      <td>72904</td>\n",
       "      <td>NaN</td>\n",
       "      <td>PLN</td>\n",
       "      <td>Used</td>\n",
       "      <td>Ford</td>\n",
       "      <td>Kuga</td>\n",
       "      <td>2.0 TDCi Trend</td>\n",
       "      <td>I (2008-2012)</td>\n",
       "      <td>2009.0</td>\n",
       "      <td>188132.0</td>\n",
       "      <td>...</td>\n",
       "      <td>black</td>\n",
       "      <td>Germany</td>\n",
       "      <td>NaN</td>\n",
       "      <td>NaN</td>\n",
       "      <td>30/04/2021</td>\n",
       "      <td>ul. Małkińska 184 (między CPN a stacją kontrol...</td>\n",
       "      <td>['ABS', 'Rain sensor', 'Electric front windows...</td>\n",
       "      <td>0</td>\n",
       "      <td>NaN</td>\n",
       "      <td>16.0</td>\n",
       "    </tr>\n",
       "    <tr>\n",
       "      <th>208301</th>\n",
       "      <td>72905</td>\n",
       "      <td>NaN</td>\n",
       "      <td>PLN</td>\n",
       "      <td>Used</td>\n",
       "      <td>Toyota</td>\n",
       "      <td>Avensis</td>\n",
       "      <td>NaN</td>\n",
       "      <td>III (2009-)</td>\n",
       "      <td>2016.0</td>\n",
       "      <td>76786.0</td>\n",
       "      <td>...</td>\n",
       "      <td>blue</td>\n",
       "      <td>Poland</td>\n",
       "      <td>Yes</td>\n",
       "      <td>NaN</td>\n",
       "      <td>29/04/2021</td>\n",
       "      <td>ALEJA WOJSKA POLSKIEGO 68/76 - 42-200 Częstoch...</td>\n",
       "      <td>['ABS', 'Lane assistant', 'Central locking', '...</td>\n",
       "      <td>0</td>\n",
       "      <td>NaN</td>\n",
       "      <td>9.0</td>\n",
       "    </tr>\n",
       "    <tr>\n",
       "      <th>208302</th>\n",
       "      <td>72906</td>\n",
       "      <td>NaN</td>\n",
       "      <td>PLN</td>\n",
       "      <td>Used</td>\n",
       "      <td>Renault</td>\n",
       "      <td>Trafic</td>\n",
       "      <td>2.0 dCi 115 Combi L1H1</td>\n",
       "      <td>II (2001-2014)</td>\n",
       "      <td>2009.0</td>\n",
       "      <td>204300.0</td>\n",
       "      <td>...</td>\n",
       "      <td>blue</td>\n",
       "      <td>NaN</td>\n",
       "      <td>NaN</td>\n",
       "      <td>NaN</td>\n",
       "      <td>01/05/2021</td>\n",
       "      <td>Gaj ( 3km Od Krakowa Przy Zakopiance)Myślenick...</td>\n",
       "      <td>['ABS', 'Electric front windows', 'Drivers air...</td>\n",
       "      <td>0</td>\n",
       "      <td>NaN</td>\n",
       "      <td>16.0</td>\n",
       "    </tr>\n",
       "    <tr>\n",
       "      <th>208303</th>\n",
       "      <td>72907</td>\n",
       "      <td>NaN</td>\n",
       "      <td>PLN</td>\n",
       "      <td>Used</td>\n",
       "      <td>DS Automobiles</td>\n",
       "      <td>DS 7 Crossback</td>\n",
       "      <td>2.0 BlueHDi Grand Chic</td>\n",
       "      <td>NaN</td>\n",
       "      <td>2020.0</td>\n",
       "      <td>1000.0</td>\n",
       "      <td>...</td>\n",
       "      <td>gray</td>\n",
       "      <td>NaN</td>\n",
       "      <td>Yes</td>\n",
       "      <td>17/03/2021</td>\n",
       "      <td>29/04/2021</td>\n",
       "      <td>Szczecińska 7 - 54-517 Wrocław, Fabryczna (Pol...</td>\n",
       "      <td>[]</td>\n",
       "      <td>0</td>\n",
       "      <td>NaN</td>\n",
       "      <td>5.0</td>\n",
       "    </tr>\n",
       "  </tbody>\n",
       "</table>\n",
       "<p>208304 rows × 28 columns</p>\n",
       "</div>"
      ]
     },
     "execution_count": 9,
     "metadata": {},
     "output_type": "execute_result"
    }
   ],
   "execution_count": 9
  },
  {
   "metadata": {
    "ExecuteTime": {
     "end_time": "2025-03-21T08:52:25.439912Z",
     "start_time": "2025-03-21T08:52:25.436277Z"
    }
   },
   "cell_type": "code",
   "source": "all_data['log_Przebieg_km'] = np.log1p(all_data['Przebieg_km'])",
   "id": "31107978926dff47",
   "outputs": [],
   "execution_count": 13
  },
  {
   "metadata": {
    "ExecuteTime": {
     "end_time": "2025-03-21T08:52:25.533443Z",
     "start_time": "2025-03-21T08:52:25.525735Z"
    }
   },
   "cell_type": "code",
   "source": [
    "all_data['Efektywnosc_silnika'] = all_data['Moc_KM'] / (all_data['Pojemnosc_cm3'] / 1000)  # moc na litr\n",
    "all_data['Efektywnosc_silnika'].replace([np.inf, -np.inf], np.nan, inplace=True)\n",
    "all_data['Efektywnosc_silnika'] = all_data['Efektywnosc_silnika'].fillna(all_data['Efektywnosc_silnika'].median())"
   ],
   "id": "ce1256f43ede834b",
   "outputs": [],
   "execution_count": 14
  },
  {
   "metadata": {
    "ExecuteTime": {
     "end_time": "2025-03-21T08:52:25.630762Z",
     "start_time": "2025-03-21T08:52:25.622458Z"
    }
   },
   "cell_type": "code",
   "source": [
    "all_data['Sredni_roczny_przebieg'] = all_data['Przebieg_km'] / all_data['Wiek_pojazdu'].replace(0, 0.5)\n",
    "all_data['Sredni_roczny_przebieg'].replace([np.inf, -np.inf], np.nan, inplace=True)\n",
    "all_data['Sredni_roczny_przebieg'] = all_data['Sredni_roczny_przebieg'].fillna(all_data['Sredni_roczny_przebieg'].median())"
   ],
   "id": "10399c196674aca",
   "outputs": [],
   "execution_count": 15
  },
  {
   "metadata": {
    "ExecuteTime": {
     "end_time": "2025-03-21T08:52:36.088580Z",
     "start_time": "2025-03-21T08:52:25.718809Z"
    }
   },
   "cell_type": "code",
   "source": [
    "if 'Wyposazenie' in all_data.columns:\n",
    "    if isinstance(all_data['Wyposazenie'].iloc[0], str):\n",
    "        all_data['Wyposazenie'] = all_data['Wyposazenie'].apply(lambda x: eval(x) if isinstance(x, str) and x.startswith('[') else [])\n",
    "    all_data['Liczba_elementow_wyposazenia'] = all_data['Wyposazenie'].apply(len)\n",
    "\n",
    "    premium_features = ['Leather upholstery', 'GPS navigation', 'Heated front seats', \n",
    "                         'Xenon lights', 'LED lights', 'Automatic air conditioning']\n",
    "    for feature in premium_features:\n",
    "        all_data[f'ma_{feature.replace(\" \", \"_\")}'] = all_data['Wyposazenie'].apply(\n",
    "            lambda x: 1 if isinstance(x, list) and any(feature in item for item in x) else 0\n",
    "        )"
   ],
   "id": "ed0848d1b92bb150",
   "outputs": [],
   "execution_count": 16
  },
  {
   "metadata": {
    "ExecuteTime": {
     "end_time": "2025-03-21T08:52:36.200763Z",
     "start_time": "2025-03-21T08:52:36.178625Z"
    }
   },
   "cell_type": "code",
   "source": [
    "numeric_cols = ['Rok_produkcji', 'Przebieg_km', 'Moc_KM', 'Pojemnosc_cm3', \n",
    "                'Liczba_drzwi', 'Liczba_elementow_wyposazenia', 'Efektywnosc_silnika']\n",
    "for col in numeric_cols:\n",
    "    if col in all_data.columns and all_data[col].isnull().sum() > 0:\n",
    "        all_data[col] = all_data[col].fillna(all_data.loc[all_data['is_train'] == 1, col].median())\n"
   ],
   "id": "d376f926e0e51e27",
   "outputs": [],
   "execution_count": 17
  },
  {
   "metadata": {
    "ExecuteTime": {
     "end_time": "2025-03-21T08:52:36.386946Z",
     "start_time": "2025-03-21T08:52:36.289457Z"
    }
   },
   "cell_type": "code",
   "source": [
    "categorical_cols = ['Stan', 'Marka_pojazdu', 'Model_pojazdu', 'Rodzaj_paliwa', \n",
    "                   'Naped', 'Skrzynia_biegow', 'Typ_nadwozia', 'Kolor', 'Kraj_pochodzenia']\n",
    "for col in categorical_cols:\n",
    "    if col in all_data.columns and all_data[col].isnull().sum() > 0:\n",
    "        all_data[col] = all_data[col].fillna('nieznany')"
   ],
   "id": "810e984680fc6b32",
   "outputs": [],
   "execution_count": 18
  },
  {
   "metadata": {
    "ExecuteTime": {
     "end_time": "2025-03-21T08:52:36.532996Z",
     "start_time": "2025-03-21T08:52:36.477294Z"
    }
   },
   "cell_type": "code",
   "source": [
    "train_marka_mean_price = all_data.loc[all_data['is_train'] == 1].groupby('Marka_pojazdu')['log_Cena'].mean()\n",
    "all_data['Marka_avg_price'] = all_data['Marka_pojazdu'].map(train_marka_mean_price)"
   ],
   "id": "a6df7904153e58f8",
   "outputs": [],
   "execution_count": 19
  },
  {
   "metadata": {
    "ExecuteTime": {
     "end_time": "2025-03-21T08:52:36.629233Z",
     "start_time": "2025-03-21T08:52:36.625919Z"
    }
   },
   "cell_type": "code",
   "source": "all_data['Marka_avg_price'] = all_data['Marka_avg_price'].fillna(train_marka_mean_price.mean())",
   "id": "4bede949952c8527",
   "outputs": [],
   "execution_count": 20
  },
  {
   "metadata": {
    "ExecuteTime": {
     "end_time": "2025-03-21T08:52:39.169916Z",
     "start_time": "2025-03-21T08:52:36.722753Z"
    }
   },
   "cell_type": "code",
   "source": [
    "train_model_mean_price = all_data.loc[all_data['is_train'] == 1].groupby(['Marka_pojazdu', 'Model_pojazdu'])['log_Cena'].mean()\n",
    "all_data['Model_avg_price'] = all_data.apply(lambda x: train_model_mean_price.get((x['Marka_pojazdu'], x['Model_pojazdu']), np.nan), axis=1)"
   ],
   "id": "1726fe83ef12ab78",
   "outputs": [],
   "execution_count": 21
  },
  {
   "metadata": {
    "ExecuteTime": {
     "end_time": "2025-03-21T08:52:39.270502Z",
     "start_time": "2025-03-21T08:52:39.266502Z"
    }
   },
   "cell_type": "code",
   "source": "all_data['Model_avg_price'] = all_data['Model_avg_price'].fillna(all_data['Marka_avg_price'])",
   "id": "cc9f42ae0de68e0b",
   "outputs": [],
   "execution_count": 22
  },
  {
   "metadata": {
    "ExecuteTime": {
     "end_time": "2025-03-21T08:52:39.386346Z",
     "start_time": "2025-03-21T08:52:39.367127Z"
    }
   },
   "cell_type": "code",
   "source": [
    "color_counts = all_data['Kolor'].value_counts(normalize=True)\n",
    "all_data['Kolor_freq'] = all_data['Kolor'].map(color_counts)"
   ],
   "id": "b3cc964ee74983b7",
   "outputs": [],
   "execution_count": 23
  },
  {
   "metadata": {
    "ExecuteTime": {
     "end_time": "2025-03-21T08:52:39.631919Z",
     "start_time": "2025-03-21T08:52:39.478873Z"
    }
   },
   "cell_type": "code",
   "source": [
    "all_data_encoded = pd.get_dummies(all_data, columns=['Stan', 'Rodzaj_paliwa', 'Naped', \n",
    "                                         'Skrzynia_biegow', 'Typ_nadwozia'])"
   ],
   "id": "2077994c2a6efe96",
   "outputs": [],
   "execution_count": 24
  },
  {
   "metadata": {
    "ExecuteTime": {
     "end_time": "2025-03-21T08:57:48.467561Z",
     "start_time": "2025-03-21T08:57:48.429272Z"
    }
   },
   "cell_type": "code",
   "source": [
    "features = [\n",
    "    'Wiek_pojazdu', 'log_Przebieg_km', 'Moc_KM', 'Pojemnosc_cm3', \n",
    "    'Liczba_elementow_wyposazenia', 'Efektywnosc_silnika', 'Sredni_roczny_przebieg',\n",
    "    \n",
    "    'Marka_avg_price', 'Model_avg_price', 'Kolor_freq',\n",
    "    \n",
    "    'ma_Leather_upholstery', 'ma_GPS_navigation', 'ma_Heated_front_seats',\n",
    "    'ma_Xenon_lights', 'ma_LED_lights', 'ma_Automatic_air_conditioning'\n",
    "]\n",
    "\n",
    "features += [col for col in all_data_encoded.columns if col.startswith(('Stan_', 'Rodzaj_paliwa_', \n",
    "                                                               'Naped_', 'Skrzynia_biegow_', 'Typ_nadwozia_'))]\n",
    "X_all = all_data_encoded[features].copy()\n",
    "X_all"
   ],
   "id": "fb5d67d30833910e",
   "outputs": [
    {
     "data": {
      "text/plain": [
       "        Wiek_pojazdu  log_Przebieg_km  Moc_KM  Pojemnosc_cm3  \\\n",
       "0               20.0        12.269052   170.0         1998.0   \n",
       "1               15.0        11.670698   110.0         1598.0   \n",
       "2               10.0        11.657900   136.0         1598.0   \n",
       "3               18.0        12.292255    90.0         1560.0   \n",
       "4               12.0              NaN   136.0         1798.0   \n",
       "...              ...              ...     ...            ...   \n",
       "208299           9.0        10.878066   220.0         1984.0   \n",
       "208300          16.0        12.144904   136.0         1997.0   \n",
       "208301           9.0        11.248791   143.0         1995.0   \n",
       "208302          16.0        12.227350   114.0         1995.0   \n",
       "208303           5.0         6.908755   177.0         1997.0   \n",
       "\n",
       "        Liczba_elementow_wyposazenia  Efektywnosc_silnika  \\\n",
       "0                                 18            85.085085   \n",
       "1                                 27            68.836045   \n",
       "2                                 24            85.106383   \n",
       "3                                 17            57.692308   \n",
       "4                                 25            75.093867   \n",
       "...                              ...                  ...   \n",
       "208299                            52           110.887097   \n",
       "208300                            35            68.102153   \n",
       "208301                            37            71.679198   \n",
       "208302                            11            57.142857   \n",
       "208303                             0            88.632949   \n",
       "\n",
       "        Sredni_roczny_przebieg  Marka_avg_price  Model_avg_price  Kolor_freq  \\\n",
       "0                 10650.000000        10.053987         9.695962    0.102494   \n",
       "1                  7805.933333        10.053987        10.122849    0.145921   \n",
       "2                 11560.000000        10.045032         9.841850    0.143641   \n",
       "3                 12111.111111        10.352441        10.049870    0.102494   \n",
       "4                 10066.666667        10.460586        10.205401    0.065280   \n",
       "...                        ...              ...              ...         ...   \n",
       "208299             5888.888889        10.385014        11.188347    0.237523   \n",
       "208300            11758.250000        10.352441        11.019403    0.237523   \n",
       "208301             8531.777778        10.460586        10.205401    0.102494   \n",
       "208302            12768.750000        10.053987        10.662298    0.102494   \n",
       "208303              200.000000        11.746123        12.093885    0.150175   \n",
       "\n",
       "        ...  Typ_nadwozia_SUV  Typ_nadwozia_city_cars  Typ_nadwozia_compact  \\\n",
       "0       ...             False                   False                 False   \n",
       "1       ...             False                   False                 False   \n",
       "2       ...             False                   False                 False   \n",
       "3       ...             False                   False                  True   \n",
       "4       ...             False                   False                 False   \n",
       "...     ...               ...                     ...                   ...   \n",
       "208299  ...              True                   False                 False   \n",
       "208300  ...              True                   False                 False   \n",
       "208301  ...             False                   False                 False   \n",
       "208302  ...             False                   False                 False   \n",
       "208303  ...              True                   False                 False   \n",
       "\n",
       "        Typ_nadwozia_convertible  Typ_nadwozia_coupe  Typ_nadwozia_minivan  \\\n",
       "0                          False               False                  True   \n",
       "1                          False               False                 False   \n",
       "2                          False               False                  True   \n",
       "3                          False               False                 False   \n",
       "4                          False               False                 False   \n",
       "...                          ...                 ...                   ...   \n",
       "208299                     False               False                 False   \n",
       "208300                     False               False                 False   \n",
       "208301                     False               False                 False   \n",
       "208302                     False               False                  True   \n",
       "208303                     False               False                 False   \n",
       "\n",
       "        Typ_nadwozia_nieznany  Typ_nadwozia_sedan  Typ_nadwozia_small_cars  \\\n",
       "0                       False               False                    False   \n",
       "1                       False               False                    False   \n",
       "2                       False               False                    False   \n",
       "3                       False               False                    False   \n",
       "4                        True               False                    False   \n",
       "...                       ...                 ...                      ...   \n",
       "208299                  False               False                    False   \n",
       "208300                  False               False                    False   \n",
       "208301                  False               False                    False   \n",
       "208302                  False               False                    False   \n",
       "208303                  False               False                    False   \n",
       "\n",
       "        Typ_nadwozia_station_wagon  \n",
       "0                            False  \n",
       "1                             True  \n",
       "2                            False  \n",
       "3                            False  \n",
       "4                            False  \n",
       "...                            ...  \n",
       "208299                       False  \n",
       "208300                       False  \n",
       "208301                        True  \n",
       "208302                       False  \n",
       "208303                       False  \n",
       "\n",
       "[208304 rows x 47 columns]"
      ],
      "text/html": [
       "<div>\n",
       "<style scoped>\n",
       "    .dataframe tbody tr th:only-of-type {\n",
       "        vertical-align: middle;\n",
       "    }\n",
       "\n",
       "    .dataframe tbody tr th {\n",
       "        vertical-align: top;\n",
       "    }\n",
       "\n",
       "    .dataframe thead th {\n",
       "        text-align: right;\n",
       "    }\n",
       "</style>\n",
       "<table border=\"1\" class=\"dataframe\">\n",
       "  <thead>\n",
       "    <tr style=\"text-align: right;\">\n",
       "      <th></th>\n",
       "      <th>Wiek_pojazdu</th>\n",
       "      <th>log_Przebieg_km</th>\n",
       "      <th>Moc_KM</th>\n",
       "      <th>Pojemnosc_cm3</th>\n",
       "      <th>Liczba_elementow_wyposazenia</th>\n",
       "      <th>Efektywnosc_silnika</th>\n",
       "      <th>Sredni_roczny_przebieg</th>\n",
       "      <th>Marka_avg_price</th>\n",
       "      <th>Model_avg_price</th>\n",
       "      <th>Kolor_freq</th>\n",
       "      <th>...</th>\n",
       "      <th>Typ_nadwozia_SUV</th>\n",
       "      <th>Typ_nadwozia_city_cars</th>\n",
       "      <th>Typ_nadwozia_compact</th>\n",
       "      <th>Typ_nadwozia_convertible</th>\n",
       "      <th>Typ_nadwozia_coupe</th>\n",
       "      <th>Typ_nadwozia_minivan</th>\n",
       "      <th>Typ_nadwozia_nieznany</th>\n",
       "      <th>Typ_nadwozia_sedan</th>\n",
       "      <th>Typ_nadwozia_small_cars</th>\n",
       "      <th>Typ_nadwozia_station_wagon</th>\n",
       "    </tr>\n",
       "  </thead>\n",
       "  <tbody>\n",
       "    <tr>\n",
       "      <th>0</th>\n",
       "      <td>20.0</td>\n",
       "      <td>12.269052</td>\n",
       "      <td>170.0</td>\n",
       "      <td>1998.0</td>\n",
       "      <td>18</td>\n",
       "      <td>85.085085</td>\n",
       "      <td>10650.000000</td>\n",
       "      <td>10.053987</td>\n",
       "      <td>9.695962</td>\n",
       "      <td>0.102494</td>\n",
       "      <td>...</td>\n",
       "      <td>False</td>\n",
       "      <td>False</td>\n",
       "      <td>False</td>\n",
       "      <td>False</td>\n",
       "      <td>False</td>\n",
       "      <td>True</td>\n",
       "      <td>False</td>\n",
       "      <td>False</td>\n",
       "      <td>False</td>\n",
       "      <td>False</td>\n",
       "    </tr>\n",
       "    <tr>\n",
       "      <th>1</th>\n",
       "      <td>15.0</td>\n",
       "      <td>11.670698</td>\n",
       "      <td>110.0</td>\n",
       "      <td>1598.0</td>\n",
       "      <td>27</td>\n",
       "      <td>68.836045</td>\n",
       "      <td>7805.933333</td>\n",
       "      <td>10.053987</td>\n",
       "      <td>10.122849</td>\n",
       "      <td>0.145921</td>\n",
       "      <td>...</td>\n",
       "      <td>False</td>\n",
       "      <td>False</td>\n",
       "      <td>False</td>\n",
       "      <td>False</td>\n",
       "      <td>False</td>\n",
       "      <td>False</td>\n",
       "      <td>False</td>\n",
       "      <td>False</td>\n",
       "      <td>False</td>\n",
       "      <td>True</td>\n",
       "    </tr>\n",
       "    <tr>\n",
       "      <th>2</th>\n",
       "      <td>10.0</td>\n",
       "      <td>11.657900</td>\n",
       "      <td>136.0</td>\n",
       "      <td>1598.0</td>\n",
       "      <td>24</td>\n",
       "      <td>85.106383</td>\n",
       "      <td>11560.000000</td>\n",
       "      <td>10.045032</td>\n",
       "      <td>9.841850</td>\n",
       "      <td>0.143641</td>\n",
       "      <td>...</td>\n",
       "      <td>False</td>\n",
       "      <td>False</td>\n",
       "      <td>False</td>\n",
       "      <td>False</td>\n",
       "      <td>False</td>\n",
       "      <td>True</td>\n",
       "      <td>False</td>\n",
       "      <td>False</td>\n",
       "      <td>False</td>\n",
       "      <td>False</td>\n",
       "    </tr>\n",
       "    <tr>\n",
       "      <th>3</th>\n",
       "      <td>18.0</td>\n",
       "      <td>12.292255</td>\n",
       "      <td>90.0</td>\n",
       "      <td>1560.0</td>\n",
       "      <td>17</td>\n",
       "      <td>57.692308</td>\n",
       "      <td>12111.111111</td>\n",
       "      <td>10.352441</td>\n",
       "      <td>10.049870</td>\n",
       "      <td>0.102494</td>\n",
       "      <td>...</td>\n",
       "      <td>False</td>\n",
       "      <td>False</td>\n",
       "      <td>True</td>\n",
       "      <td>False</td>\n",
       "      <td>False</td>\n",
       "      <td>False</td>\n",
       "      <td>False</td>\n",
       "      <td>False</td>\n",
       "      <td>False</td>\n",
       "      <td>False</td>\n",
       "    </tr>\n",
       "    <tr>\n",
       "      <th>4</th>\n",
       "      <td>12.0</td>\n",
       "      <td>NaN</td>\n",
       "      <td>136.0</td>\n",
       "      <td>1798.0</td>\n",
       "      <td>25</td>\n",
       "      <td>75.093867</td>\n",
       "      <td>10066.666667</td>\n",
       "      <td>10.460586</td>\n",
       "      <td>10.205401</td>\n",
       "      <td>0.065280</td>\n",
       "      <td>...</td>\n",
       "      <td>False</td>\n",
       "      <td>False</td>\n",
       "      <td>False</td>\n",
       "      <td>False</td>\n",
       "      <td>False</td>\n",
       "      <td>False</td>\n",
       "      <td>True</td>\n",
       "      <td>False</td>\n",
       "      <td>False</td>\n",
       "      <td>False</td>\n",
       "    </tr>\n",
       "    <tr>\n",
       "      <th>...</th>\n",
       "      <td>...</td>\n",
       "      <td>...</td>\n",
       "      <td>...</td>\n",
       "      <td>...</td>\n",
       "      <td>...</td>\n",
       "      <td>...</td>\n",
       "      <td>...</td>\n",
       "      <td>...</td>\n",
       "      <td>...</td>\n",
       "      <td>...</td>\n",
       "      <td>...</td>\n",
       "      <td>...</td>\n",
       "      <td>...</td>\n",
       "      <td>...</td>\n",
       "      <td>...</td>\n",
       "      <td>...</td>\n",
       "      <td>...</td>\n",
       "      <td>...</td>\n",
       "      <td>...</td>\n",
       "      <td>...</td>\n",
       "      <td>...</td>\n",
       "    </tr>\n",
       "    <tr>\n",
       "      <th>208299</th>\n",
       "      <td>9.0</td>\n",
       "      <td>10.878066</td>\n",
       "      <td>220.0</td>\n",
       "      <td>1984.0</td>\n",
       "      <td>52</td>\n",
       "      <td>110.887097</td>\n",
       "      <td>5888.888889</td>\n",
       "      <td>10.385014</td>\n",
       "      <td>11.188347</td>\n",
       "      <td>0.237523</td>\n",
       "      <td>...</td>\n",
       "      <td>True</td>\n",
       "      <td>False</td>\n",
       "      <td>False</td>\n",
       "      <td>False</td>\n",
       "      <td>False</td>\n",
       "      <td>False</td>\n",
       "      <td>False</td>\n",
       "      <td>False</td>\n",
       "      <td>False</td>\n",
       "      <td>False</td>\n",
       "    </tr>\n",
       "    <tr>\n",
       "      <th>208300</th>\n",
       "      <td>16.0</td>\n",
       "      <td>12.144904</td>\n",
       "      <td>136.0</td>\n",
       "      <td>1997.0</td>\n",
       "      <td>35</td>\n",
       "      <td>68.102153</td>\n",
       "      <td>11758.250000</td>\n",
       "      <td>10.352441</td>\n",
       "      <td>11.019403</td>\n",
       "      <td>0.237523</td>\n",
       "      <td>...</td>\n",
       "      <td>True</td>\n",
       "      <td>False</td>\n",
       "      <td>False</td>\n",
       "      <td>False</td>\n",
       "      <td>False</td>\n",
       "      <td>False</td>\n",
       "      <td>False</td>\n",
       "      <td>False</td>\n",
       "      <td>False</td>\n",
       "      <td>False</td>\n",
       "    </tr>\n",
       "    <tr>\n",
       "      <th>208301</th>\n",
       "      <td>9.0</td>\n",
       "      <td>11.248791</td>\n",
       "      <td>143.0</td>\n",
       "      <td>1995.0</td>\n",
       "      <td>37</td>\n",
       "      <td>71.679198</td>\n",
       "      <td>8531.777778</td>\n",
       "      <td>10.460586</td>\n",
       "      <td>10.205401</td>\n",
       "      <td>0.102494</td>\n",
       "      <td>...</td>\n",
       "      <td>False</td>\n",
       "      <td>False</td>\n",
       "      <td>False</td>\n",
       "      <td>False</td>\n",
       "      <td>False</td>\n",
       "      <td>False</td>\n",
       "      <td>False</td>\n",
       "      <td>False</td>\n",
       "      <td>False</td>\n",
       "      <td>True</td>\n",
       "    </tr>\n",
       "    <tr>\n",
       "      <th>208302</th>\n",
       "      <td>16.0</td>\n",
       "      <td>12.227350</td>\n",
       "      <td>114.0</td>\n",
       "      <td>1995.0</td>\n",
       "      <td>11</td>\n",
       "      <td>57.142857</td>\n",
       "      <td>12768.750000</td>\n",
       "      <td>10.053987</td>\n",
       "      <td>10.662298</td>\n",
       "      <td>0.102494</td>\n",
       "      <td>...</td>\n",
       "      <td>False</td>\n",
       "      <td>False</td>\n",
       "      <td>False</td>\n",
       "      <td>False</td>\n",
       "      <td>False</td>\n",
       "      <td>True</td>\n",
       "      <td>False</td>\n",
       "      <td>False</td>\n",
       "      <td>False</td>\n",
       "      <td>False</td>\n",
       "    </tr>\n",
       "    <tr>\n",
       "      <th>208303</th>\n",
       "      <td>5.0</td>\n",
       "      <td>6.908755</td>\n",
       "      <td>177.0</td>\n",
       "      <td>1997.0</td>\n",
       "      <td>0</td>\n",
       "      <td>88.632949</td>\n",
       "      <td>200.000000</td>\n",
       "      <td>11.746123</td>\n",
       "      <td>12.093885</td>\n",
       "      <td>0.150175</td>\n",
       "      <td>...</td>\n",
       "      <td>True</td>\n",
       "      <td>False</td>\n",
       "      <td>False</td>\n",
       "      <td>False</td>\n",
       "      <td>False</td>\n",
       "      <td>False</td>\n",
       "      <td>False</td>\n",
       "      <td>False</td>\n",
       "      <td>False</td>\n",
       "      <td>False</td>\n",
       "    </tr>\n",
       "  </tbody>\n",
       "</table>\n",
       "<p>208304 rows × 47 columns</p>\n",
       "</div>"
      ]
     },
     "execution_count": 45,
     "metadata": {},
     "output_type": "execute_result"
    }
   ],
   "execution_count": 45
  },
  {
   "metadata": {
    "ExecuteTime": {
     "end_time": "2025-03-21T08:52:39.932685Z",
     "start_time": "2025-03-21T08:52:39.890048Z"
    }
   },
   "cell_type": "code",
   "outputs": [
    {
     "name": "stdout",
     "output_type": "stream",
     "text": [
      "Brakujące wartości w danych: Wiek_pojazdu       3407\n",
      "log_Przebieg_km    4333\n",
      "dtype: int64\n"
     ]
    }
   ],
   "execution_count": 26,
   "source": [
    "missing = X_all.isnull().sum()\n",
    "if missing.sum() > 0:\n",
    "    print(f\"Brakujące wartości w danych: {missing[missing > 0]}\")\n",
    "    for col in X_all.columns:\n",
    "        if X_all[col].isnull().sum() > 0:\n",
    "            if X_all[col].dtype.kind in 'ifc':\n",
    "                X_all[col] = X_all[col].fillna(X_all.loc[all_data['is_train'] == 1, col].median())\n",
    "            else:\n",
    "                X_all[col] = X_all[col].fillna('nieznany')"
   ],
   "id": "ba42334ef8347fb5"
  },
  {
   "metadata": {
    "ExecuteTime": {
     "end_time": "2025-03-21T08:52:40.130234Z",
     "start_time": "2025-03-21T08:52:40.111365Z"
    }
   },
   "cell_type": "code",
   "source": [
    "X_train = X_all[all_data['is_train'] == 1]\n",
    "y_train = all_data.loc[all_data['is_train'] == 1, 'log_Cena']\n",
    "X_test = X_all[all_data['is_train'] == 0]"
   ],
   "id": "5639c57e878e7769",
   "outputs": [],
   "execution_count": 27
  },
  {
   "metadata": {
    "ExecuteTime": {
     "end_time": "2025-03-21T08:52:40.304063Z",
     "start_time": "2025-03-21T08:52:40.300729Z"
    }
   },
   "cell_type": "code",
   "source": [
    "def calculate_rmse(y_true, y_pred):\n",
    "    return np.sqrt(mean_squared_error(y_true, y_pred))"
   ],
   "id": "f3b3abbb20324c46",
   "outputs": [],
   "execution_count": 28
  },
  {
   "metadata": {
    "ExecuteTime": {
     "end_time": "2025-03-21T08:52:40.477351Z",
     "start_time": "2025-03-21T08:52:40.471915Z"
    }
   },
   "cell_type": "code",
   "source": [
    "def objective(trial):\n",
    "    param = {\n",
    "        \"iterations\": trial.suggest_int(\"iterations\", 500, 3000),\n",
    "        \"learning_rate\": trial.suggest_float(\"learning_rate\", 0.01, 0.3, log=True),\n",
    "        \"depth\": trial.suggest_int(\"depth\", 4, 10),\n",
    "        \"l2_leaf_reg\": trial.suggest_float(\"l2_leaf_reg\", 1e-8, 10.0, log=True),\n",
    "        \"random_strength\": trial.suggest_float(\"random_strength\", 1e-8, 10.0, log=True),\n",
    "        \"bagging_temperature\": trial.suggest_float(\"bagging_temperature\", 0, 10.0),\n",
    "        \"border_count\": trial.suggest_int(\"border_count\", 32, 255),\n",
    "        \"min_data_in_leaf\": trial.suggest_int(\"min_data_in_leaf\", 1, 100),\n",
    "        \"verbose\": False,\n",
    "        \"random_seed\": 42\n",
    "    }\n",
    "    \n",
    "    kf = KFold(n_splits=5, shuffle=True, random_state=42)\n",
    "    log_rmse_scores = []\n",
    "    \n",
    "    for train_idx, val_idx in kf.split(X_train):\n",
    "        X_train_fold, X_val_fold = X_train.iloc[train_idx], X_train.iloc[val_idx]\n",
    "        y_train_fold, y_val_fold = y_train.iloc[train_idx], y_train.iloc[val_idx]\n",
    "        \n",
    "        pruning_callback = CatBoostPruningCallback(trial, \"RMSE\")\n",
    "        \n",
    "        model = cb.CatBoostRegressor(**param)\n",
    "        model.fit(\n",
    "            X_train_fold, \n",
    "            y_train_fold,\n",
    "            eval_set=[(X_val_fold, y_val_fold)],\n",
    "            callbacks=[pruning_callback],\n",
    "            early_stopping_rounds=100,\n",
    "            verbose=0\n",
    "        )\n",
    "        \n",
    "        y_val_pred_log = model.predict(X_val_fold)\n",
    "        \n",
    "        log_rmse = calculate_rmse(y_val_fold, y_val_pred_log)\n",
    "        log_rmse_scores.append(log_rmse)\n",
    "    \n",
    "    return np.mean(log_rmse_scores)"
   ],
   "id": "aaf47265bb68c895",
   "outputs": [],
   "execution_count": 29
  },
  {
   "metadata": {
    "ExecuteTime": {
     "end_time": "2025-03-21T08:55:29.814680Z",
     "start_time": "2025-03-21T08:52:40.646641Z"
    }
   },
   "cell_type": "code",
   "source": [
    "study = optuna.create_study(\n",
    "    direction=\"minimize\",\n",
    "    pruner=optuna.pruners.MedianPruner(n_warmup_steps=10),\n",
    "    sampler=optuna.samplers.TPESampler(seed=42)\n",
    ")\n",
    "\n",
    "n_trials = 20\n",
    "study.optimize(objective, n_trials=n_trials)"
   ],
   "id": "92ac3689f2e50ca5",
   "outputs": [
    {
     "name": "stderr",
     "output_type": "stream",
     "text": [
      "[I 2025-03-21 09:52:40,648] A new study created in memory with name: no-name-35e61a45-5f35-45d6-ae32-f27109ffd97f\n",
      "[I 2025-03-21 09:53:00,782] Trial 0 finished with value: 0.26022646505917213 and parameters: {'iterations': 1436, 'learning_rate': 0.2536999076681772, 'depth': 9, 'l2_leaf_reg': 0.0024430162614261413, 'random_strength': 2.5361081166471375e-07, 'bagging_temperature': 1.5599452033620265, 'border_count': 45, 'min_data_in_leaf': 87}. Best is trial 0 with value: 0.26022646505917213.\n",
      "[I 2025-03-21 09:53:35,788] Trial 1 finished with value: 0.26105011034396286 and parameters: {'iterations': 2003, 'learning_rate': 0.11114989443094977, 'depth': 4, 'l2_leaf_reg': 5.360294728728285, 'random_strength': 0.31044435499483225, 'bagging_temperature': 2.1233911067827616, 'border_count': 72, 'min_data_in_leaf': 19}. Best is trial 0 with value: 0.26022646505917213.\n",
      "[I 2025-03-21 09:54:07,895] Trial 2 finished with value: 0.2564613424400939 and parameters: {'iterations': 1260, 'learning_rate': 0.05958389350068958, 'depth': 7, 'l2_leaf_reg': 4.17890272377219e-06, 'random_strength': 0.0032112643094417484, 'bagging_temperature': 1.3949386065204183, 'border_count': 97, 'min_data_in_leaf': 37}. Best is trial 2 with value: 0.2564613424400939.\n",
      "[I 2025-03-21 09:54:38,951] Trial 3 finished with value: 0.25558249332643046 and parameters: {'iterations': 1640, 'learning_rate': 0.14447746112718687, 'depth': 5, 'l2_leaf_reg': 0.00042472707398058225, 'random_strength': 0.0021465011216654484, 'bagging_temperature': 0.46450412719997725, 'border_count': 168, 'min_data_in_leaf': 18}. Best is trial 3 with value: 0.25558249332643046.\n",
      "[I 2025-03-21 09:55:08,669] Trial 4 finished with value: 0.2590641431617161 and parameters: {'iterations': 662, 'learning_rate': 0.2521267904777921, 'depth': 10, 'l2_leaf_reg': 0.18861495878553936, 'random_strength': 5.514725787121931e-06, 'bagging_temperature': 0.9767211400638387, 'border_count': 185, 'min_data_in_leaf': 45}. Best is trial 3 with value: 0.25558249332643046.\n",
      "[I 2025-03-21 09:55:09,073] Trial 5 finished with value: 0.9484147305321884 and parameters: {'iterations': 805, 'learning_rate': 0.05388108577817234, 'depth': 4, 'l2_leaf_reg': 1.527156759251193, 'random_strength': 2.133142332373004e-06, 'bagging_temperature': 6.62522284353982, 'border_count': 101, 'min_data_in_leaf': 53}. Best is trial 3 with value: 0.25558249332643046.\n",
      "[I 2025-03-21 09:55:09,618] Trial 6 finished with value: 1.0054135325636562 and parameters: {'iterations': 1867, 'learning_rate': 0.01875220945578641, 'depth': 10, 'l2_leaf_reg': 0.09466630153726856, 'random_strength': 2.854239907497756, 'bagging_temperature': 8.948273504276488, 'border_count': 165, 'min_data_in_leaf': 93}. Best is trial 3 with value: 0.25558249332643046.\n",
      "[I 2025-03-21 09:55:10,011] Trial 7 finished with value: 1.0078392249066304 and parameters: {'iterations': 721, 'learning_rate': 0.01947558230629543, 'depth': 4, 'l2_leaf_reg': 8.471746987003668e-06, 'random_strength': 3.148441347423712e-05, 'bagging_temperature': 2.713490317738959, 'border_count': 217, 'min_data_in_leaf': 36}. Best is trial 3 with value: 0.25558249332643046.\n",
      "[I 2025-03-21 09:55:10,394] Trial 8 finished with value: 0.9344893528692294 and parameters: {'iterations': 1202, 'learning_rate': 0.06333268775321843, 'depth': 4, 'l2_leaf_reg': 0.16587190283399655, 'random_strength': 4.6876566400928895e-08, 'bagging_temperature': 9.868869366005173, 'border_count': 204, 'min_data_in_leaf': 20}. Best is trial 3 with value: 0.25558249332643046.\n",
      "[I 2025-03-21 09:55:25,497] Trial 9 finished with value: 0.2560227570659373 and parameters: {'iterations': 513, 'learning_rate': 0.1601531217136121, 'depth': 8, 'l2_leaf_reg': 0.03639690979811287, 'random_strength': 0.08738424135626986, 'bagging_temperature': 0.7404465173409036, 'border_count': 112, 'min_data_in_leaf': 12}. Best is trial 3 with value: 0.25558249332643046.\n",
      "[I 2025-03-21 09:55:25,901] Trial 10 finished with value: 1.0248000201725955 and parameters: {'iterations': 2806, 'learning_rate': 0.010206070557576998, 'depth': 6, 'l2_leaf_reg': 1.4509648127973841e-08, 'random_strength': 0.0012317365144257659, 'bagging_temperature': 4.268128953833139, 'border_count': 246, 'min_data_in_leaf': 2}. Best is trial 3 with value: 0.25558249332643046.\n",
      "[I 2025-03-21 09:55:26,307] Trial 11 finished with value: 0.8399172965909225 and parameters: {'iterations': 2459, 'learning_rate': 0.12995292919665938, 'depth': 6, 'l2_leaf_reg': 0.0010634634713376783, 'random_strength': 0.028069888024895767, 'bagging_temperature': 0.36851297059371274, 'border_count': 135, 'min_data_in_leaf': 2}. Best is trial 3 with value: 0.25558249332643046.\n",
      "[I 2025-03-21 09:55:26,739] Trial 12 finished with value: 0.8236487467243517 and parameters: {'iterations': 2225, 'learning_rate': 0.13610581388233617, 'depth': 8, 'l2_leaf_reg': 5.1842349444906845e-05, 'random_strength': 0.07129711872763284, 'bagging_temperature': 3.456937452482668, 'border_count': 136, 'min_data_in_leaf': 66}. Best is trial 3 with value: 0.25558249332643046.\n",
      "[I 2025-03-21 09:55:27,208] Trial 13 finished with value: 0.7977471741527411 and parameters: {'iterations': 1602, 'learning_rate': 0.16078214997697196, 'depth': 6, 'l2_leaf_reg': 0.007522596201789534, 'random_strength': 0.00017552191617590726, 'bagging_temperature': 5.594890193370018, 'border_count': 155, 'min_data_in_leaf': 18}. Best is trial 3 with value: 0.25558249332643046.\n",
      "[I 2025-03-21 09:55:27,641] Trial 14 finished with value: 0.8845232821036749 and parameters: {'iterations': 1061, 'learning_rate': 0.09548424890644631, 'depth': 8, 'l2_leaf_reg': 2.727583689440586e-07, 'random_strength': 5.38103963800053, 'bagging_temperature': 0.1255066692233796, 'border_count': 122, 'min_data_in_leaf': 25}. Best is trial 3 with value: 0.25558249332643046.\n",
      "[I 2025-03-21 09:55:28,091] Trial 15 finished with value: 0.7783656011104418 and parameters: {'iterations': 2975, 'learning_rate': 0.19779129034285928, 'depth': 5, 'l2_leaf_reg': 0.0002890407859667256, 'random_strength': 0.005279169065885878, 'bagging_temperature': 6.646179710147847, 'border_count': 177, 'min_data_in_leaf': 9}. Best is trial 3 with value: 0.25558249332643046.\n",
      "[I 2025-03-21 09:55:28,503] Trial 16 finished with value: 0.8903243041745323 and parameters: {'iterations': 527, 'learning_rate': 0.08429542674453877, 'depth': 8, 'l2_leaf_reg': 0.012295412400013703, 'random_strength': 0.3510982443147044, 'bagging_temperature': 2.9083221954323895, 'border_count': 33, 'min_data_in_leaf': 64}. Best is trial 3 with value: 0.25558249332643046.\n",
      "[I 2025-03-21 09:55:28,919] Trial 17 finished with value: 0.9703381192634977 and parameters: {'iterations': 997, 'learning_rate': 0.03578558767488059, 'depth': 7, 'l2_leaf_reg': 0.0002182377440339875, 'random_strength': 0.0001310805789398669, 'bagging_temperature': 4.573462577401825, 'border_count': 105, 'min_data_in_leaf': 33}. Best is trial 3 with value: 0.25558249332643046.\n",
      "[I 2025-03-21 09:55:29,363] Trial 18 finished with value: 0.7754364891632346 and parameters: {'iterations': 1592, 'learning_rate': 0.2041095079342333, 'depth': 5, 'l2_leaf_reg': 0.016109046194566698, 'random_strength': 0.05113529097760563, 'bagging_temperature': 0.8210490446393415, 'border_count': 255, 'min_data_in_leaf': 13}. Best is trial 3 with value: 0.25558249332643046.\n",
      "[I 2025-03-21 09:55:29,812] Trial 19 finished with value: 0.9713633068455586 and parameters: {'iterations': 2342, 'learning_rate': 0.03410098377122444, 'depth': 9, 'l2_leaf_reg': 2.7198158043652316e-05, 'random_strength': 0.0009789509758723071, 'bagging_temperature': 3.601046426152309, 'border_count': 78, 'min_data_in_leaf': 53}. Best is trial 3 with value: 0.25558249332643046.\n"
     ]
    }
   ],
   "execution_count": 30
  },
  {
   "metadata": {
    "ExecuteTime": {
     "end_time": "2025-03-21T08:55:29.968900Z",
     "start_time": "2025-03-21T08:55:29.958384Z"
    }
   },
   "cell_type": "code",
   "source": [
    "optuna_history = {\n",
    "    'Numer próby': list(range(1, len(study.trials) + 1)),\n",
    "    'RMSE': [t.value for t in study.trials]\n",
    "}"
   ],
   "id": "7314aeac6888b7c0",
   "outputs": [],
   "execution_count": 31
  },
  {
   "metadata": {
    "ExecuteTime": {
     "end_time": "2025-03-21T08:55:30.515772Z",
     "start_time": "2025-03-21T08:55:30.101721Z"
    }
   },
   "cell_type": "code",
   "source": [
    "plt.figure(figsize=(10, 6))\n",
    "plt.plot(optuna_history['Numer próby'], optuna_history['RMSE'], marker='o')\n",
    "plt.title('Historia optymalizacji Optuna')\n",
    "plt.xlabel('Numer próby')\n",
    "plt.ylabel('RMSE (skala logarytmiczna)')\n",
    "plt.grid(True)"
   ],
   "id": "a18a59cf94ee1af9",
   "outputs": [
    {
     "data": {
      "text/plain": [
       "<Figure size 1000x600 with 1 Axes>"
      ],
      "image/png": "[encoded data removed]"
     },
     "metadata": {},
     "output_type": "display_data"
    }
   ],
   "execution_count": 32
  },
  {
   "metadata": {
    "ExecuteTime": {
     "end_time": "2025-03-21T08:55:30.852002Z",
     "start_time": "2025-03-21T08:55:30.651440Z"
    }
   },
   "cell_type": "code",
   "source": [
    "param_importance = optuna.importance.get_param_importances(study)\n",
    "importance_df = pd.DataFrame(list(param_importance.items()), columns=['Parameter', 'Importance'])\n",
    "importance_df = importance_df.sort_values('Importance', ascending=False)"
   ],
   "id": "5188a280dede0ca9",
   "outputs": [],
   "execution_count": 33
  },
  {
   "metadata": {
    "ExecuteTime": {
     "end_time": "2025-03-21T08:55:31.157328Z",
     "start_time": "2025-03-21T08:55:30.987590Z"
    }
   },
   "cell_type": "code",
   "source": [
    "\n",
    "plt.figure(figsize=(10, 6))\n",
    "plt.barh(importance_df['Parameter'], importance_df['Importance'])\n",
    "plt.title('Ważność hiperparametrów')\n",
    "plt.xlabel('Ważność')\n",
    "plt.tight_layout()"
   ],
   "id": "b29c75efd47e17ec",
   "outputs": [
    {
     "data": {
      "text/plain": [
       "<Figure size 1000x600 with 1 Axes>"
      ],
      "image/png": "[encoded data removed]"
     },
     "metadata": {},
     "output_type": "display_data"
    }
   ],
   "execution_count": 34
  },
  {
   "metadata": {
    "ExecuteTime": {
     "end_time": "2025-03-21T08:55:31.300821Z",
     "start_time": "2025-03-21T08:55:31.296620Z"
    }
   },
   "cell_type": "code",
   "source": [
    "best_params = study.best_params\n",
    "best_params['verbose'] = 0 \n",
    "final_model = cb.CatBoostRegressor(**best_params)"
   ],
   "id": "4d5db5e3a4da005b",
   "outputs": [],
   "execution_count": 35
  },
  {
   "metadata": {
    "ExecuteTime": {
     "end_time": "2025-03-21T08:55:37.621521Z",
     "start_time": "2025-03-21T08:55:31.437624Z"
    }
   },
   "cell_type": "code",
   "source": "final_model.fit(X_train, y_train)",
   "id": "8e2ad0891c3ce818",
   "outputs": [
    {
     "data": {
      "text/plain": [
       "<catboost.core.CatBoostRegressor at 0x203013b9f40>"
      ]
     },
     "execution_count": 36,
     "metadata": {},
     "output_type": "execute_result"
    }
   ],
   "execution_count": 36
  },
  {
   "metadata": {
    "ExecuteTime": {
     "end_time": "2025-03-21T08:55:37.772246Z",
     "start_time": "2025-03-21T08:55:37.758474Z"
    }
   },
   "cell_type": "code",
   "source": "y_pred_log = final_model.predict(X_test)",
   "id": "3a0dce4d6fb433ba",
   "outputs": [],
   "execution_count": 37
  },
  {
   "metadata": {
    "ExecuteTime": {
     "end_time": "2025-03-21T08:55:37.910520Z",
     "start_time": "2025-03-21T08:55:37.906998Z"
    }
   },
   "cell_type": "code",
   "source": "y_pred = np.expm1(y_pred_log)",
   "id": "91f330638c625ac3",
   "outputs": [],
   "execution_count": 38
  },
  {
   "metadata": {
    "ExecuteTime": {
     "end_time": "2025-03-21T08:55:38.114011Z",
     "start_time": "2025-03-21T08:55:38.049567Z"
    }
   },
   "cell_type": "code",
   "source": [
    "submission = pd.DataFrame({\n",
    "    'ID': test_ids,\n",
    "    'Cena': y_pred\n",
    "})\n",
    "\n",
    "submission_path = 'submission.csv'\n",
    "submission.to_csv(submission_path, index=False)"
   ],
   "id": "6f3ee6fea4f87e0d",
   "outputs": [],
   "execution_count": 39
  },
  {
   "metadata": {
    "ExecuteTime": {
     "end_time": "2025-03-21T08:55:38.266646Z",
     "start_time": "2025-03-21T08:55:38.260093Z"
    }
   },
   "cell_type": "code",
   "source": "submission['Cena'].describe()",
   "id": "2c60eaa43bd81518",
   "outputs": [
    {
     "data": {
      "text/plain": [
       "count    7.290700e+04\n",
       "mean     6.186865e+04\n",
       "std      8.024084e+04\n",
       "min      1.322697e+03\n",
       "25%      1.770105e+04\n",
       "50%      3.549708e+04\n",
       "75%      7.512303e+04\n",
       "max      2.628627e+06\n",
       "Name: Cena, dtype: float64"
      ]
     },
     "execution_count": 40,
     "metadata": {},
     "output_type": "execute_result"
    }
   ],
   "execution_count": 40
  },
  {
   "metadata": {
    "ExecuteTime": {
     "end_time": "2025-03-21T08:55:38.567026Z",
     "start_time": "2025-03-21T08:55:38.415812Z"
    }
   },
   "cell_type": "code",
   "source": [
    "\n",
    "plt.figure(figsize=(10, 6))\n",
    "plt.hist(submission['Cena'], bins=50, alpha=0.7)\n",
    "plt.title('Rozkład przewidywanych cen')\n",
    "plt.xlabel('Cena (PLN)')\n",
    "plt.ylabel('Liczba samochodów')"
   ],
   "id": "fbd476c2f5085e52",
   "outputs": [
    {
     "data": {
      "text/plain": [
       "<Figure size 1000x600 with 1 Axes>"
      ],
      "image/png": "[encoded data removed]"
     },
     "metadata": {},
     "output_type": "display_data"
    }
   ],
   "execution_count": 41
  },
  {
   "metadata": {
    "ExecuteTime": {
     "end_time": "2025-03-21T08:55:38.591644Z",
     "start_time": "2025-03-21T08:55:38.585367Z"
    }
   },
   "cell_type": "code",
   "source": [
    "feature_importance = final_model.get_feature_importance()\n",
    "feature_importance_df = pd.DataFrame({\n",
    "    'Feature': X_train.columns,\n",
    "    'Importance': feature_importance\n",
    "}).sort_values('Importance', ascending=False).head(20)"
   ],
   "id": "c41aa2990de6ca88",
   "outputs": [],
   "execution_count": 42
  },
  {
   "metadata": {
    "ExecuteTime": {
     "end_time": "2025-03-21T08:55:38.886781Z",
     "start_time": "2025-03-21T08:55:38.600159Z"
    }
   },
   "cell_type": "code",
   "source": [
    "plt.figure(figsize=(12, 8))\n",
    "sns.barplot(x='Importance', y='Feature', data=feature_importance_df)\n",
    "plt.title('20 najważniejszych cech w modelu')\n",
    "plt.tight_layout()"
   ],
   "id": "cb6aafa352a34b12",
   "outputs": [
    {
     "data": {
      "text/plain": [
       "<Figure size 1200x800 with 1 Axes>"
      ],
      "image/png": "[encoded data removed]"
     },
     "metadata": {},
     "output_type": "display_data"
    }
   ],
   "execution_count": 43
  },
  {
   "metadata": {
    "collapsed": true,
    "ExecuteTime": {
     "end_time": "2025-03-21T08:55:38.908248Z",
     "start_time": "2025-03-21T08:55:38.904244Z"
    }
   },
   "cell_type": "code",
   "source": "print(f\"Najlepszy RMSE z Optuny (skala logarytmiczna): {study.best_value:.6f}\")",
   "id": "initial_id",
   "outputs": [
    {
     "name": "stdout",
     "output_type": "stream",
     "text": [
      "Najlepszy RMSE z Optuny (skala logarytmiczna): 0.255582\n"
     ]
    }
   ],
   "execution_count": 44
  },
  {
   "metadata": {
    "ExecuteTime": {
     "end_time": "2025-03-21T08:55:38.925340Z",
     "start_time": "2025-03-21T08:55:38.923317Z"
    }
   },
   "cell_type": "code",
   "source": "",
   "id": "4866a32e52bfa3c9",
   "outputs": [],
   "execution_count": null
  }
 ],
 "metadata": {
  "kernelspec": {
   "display_name": "Python 3",
   "language": "python",
   "name": "python3"
  },
  "language_info": {
   "codemirror_mode": {
    "name": "ipython",
    "version": 2
   },
   "file_extension": ".py",
   "mimetype": "text/x-python",
   "name": "python",
   "nbconvert_exporter": "python",
   "pygments_lexer": "ipython2",
   "version": "2.7.6"
  }
 },
 "nbformat": 4,
 "nbformat_minor": 5
}
