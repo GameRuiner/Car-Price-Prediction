{
 "cells": [
  {
   "metadata": {},
   "cell_type": "code",
   "outputs": [],
   "execution_count": null,
   "source": [
    "from sklearn.metrics import mean_squared_error\n",
    "import pandas as pd\n",
    "import numpy as np\n",
    "from datetime import datetime\n",
    "from sklearn.model_selection import KFold, train_test_split\n",
    "import catboost as cb\n",
    "import xgboost as xgb\n",
    "import optuna\n",
    "from optuna.integration import CatBoostPruningCallback\n",
    "import lightgbm as lgb\n",
    "import warnings\n",
    "warnings.filterwarnings('ignore')"
   ],
   "id": "2006de7feef11667"
  },
  {
   "metadata": {},
   "cell_type": "code",
   "outputs": [],
   "execution_count": null,
   "source": [
    "train_data = pd.read_csv('../data/raw/sales_ads_train.csv')\n",
    "test_data = pd.read_csv('../data/raw/sales_ads_test.csv')"
   ],
   "id": "a74dedd5a35323d1"
  },
  {
   "metadata": {},
   "cell_type": "code",
   "outputs": [],
   "execution_count": null,
   "source": [
    "print(f\"Train data shape: {train_data.shape}\")\n",
    "print(f\"Test data shape: {test_data.shape}\")"
   ],
   "id": "3039321d31b9b76c"
  },
  {
   "metadata": {},
   "cell_type": "code",
   "outputs": [],
   "execution_count": null,
   "source": "print(train_data['Cena'].describe())",
   "id": "3c738c6f03b615f8"
  },
  {
   "metadata": {},
   "cell_type": "code",
   "outputs": [],
   "execution_count": null,
   "source": [
    "train_data['data_source'] = 'original'\n",
    "train_data"
   ],
   "id": "def5626f880b588b"
  },
  {
   "metadata": {},
   "cell_type": "code",
   "outputs": [],
   "execution_count": null,
   "source": "combined_train_data = train_data.copy()",
   "id": "dac803da181858aa"
  },
  {
   "metadata": {},
   "cell_type": "code",
   "outputs": [],
   "execution_count": null,
   "source": "test_data['data_source'] = 'test'",
   "id": "aa99fc4a49c85fee"
  },
  {
   "metadata": {},
   "cell_type": "code",
   "outputs": [],
   "execution_count": null,
   "source": [
    "test_ids = test_data['ID'].values\n",
    "combined_train_data['is_train'] = 1\n",
    "test_data['is_train'] = 0\n",
    "all_data = pd.concat([combined_train_data, test_data], axis=0, ignore_index=True)"
   ],
   "id": "10ce746db279eab1"
  },
  {
   "metadata": {},
   "cell_type": "code",
   "outputs": [],
   "execution_count": null,
   "source": [
    "KURS_EUR_PLN = 4.5\n",
    "\n",
    "def przelicz_na_pln(row):\n",
    "    if pd.notna(row['Waluta']) and row['Waluta'] == 'EUR':\n",
    "        return row['Cena'] * KURS_EUR_PLN\n",
    "    else:\n",
    "        return row['Cena']"
   ],
   "id": "ccf2ae184bd85193"
  },
  {
   "metadata": {},
   "cell_type": "code",
   "outputs": [],
   "execution_count": null,
   "source": "all_data['Cena_PLN'] = all_data.apply(przelicz_na_pln, axis=1)",
   "id": "bc7c603a2dfa5e02"
  },
  {
   "metadata": {},
   "cell_type": "code",
   "outputs": [],
   "execution_count": null,
   "source": [
    "median_price = all_data.loc[all_data['is_train'] == 1, 'Cena_PLN'].median()\n",
    "all_data['Cena_PLN'] = all_data['Cena_PLN'].fillna(median_price)"
   ],
   "id": "abb316076e22ff9a"
  },
  {
   "metadata": {},
   "cell_type": "code",
   "outputs": [],
   "execution_count": null,
   "source": "all_data['log_Cena'] = np.log1p(all_data['Cena_PLN'])",
   "id": "38e6d10c1c21996f"
  },
  {
   "metadata": {},
   "cell_type": "code",
   "outputs": [],
   "execution_count": null,
   "source": [
    "current_year = datetime.now().year\n",
    "all_data['Wiek_pojazdu'] = current_year - all_data['Rok_produkcji']"
   ],
   "id": "20dc47bc46581821"
  },
  {
   "metadata": {},
   "cell_type": "code",
   "outputs": [],
   "execution_count": null,
   "source": "all_data['log_Przebieg_km'] = np.log1p(all_data['Przebieg_km'])",
   "id": "e0ffc4add2e7913c"
  },
  {
   "metadata": {},
   "cell_type": "code",
   "outputs": [],
   "execution_count": null,
   "source": [
    "\n",
    "all_data['Efektywnosc_silnika'] = all_data['Moc_KM'] / (all_data['Pojemnosc_cm3'] / 1000)\n",
    "all_data['Efektywnosc_silnika'].replace([np.inf, -np.inf], np.nan, inplace=True)\n",
    "all_data['Efektywnosc_silnika'] = all_data['Efektywnosc_silnika'].fillna(all_data['Efektywnosc_silnika'].median())"
   ],
   "id": "3db5852c9336e616"
  },
  {
   "metadata": {},
   "cell_type": "code",
   "outputs": [],
   "execution_count": null,
   "source": [
    "\n",
    "all_data['Sredni_roczny_przebieg'] = all_data['Przebieg_km'] / all_data['Wiek_pojazdu'].replace(0, 0.5)\n",
    "all_data['Sredni_roczny_przebieg'].replace([np.inf, -np.inf], np.nan, inplace=True)\n",
    "all_data['Sredni_roczny_przebieg'] = all_data['Sredni_roczny_przebieg'].fillna(all_data['Sredni_roczny_przebieg'].median())"
   ],
   "id": "ce74ce179bcf1ee3"
  },
  {
   "metadata": {},
   "cell_type": "code",
   "outputs": [],
   "execution_count": null,
   "source": [
    "if 'Wyposazenie' in all_data.columns:\n",
    "    if isinstance(all_data['Wyposazenie'].iloc[0], str):\n",
    "        all_data['Wyposazenie'] = all_data['Wyposazenie'].apply(lambda x: eval(x) if isinstance(x, str) and x.startswith('[') else [])\n",
    "    all_data['Liczba_elementow_wyposazenia'] = all_data['Wyposazenie'].apply(len)\n",
    "\n",
    "    premium_features = [\n",
    "        'Leather upholstery', 'GPS navigation', 'Heated front seats', \n",
    "        'Xenon lights', 'LED lights', 'Automatic air conditioning',\n",
    "        'Panoramic roof', 'Electrically adjustable seats', 'Active cruise control'\n",
    "    ]\n",
    "    for feature in premium_features:\n",
    "        all_data[f'ma_{feature.replace(\" \", \"_\")}'] = all_data['Wyposazenie'].apply(\n",
    "            lambda x: 1 if isinstance(x, list) and any(feature in item for item in x) else 0\n",
    "        )"
   ],
   "id": "93666f603eb1c933"
  },
  {
   "metadata": {},
   "cell_type": "code",
   "outputs": [],
   "execution_count": null,
   "source": [
    "numeric_cols = ['Rok_produkcji', 'Przebieg_km', 'Moc_KM', 'Pojemnosc_cm3', \n",
    "                'Liczba_drzwi', 'Liczba_elementow_wyposazenia', 'Efektywnosc_silnika',\n",
    "                'Wiek_pojazdu', 'log_Przebieg_km', 'Sredni_roczny_przebieg']\n",
    "\n",
    "for col in numeric_cols:\n",
    "    if col in all_data.columns and all_data[col].isnull().sum() > 0:\n",
    "        median_val = all_data.loc[(all_data['is_train'] == 1) & (all_data['data_source'] == 'original'), col].median()\n",
    "        all_data[col] = all_data[col].fillna(median_val)"
   ],
   "id": "55583e66de973bfa"
  },
  {
   "metadata": {},
   "cell_type": "code",
   "outputs": [],
   "execution_count": null,
   "source": [
    "categorical_cols = ['Stan', 'Marka_pojazdu', 'Model_pojazdu', 'Rodzaj_paliwa', \n",
    "                   'Naped', 'Skrzynia_biegow', 'Typ_nadwozia', 'Kolor', 'Kraj_pochodzenia']\n",
    "\n",
    "for col in categorical_cols:\n",
    "    if col in all_data.columns and all_data[col].isnull().sum() > 0:\n",
    "        all_data[col] = all_data[col].fillna('nieznany')"
   ],
   "id": "58b1a9f5af588780"
  },
  {
   "metadata": {},
   "cell_type": "code",
   "outputs": [],
   "execution_count": null,
   "source": [
    "train_marka_mean_price = all_data.loc[(all_data['is_train'] == 1) & \n",
    "                                      (all_data['data_source'] == 'original')].groupby('Marka_pojazdu')['log_Cena'].mean()\n",
    "all_data['Marka_avg_price'] = all_data['Marka_pojazdu'].map(train_marka_mean_price)\n",
    "all_data['Marka_avg_price'] = all_data['Marka_avg_price'].fillna(train_marka_mean_price.mean())"
   ],
   "id": "cc8bf771071b1803"
  },
  {
   "metadata": {},
   "cell_type": "code",
   "outputs": [],
   "execution_count": null,
   "source": [
    "train_model_mean_price = all_data.loc[(all_data['is_train'] == 1) & \n",
    "                                      (all_data['data_source'] == 'original')].groupby(['Marka_pojazdu', 'Model_pojazdu'])['log_Cena'].mean()\n",
    "all_data['Model_avg_price'] = all_data.apply(\n",
    "    lambda x: train_model_mean_price.get((x['Marka_pojazdu'], x['Model_pojazdu']), np.nan), axis=1)\n",
    "all_data['Model_avg_price'] = all_data['Model_avg_price'].fillna(all_data['Marka_avg_price'])"
   ],
   "id": "262d9efc93a05dd6"
  },
  {
   "metadata": {},
   "cell_type": "code",
   "outputs": [],
   "execution_count": null,
   "source": [
    "color_counts = all_data.loc[all_data['is_train'] == 1, 'Kolor'].value_counts(normalize=True)\n",
    "all_data['Kolor_freq'] = all_data['Kolor'].map(color_counts)\n",
    "all_data['Kolor_freq'] = all_data['Kolor_freq'].fillna(color_counts.min())"
   ],
   "id": "ce062cc5cd7f5f00"
  },
  {
   "metadata": {},
   "cell_type": "code",
   "outputs": [],
   "execution_count": null,
   "source": "all_data['Wiek_x_Przebieg'] = all_data['Wiek_pojazdu'] * all_data['log_Przebieg_km']",
   "id": "e8b6b8fdc3af4c16"
  },
  {
   "metadata": {},
   "cell_type": "code",
   "outputs": [],
   "execution_count": null,
   "source": "all_data['Moc_x_Pojemnosc'] = all_data['Moc_KM'] * all_data['Pojemnosc_cm3'] / 1000",
   "id": "a56cc3f729e388c7"
  },
  {
   "metadata": {},
   "cell_type": "code",
   "outputs": [],
   "execution_count": null,
   "source": [
    "if 'Liczba_elementow_wyposazenia' in all_data.columns:\n",
    "    all_data['Wiek_per_Wyposazenie'] = all_data['Wiek_pojazdu'] / (all_data['Liczba_elementow_wyposazenia'] + 1)"
   ],
   "id": "8391ce43f6138f4e"
  },
  {
   "metadata": {},
   "cell_type": "code",
   "outputs": [],
   "execution_count": null,
   "source": "all_data['Oryginalnie_EUR'] = all_data['Waluta'].apply(lambda x: 1 if pd.notna(x) and x == 'EUR' else 0)",
   "id": "ec2722196a3eb295"
  },
  {
   "metadata": {},
   "cell_type": "code",
   "outputs": [],
   "execution_count": null,
   "source": [
    "all_data_encoded = pd.get_dummies(all_data, columns=[\n",
    "    'Stan', 'Rodzaj_paliwa', 'Naped', 'Skrzynia_biegow', 'Typ_nadwozia'\n",
    "])"
   ],
   "id": "1106acd8d869d713"
  },
  {
   "metadata": {},
   "cell_type": "code",
   "outputs": [],
   "execution_count": null,
   "source": [
    "for cat_col in ['Marka_pojazdu', 'Model_pojazdu', 'Kolor', 'Kraj_pochodzenia']:\n",
    "    if cat_col in all_data.columns:\n",
    "        target_means = all_data.loc[(all_data['is_train'] == 1) & \n",
    "                                    (all_data['data_source'] == 'original')].groupby(cat_col)['log_Cena'].mean()\n",
    "        all_data_encoded[f'{cat_col}_target_enc'] = all_data[cat_col].map(target_means)\n",
    "        all_data_encoded[f'{cat_col}_target_enc'].fillna(target_means.mean(), inplace=True)"
   ],
   "id": "c980eba138ac96ac"
  },
  {
   "metadata": {},
   "cell_type": "code",
   "outputs": [],
   "execution_count": null,
   "source": [
    "features = [\n",
    "    'Wiek_pojazdu', 'log_Przebieg_km', 'Moc_KM', 'Pojemnosc_cm3', \n",
    "    'Liczba_elementow_wyposazenia', 'Efektywnosc_silnika', 'Sredni_roczny_przebieg',\n",
    "    'Oryginalnie_EUR',\n",
    "    \n",
    "    'Marka_avg_price', 'Model_avg_price', 'Kolor_freq',\n",
    "    \n",
    "    'ma_Leather_upholstery', 'ma_GPS_navigation', 'ma_Heated_front_seats',\n",
    "    'ma_Xenon_lights', 'ma_LED_lights', 'ma_Automatic_air_conditioning',\n",
    "    'ma_Panoramic_roof', 'ma_Electrically_adjustable_seats', 'ma_Active_cruise_control',\n",
    "    \n",
    "    'Wiek_x_Przebieg', 'Moc_x_Pojemnosc', 'Wiek_per_Wyposazenie',\n",
    "    \n",
    "    'Marka_pojazdu_target_enc', 'Model_pojazdu_target_enc', \n",
    "    'Kolor_target_enc', 'Kraj_pochodzenia_target_enc'\n",
    "]\n",
    "\n",
    "features += [col for col in all_data_encoded.columns if col.startswith(('Stan_', 'Rodzaj_paliwa_', \n",
    "                                                        'Naped_', 'Skrzynia_biegow_', 'Typ_nadwozia_'))]"
   ],
   "id": "d5979f042d7284ae"
  },
  {
   "metadata": {},
   "cell_type": "code",
   "outputs": [],
   "execution_count": null,
   "source": [
    "X_all = all_data_encoded[features].copy()\n",
    "\n",
    "missing = X_all.isnull().sum()\n",
    "if missing.sum() > 0:\n",
    "    print(f\"Brakujące wartości w danych: {missing[missing > 0]}\")\n",
    "    \n",
    "    for col in X_all.columns:\n",
    "        if X_all[col].isnull().sum() > 0:\n",
    "            if X_all[col].dtype.kind in 'ifc':\n",
    "                median_val = all_data_encoded.loc[(all_data_encoded['is_train'] == 1) & \n",
    "                                                  (all_data_encoded['data_source'] == 'original'), col].median()\n",
    "                X_all[col] = X_all[col].fillna(median_val)\n",
    "            else:\n",
    "                X_all[col] = X_all[col].fillna('nieznany')"
   ],
   "id": "55310deb2bc0203"
  },
  {
   "metadata": {},
   "cell_type": "code",
   "outputs": [],
   "execution_count": null,
   "source": [
    "X_train_all = X_all[all_data_encoded['is_train'] == 1]\n",
    "y_train_all = all_data_encoded.loc[all_data_encoded['is_train'] == 1, 'log_Cena']\n",
    "X_test = X_all[all_data_encoded['is_train'] == 0]\n",
    "\n",
    "X_train, X_val, y_train, y_val = train_test_split(\n",
    "    X_train_all, y_train_all, test_size=0.2, random_state=42\n",
    ")"
   ],
   "id": "c01fa0ffab92a286"
  },
  {
   "metadata": {},
   "cell_type": "code",
   "outputs": [],
   "execution_count": null,
   "source": [
    "def calculate_rmse(y_true, y_pred):\n",
    "    return np.sqrt(mean_squared_error(y_true, y_pred))"
   ],
   "id": "efe78a6105d4f40d"
  },
  {
   "metadata": {},
   "cell_type": "code",
   "outputs": [],
   "execution_count": null,
   "source": [
    "def objective_catboost(trial):\n",
    "    param = {\n",
    "        \"iterations\": trial.suggest_int(\"iterations\", 500, 3000),\n",
    "        \"learning_rate\": trial.suggest_float(\"learning_rate\", 0.01, 0.3, log=True),\n",
    "        \"depth\": trial.suggest_int(\"depth\", 4, 10),\n",
    "        \"l2_leaf_reg\": trial.suggest_float(\"l2_leaf_reg\", 1e-8, 10.0, log=True),\n",
    "        \"random_strength\": trial.suggest_float(\"random_strength\", 1e-8, 10.0, log=True),\n",
    "        \"bagging_temperature\": trial.suggest_float(\"bagging_temperature\", 0, 10.0),\n",
    "        \"border_count\": trial.suggest_int(\"border_count\", 32, 255),\n",
    "        \"min_data_in_leaf\": trial.suggest_int(\"min_data_in_leaf\", 1, 100),\n",
    "        \"verbose\": False,\n",
    "        \"random_seed\": 42\n",
    "    }\n",
    "    \n",
    "    kf = KFold(n_splits=5, shuffle=True, random_state=42)\n",
    "    log_rmse_scores = []\n",
    "    \n",
    "    for train_idx, val_idx in kf.split(X_train_all):\n",
    "        X_train_fold, X_val_fold = X_train_all.iloc[train_idx], X_train_all.iloc[val_idx]\n",
    "        y_train_fold, y_val_fold = y_train_all.iloc[train_idx], y_train_all.iloc[val_idx]\n",
    "        \n",
    "        pruning_callback = CatBoostPruningCallback(trial, \"RMSE\")\n",
    "        \n",
    "        model = cb.CatBoostRegressor(**param)\n",
    "        model.fit(\n",
    "            X_train_fold, \n",
    "            y_train_fold,\n",
    "            eval_set=[(X_val_fold, y_val_fold)],\n",
    "            callbacks=[pruning_callback],\n",
    "            early_stopping_rounds=100,\n",
    "            verbose=0\n",
    "        )\n",
    "        \n",
    "        y_val_pred_log = model.predict(X_val_fold)\n",
    "        \n",
    "        log_rmse = calculate_rmse(y_val_fold, y_val_pred_log)\n",
    "        log_rmse_scores.append(log_rmse)\n",
    "    \n",
    "    return np.mean(log_rmse_scores)\n",
    "\n",
    "study_catboost = optuna.create_study(\n",
    "    direction=\"minimize\",\n",
    "    pruner=optuna.pruners.MedianPruner(n_warmup_steps=10),\n",
    "    sampler=optuna.samplers.TPESampler(seed=42)\n",
    ")"
   ],
   "id": "2396d2f93cdb1cc0"
  },
  {
   "metadata": {},
   "cell_type": "code",
   "outputs": [],
   "execution_count": null,
   "source": [
    "n_trials = 100\n",
    "study_catboost.optimize(objective_catboost, n_trials=n_trials)"
   ],
   "id": "89dd937a3cca0d85"
  },
  {
   "metadata": {},
   "cell_type": "code",
   "outputs": [],
   "execution_count": null,
   "source": [
    "best_params_catboost = study_catboost.best_params\n",
    "print(f\"Najlepsze parametry CatBoost: {best_params_catboost}\")\n",
    "print(f\"Najlepszy RMSE CatBoost: {study_catboost.best_value:.6f}\")"
   ],
   "id": "a19f92e2ea202cbf"
  },
  {
   "metadata": {},
   "cell_type": "code",
   "outputs": [],
   "execution_count": null,
   "source": [
    "def objective_xgboost(trial):\n",
    "    param = {\n",
    "        \"n_estimators\": trial.suggest_int(\"n_estimators\", 500, 2000),\n",
    "        \"learning_rate\": trial.suggest_float(\"learning_rate\", 0.01, 0.3, log=True),\n",
    "        \"max_depth\": trial.suggest_int(\"max_depth\", 3, 10),\n",
    "        \"subsample\": trial.suggest_float(\"subsample\", 0.6, 1.0),\n",
    "        \"colsample_bytree\": trial.suggest_float(\"colsample_bytree\", 0.6, 1.0),\n",
    "        \"gamma\": trial.suggest_float(\"gamma\", 0, 1.0),\n",
    "        \"reg_alpha\": trial.suggest_float(\"reg_alpha\", 0, 1.0),\n",
    "        \"reg_lambda\": trial.suggest_float(\"reg_lambda\", 0, 1.0),\n",
    "        \"random_state\": 42,\n",
    "    }\n",
    "    \n",
    "    kf = KFold(n_splits=5, shuffle=True, random_state=42)\n",
    "    rmse_scores = []\n",
    "    \n",
    "    for train_idx, val_idx in kf.split(X_train_all):\n",
    "        X_train_fold, X_val_fold = X_train_all.iloc[train_idx], X_train_all.iloc[val_idx]\n",
    "        y_train_fold, y_val_fold = y_train_all.iloc[train_idx], y_train_all.iloc[val_idx]\n",
    "        \n",
    "        model = xgb.XGBRegressor(**param)\n",
    "        model.fit(X_train_fold, y_train_fold)\n",
    "        \n",
    "        y_val_pred = model.predict(X_val_fold)\n",
    "        rmse = np.sqrt(mean_squared_error(y_val_fold, y_val_pred))\n",
    "        rmse_scores.append(rmse)\n",
    "    \n",
    "    return np.mean(rmse_scores)\n",
    "\n",
    "study_xgboost = optuna.create_study(direction=\"minimize\")\n",
    "study_xgboost.optimize(objective_xgboost, n_trials=n_trials)"
   ],
   "id": "c1d6178ad315217"
  },
  {
   "metadata": {},
   "cell_type": "code",
   "outputs": [],
   "execution_count": null,
   "source": [
    "best_params_xgboost = study_xgboost.best_params\n",
    "print(f\"Najlepsze parametry XGBoost: {best_params_xgboost}\")\n",
    "print(f\"Najlepszy RMSE XGBoost: {study_xgboost.best_value:.6f}\")"
   ],
   "id": "c450d0b344306d75"
  },
  {
   "metadata": {},
   "cell_type": "code",
   "outputs": [],
   "execution_count": null,
   "source": [
    "def objective_lightgbm(trial):\n",
    "    param = {\n",
    "        \"n_estimators\": trial.suggest_int(\"n_estimators\", 500, 2000),\n",
    "        \"learning_rate\": trial.suggest_float(\"learning_rate\", 0.01, 0.3, log=True),\n",
    "        \"num_leaves\": trial.suggest_int(\"num_leaves\", 20, 150),\n",
    "        \"max_depth\": trial.suggest_int(\"max_depth\", 3, 12),\n",
    "        \"min_data_in_leaf\": trial.suggest_int(\"min_data_in_leaf\", 5, 100),\n",
    "        \"max_bin\": trial.suggest_int(\"max_bin\", 32, 512),\n",
    "        \"bagging_fraction\": trial.suggest_float(\"bagging_fraction\", 0.6, 1.0),\n",
    "        \"bagging_freq\": trial.suggest_int(\"bagging_freq\", 1, 10),\n",
    "        \"feature_fraction\": trial.suggest_float(\"feature_fraction\", 0.6, 1.0),\n",
    "        \"lambda_l1\": trial.suggest_float(\"lambda_l1\", 1e-8, 10.0, log=True),\n",
    "        \"lambda_l2\": trial.suggest_float(\"lambda_l2\", 1e-8, 10.0, log=True),\n",
    "        \"random_state\": 42,\n",
    "    }\n",
    "    \n",
    "    kf = KFold(n_splits=5, shuffle=True, random_state=42)\n",
    "    rmse_scores = []\n",
    "    \n",
    "    for train_idx, val_idx in kf.split(X_train_all):\n",
    "        X_train_fold, X_val_fold = X_train_all.iloc[train_idx], X_train_all.iloc[val_idx]\n",
    "        y_train_fold, y_val_fold = y_train_all.iloc[train_idx], y_train_all.iloc[val_idx]\n",
    "        \n",
    "        model = lgb.LGBMRegressor(**param)\n",
    "        model.fit(X_train_fold, y_train_fold)\n",
    "        \n",
    "        y_val_pred = model.predict(X_val_fold)\n",
    "        rmse = np.sqrt(mean_squared_error(y_val_fold, y_val_pred))\n",
    "        rmse_scores.append(rmse)\n",
    "    \n",
    "    return np.mean(rmse_scores)\n",
    "\n",
    "study_lightgbm = optuna.create_study(direction=\"minimize\")\n",
    "study_lightgbm.optimize(objective_lightgbm, n_trials=n_trials)"
   ],
   "id": "23478e01ca431d9"
  },
  {
   "metadata": {},
   "cell_type": "code",
   "outputs": [],
   "execution_count": null,
   "source": [
    "best_params_lightgbm = study_lightgbm.best_params\n",
    "print(f\"Najlepsze parametry LightGBM: {best_params_lightgbm}\")\n",
    "print(f\"Najlepszy RMSE LightGBM: {study_lightgbm.best_value:.6f}\")"
   ],
   "id": "427da97bc2f3c61e"
  },
  {
   "metadata": {},
   "cell_type": "code",
   "outputs": [],
   "execution_count": null,
   "source": [
    "final_catboost_params = best_params_catboost.copy()\n",
    "final_catboost_params['verbose'] = 0"
   ],
   "id": "165eb4796a13abd"
  },
  {
   "metadata": {},
   "cell_type": "code",
   "outputs": [],
   "execution_count": null,
   "source": [
    "final_catboost_model = cb.CatBoostRegressor(**final_catboost_params)\n",
    "final_catboost_model.fit(X_train_all, y_train_all)\n",
    "\n",
    "final_xgboost_model = xgb.XGBRegressor(**best_params_xgboost, random_state=42)\n",
    "final_xgboost_model.fit(X_train_all, y_train_all)\n",
    "\n",
    "final_lightgbm_model = lgb.LGBMRegressor(**best_params_lightgbm, random_state=42)\n",
    "final_lightgbm_model.fit(X_train_all, y_train_all)"
   ],
   "id": "67015206720b51b0"
  },
  {
   "metadata": {},
   "cell_type": "code",
   "outputs": [],
   "execution_count": null,
   "source": [
    "def objective_ensemble_weights(trial):\n",
    "    w1 = trial.suggest_float(\"catboost_weight\", 0.1, 0.7)\n",
    "    w2 = trial.suggest_float(\"xgboost_weight\", 0.1, 0.7)\n",
    "    w3 = trial.suggest_float(\"lightgbm_weight\", 0.1, 0.7)\n",
    "    \n",
    "    sum_weights = w1 + w2 + w3\n",
    "    w1 /= sum_weights\n",
    "    w2 /= sum_weights\n",
    "    w3 /= sum_weights\n",
    "    \n",
    "    kf = KFold(n_splits=5, shuffle=True, random_state=42)\n",
    "    rmse_scores = []\n",
    "    \n",
    "    for train_idx, val_idx in kf.split(X_train_all):\n",
    "        X_val_fold = X_train_all.iloc[val_idx]\n",
    "        y_val_fold = y_train_all.iloc[val_idx]\n",
    "        \n",
    "        y_pred_catboost = final_catboost_model.predict(X_val_fold)\n",
    "        y_pred_xgboost = final_xgboost_model.predict(X_val_fold)\n",
    "        y_pred_lightgbm = final_lightgbm_model.predict(X_val_fold)\n",
    "        \n",
    "        y_pred_ensemble = w1 * y_pred_catboost + w2 * y_pred_xgboost + w3 * y_pred_lightgbm\n",
    "        \n",
    "        rmse = np.sqrt(mean_squared_error(y_val_fold, y_pred_ensemble))\n",
    "        rmse_scores.append(rmse)\n",
    "    \n",
    "    return np.mean(rmse_scores)\n",
    "\n",
    "study_ensemble = optuna.create_study(direction=\"minimize\")\n",
    "study_ensemble.optimize(objective_ensemble_weights, n_trials=200)"
   ],
   "id": "39cfb2de7b617306"
  },
  {
   "metadata": {},
   "cell_type": "code",
   "outputs": [],
   "execution_count": null,
   "source": [
    "best_weights = study_ensemble.best_params\n",
    "catboost_weight = best_weights[\"catboost_weight\"]\n",
    "xgboost_weight = best_weights[\"xgboost_weight\"]\n",
    "lightgbm_weight = best_weights[\"lightgbm_weight\"]"
   ],
   "id": "e725c72c835f6ac5"
  },
  {
   "metadata": {},
   "cell_type": "code",
   "outputs": [],
   "execution_count": null,
   "source": [
    "sum_weights = catboost_weight + xgboost_weight + lightgbm_weight\n",
    "catboost_weight /= sum_weights\n",
    "xgboost_weight /= sum_weights\n",
    "lightgbm_weight /= sum_weights"
   ],
   "id": "ebd9b75e9e1b1548"
  },
  {
   "metadata": {},
   "cell_type": "code",
   "outputs": [],
   "execution_count": null,
   "source": [
    "print(f\"Wagi ensembla: CatBoost={catboost_weight:.3f}, XGBoost={xgboost_weight:.3f}, LightGBM={lightgbm_weight:.3f}\")\n",
    "print(f\"Najlepszy RMSE ensembla: {study_ensemble.best_value:.6f}\")"
   ],
   "id": "cb07b93f061d8"
  },
  {
   "metadata": {},
   "cell_type": "code",
   "outputs": [],
   "execution_count": null,
   "source": [
    "y_pred_catboost = final_catboost_model.predict(X_test)\n",
    "y_pred_xgboost = final_xgboost_model.predict(X_test)\n",
    "y_pred_lightgbm = final_lightgbm_model.predict(X_test)\n",
    "\n",
    "y_pred_ensemble_log = catboost_weight * y_pred_catboost + xgboost_weight * y_pred_xgboost + lightgbm_weight * y_pred_lightgbm\n",
    "\n",
    "y_pred_ensemble = np.expm1(y_pred_ensemble_log)\n",
    "\n",
    "test_orig_eur = all_data.loc[all_data['is_train'] == 0, 'Waluta'] == 'EUR'"
   ],
   "id": "31b17b0d6fdead9b"
  },
  {
   "metadata": {},
   "cell_type": "code",
   "outputs": [],
   "execution_count": null,
   "source": [
    "submission = pd.DataFrame({\n",
    "    'ID': test_ids,\n",
    "    'Cena': y_pred_ensemble\n",
    "})\n",
    "\n",
    "submission_path = 'submit.csv'\n",
    "submission.to_csv(submission_path, index=False)"
   ],
   "id": "3ed1129ef3a91c74"
  },
  {
   "metadata": {},
   "cell_type": "markdown",
   "source": "",
   "id": "8a914ee26c2d13b2"
  }
 ],
 "metadata": {
  "kernelspec": {
   "display_name": "Python 3",
   "language": "python",
   "name": "python3"
  },
  "language_info": {
   "codemirror_mode": {
    "name": "ipython",
    "version": 2
   },
   "file_extension": ".py",
   "mimetype": "text/x-python",
   "name": "python",
   "nbconvert_exporter": "python",
   "pygments_lexer": "ipython2",
   "version": "2.7.6"
  }
 },
 "nbformat": 4,
 "nbformat_minor": 5
}
